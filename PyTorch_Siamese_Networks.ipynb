{
  "nbformat": 4,
  "nbformat_minor": 0,
  "metadata": {
    "colab": {
      "name": "PyTorch Siamese Networks.ipynb",
      "provenance": [],
      "collapsed_sections": [],
      "include_colab_link": true
    },
    "kernelspec": {
      "name": "python3",
      "display_name": "Python 3"
    },
    "accelerator": "GPU"
  },
  "cells": [
    {
      "cell_type": "markdown",
      "metadata": {
        "id": "view-in-github",
        "colab_type": "text"
      },
      "source": [
        "<a href=\"https://colab.research.google.com/github/tiravata/2014-slides/blob/master/PyTorch_Siamese_Networks.ipynb\" target=\"_parent\"><img src=\"https://colab.research.google.com/assets/colab-badge.svg\" alt=\"Open In Colab\"/></a>"
      ]
    },
    {
      "cell_type": "code",
      "metadata": {
        "id": "oNI1zrsPLn3K"
      },
      "source": [
        "import torch\n",
        "import torch.nn as nn\n",
        "import torch.nn.functional as F\n",
        "import torchvision\n",
        "import torchvision.transforms as transforms\n",
        "\n",
        "import numpy as np\n",
        "import matplotlib.pyplot as plt\n",
        "\n",
        "from sklearn.utils import shuffle\n",
        "from datetime import datetime\n",
        "from glob import glob\n",
        "from collections import Counter"
      ],
      "execution_count": null,
      "outputs": []
    },
    {
      "cell_type": "code",
      "metadata": {
        "id": "XKKMIhzlBBmE",
        "colab": {
          "base_uri": "https://localhost:8080/",
          "height": 119
        },
        "outputId": "04881637-328e-4970-ee09-e5a4d30c236f"
      },
      "source": [
        "# Useful image utility\n",
        "try:\n",
        "  %tensorflow_version 2.x  # Colab only.\n",
        "except Exception:\n",
        "  pass\n",
        "\n",
        "import tensorflow as tf\n",
        "print(tf.__version__)\n",
        "from keras.preprocessing import image"
      ],
      "execution_count": null,
      "outputs": [
        {
          "output_type": "stream",
          "text": [
            "`%tensorflow_version` only switches the major version: 1.x or 2.x.\n",
            "You set: `2.x  # Colab only.`. This will be interpreted as: `2.x`.\n",
            "\n",
            "\n",
            "TensorFlow is already loaded. Please restart the runtime to change versions.\n",
            "2.3.0\n"
          ],
          "name": "stdout"
        }
      ]
    },
    {
      "cell_type": "code",
      "metadata": {
        "id": "Nu4-H2RHLsj1",
        "colab": {
          "base_uri": "https://localhost:8080/",
          "height": 51
        },
        "outputId": "96939191-d9d7-4e90-dc96-aec5c4c613c3"
      },
      "source": [
        "# data is from: http://vision.ucsd.edu/content/yale-face-database\n",
        "# !wget -nc http://vision.ucsd.edu/datasets/yale_face_dataset_original/yalefaces.zip\n",
        "!wget -nc https://lazyprogrammer.me/course_files/yalefaces.zip"
      ],
      "execution_count": null,
      "outputs": [
        {
          "output_type": "stream",
          "text": [
            "File ‘yalefaces.zip’ already there; not retrieving.\n",
            "\n"
          ],
          "name": "stdout"
        }
      ]
    },
    {
      "cell_type": "code",
      "metadata": {
        "id": "cuks58mML08D",
        "colab": {
          "base_uri": "https://localhost:8080/",
          "height": 68
        },
        "outputId": "39a9a022-2388-41e1-e130-2d63c3fa215e"
      },
      "source": [
        "!unzip yalefaces.zip"
      ],
      "execution_count": null,
      "outputs": [
        {
          "output_type": "stream",
          "text": [
            "Archive:  yalefaces.zip\n",
            "replace yalefaces/subject04.leftlight? [y]es, [n]o, [A]ll, [N]one, [r]ename: n\n",
            "replace __MACOSX/yalefaces/._subject04.leftlight? [y]es, [n]o, [A]ll, [N]one, [r]ename: N\n"
          ],
          "name": "stdout"
        }
      ]
    },
    {
      "cell_type": "code",
      "metadata": {
        "id": "b6HViln_L6l-"
      },
      "source": [
        "files = glob('yalefaces/subject*')"
      ],
      "execution_count": null,
      "outputs": []
    },
    {
      "cell_type": "code",
      "metadata": {
        "id": "QvsaOpJ5L-HC"
      },
      "source": [
        "# easier to randomize later\n",
        "np.random.shuffle(files)"
      ],
      "execution_count": null,
      "outputs": []
    },
    {
      "cell_type": "code",
      "metadata": {
        "id": "7Az8p-JhMAD2",
        "colab": {
          "base_uri": "https://localhost:8080/",
          "height": 34
        },
        "outputId": "3efce0cf-d3e1-4be6-b7fd-a714b1c13f64"
      },
      "source": [
        "# number of samples\n",
        "N = len(files)\n",
        "N"
      ],
      "execution_count": null,
      "outputs": [
        {
          "output_type": "execute_result",
          "data": {
            "text/plain": [
              "166"
            ]
          },
          "metadata": {
            "tags": []
          },
          "execution_count": 46
        }
      ]
    },
    {
      "cell_type": "code",
      "metadata": {
        "id": "OzI2Ik24MClN"
      },
      "source": [
        "H, W = 60, 80\n",
        "def load_img(filepath):\n",
        "  # load image and downsample\n",
        "  img = image.img_to_array(image.load_img(filepath, target_size=[H, W])).astype('uint8')\n",
        "  return img"
      ],
      "execution_count": null,
      "outputs": []
    },
    {
      "cell_type": "code",
      "metadata": {
        "id": "Nh9bPo2xMHGa",
        "colab": {
          "base_uri": "https://localhost:8080/",
          "height": 268
        },
        "outputId": "0d7c235b-5264-4190-cca3-02f423b3ca7b"
      },
      "source": [
        "# look at an image for fun\n",
        "img = load_img(np.random.choice(files))\n",
        "plt.imshow(img)\n",
        "plt.show()"
      ],
      "execution_count": null,
      "outputs": [
        {
          "output_type": "display_data",
          "data": {
            "image/png": "[encoded data removed]",
            "text/plain": [
              "<Figure size 432x288 with 1 Axes>"
            ]
          },
          "metadata": {
            "tags": [],
            "needs_background": "light"
          }
        }
      ]
    },
    {
      "cell_type": "code",
      "metadata": {
        "id": "LVNB5Vvz0FkI",
        "colab": {
          "base_uri": "https://localhost:8080/",
          "height": 34
        },
        "outputId": "029cce8b-270e-4948-ccd1-9d4ed842a208"
      },
      "source": [
        "img.shape"
      ],
      "execution_count": null,
      "outputs": [
        {
          "output_type": "execute_result",
          "data": {
            "text/plain": [
              "(60, 80, 3)"
            ]
          },
          "metadata": {
            "tags": []
          },
          "execution_count": 49
        }
      ]
    },
    {
      "cell_type": "code",
      "metadata": {
        "id": "lD-8V0tDD4HU",
        "colab": {
          "base_uri": "https://localhost:8080/",
          "height": 34
        },
        "outputId": "d0fc5b82-06f3-4381-8e74-27570548606b"
      },
      "source": [
        "img.max()"
      ],
      "execution_count": null,
      "outputs": [
        {
          "output_type": "execute_result",
          "data": {
            "text/plain": [
              "255"
            ]
          },
          "metadata": {
            "tags": []
          },
          "execution_count": 50
        }
      ]
    },
    {
      "cell_type": "code",
      "metadata": {
        "id": "xvZEhGbJ3OXM"
      },
      "source": [
        "def to_grayscale(img):\n",
        "  return img.mean(axis=-1)"
      ],
      "execution_count": null,
      "outputs": []
    },
    {
      "cell_type": "code",
      "metadata": {
        "id": "sARNyFZ23gB6",
        "colab": {
          "base_uri": "https://localhost:8080/",
          "height": 34
        },
        "outputId": "94505034-3ca3-456d-8e3f-0d23c3c7991d"
      },
      "source": [
        "np.all(img[:,:,0] == img[:,:,1]), np.all(img[:,:,0] == img[:,:,2])"
      ],
      "execution_count": null,
      "outputs": [
        {
          "output_type": "execute_result",
          "data": {
            "text/plain": [
              "(True, True)"
            ]
          },
          "metadata": {
            "tags": []
          },
          "execution_count": 52
        }
      ]
    },
    {
      "cell_type": "code",
      "metadata": {
        "id": "Vk1hHZ1xMIMO"
      },
      "source": [
        "# load images as arrays\n",
        "shape = (N, H, W)\n",
        "images = np.zeros(shape)\n",
        "for i, f in enumerate(files):\n",
        "  img = to_grayscale(load_img(f)) / 255.\n",
        "  images[i] = img"
      ],
      "execution_count": null,
      "outputs": []
    },
    {
      "cell_type": "code",
      "metadata": {
        "id": "dfb3diGjMLsb"
      },
      "source": [
        "# make the labels\n",
        "# all the filenames are something like 'subject13.happy'\n",
        "labels = np.zeros(N)\n",
        "for i, f in enumerate(files):\n",
        "  filename = f.rsplit('/', 1)[-1]\n",
        "  subject_num = filename.split('.', 1)[0]\n",
        "\n",
        "  # subtract 1 since the filenames start from 1\n",
        "  idx = int(subject_num.replace('subject', '')) - 1\n",
        "  labels[i] = idx"
      ],
      "execution_count": null,
      "outputs": []
    },
    {
      "cell_type": "code",
      "metadata": {
        "id": "IJKE3QG9MMOo",
        "colab": {
          "base_uri": "https://localhost:8080/",
          "height": 272
        },
        "outputId": "3222ed30-f8b9-417e-db89-ab269a960cdc"
      },
      "source": [
        "# how many of each subject do we have?\n",
        "label_count = Counter(labels)\n",
        "label_count"
      ],
      "execution_count": null,
      "outputs": [
        {
          "output_type": "execute_result",
          "data": {
            "text/plain": [
              "Counter({0.0: 12,\n",
              "         1.0: 11,\n",
              "         2.0: 11,\n",
              "         3.0: 11,\n",
              "         4.0: 11,\n",
              "         5.0: 11,\n",
              "         6.0: 11,\n",
              "         7.0: 11,\n",
              "         8.0: 11,\n",
              "         9.0: 11,\n",
              "         10.0: 11,\n",
              "         11.0: 11,\n",
              "         12.0: 11,\n",
              "         13.0: 11,\n",
              "         14.0: 11})"
            ]
          },
          "metadata": {
            "tags": []
          },
          "execution_count": 55
        }
      ]
    },
    {
      "cell_type": "code",
      "metadata": {
        "id": "FvWEcWTVMPSd"
      },
      "source": [
        "# set of unique labels\n",
        "unique_labels = set(label_count.keys())"
      ],
      "execution_count": null,
      "outputs": []
    },
    {
      "cell_type": "code",
      "metadata": {
        "id": "TCCQ85zhMRZ7"
      },
      "source": [
        "# get the number of subjects\n",
        "n_subjects = len(label_count)"
      ],
      "execution_count": null,
      "outputs": []
    },
    {
      "cell_type": "code",
      "metadata": {
        "id": "Q2yqQYV1MVC7"
      },
      "source": [
        "# let's make it so 3 images for each subject are test data\n",
        "# number of test points is then\n",
        "n_test = 3 * n_subjects\n",
        "n_train = N - n_test"
      ],
      "execution_count": null,
      "outputs": []
    },
    {
      "cell_type": "code",
      "metadata": {
        "id": "L0kIXBibMV0M"
      },
      "source": [
        "# initialize arrays to hold train and test images\n",
        "train_images = np.zeros((n_train, H, W))\n",
        "train_labels = np.zeros(n_train)\n",
        "test_images = np.zeros((n_test, H, W))\n",
        "test_labels = np.zeros(n_test)"
      ],
      "execution_count": null,
      "outputs": []
    },
    {
      "cell_type": "code",
      "metadata": {
        "id": "aYDM467aMYIp"
      },
      "source": [
        "count_so_far = {}\n",
        "train_idx = 0\n",
        "test_idx = 0\n",
        "images, labels = shuffle(images, labels)\n",
        "for img, label in zip(images, labels):\n",
        "  # increment the count\n",
        "  count_so_far[label] = count_so_far.get(label, 0) + 1\n",
        "\n",
        "  if count_so_far[label] > 3:\n",
        "    # we have already added 3 test images for this subject\n",
        "    # so add the rest to train\n",
        "    train_images[train_idx] = img\n",
        "    train_labels[train_idx] = label\n",
        "    train_idx += 1\n",
        "\n",
        "  else:\n",
        "    # add the first 3 images to test\n",
        "    test_images[test_idx] = img\n",
        "    test_labels[test_idx] = label\n",
        "    test_idx += 1"
      ],
      "execution_count": null,
      "outputs": []
    },
    {
      "cell_type": "code",
      "metadata": {
        "id": "yFSKaQcEMaaX"
      },
      "source": [
        "# create label2idx mapping for easy access\n",
        "train_label2idx = {}\n",
        "test_label2idx = {}\n",
        "\n",
        "for i, label in enumerate(train_labels):\n",
        "  if label not in train_label2idx:\n",
        "    train_label2idx[label] = [i]\n",
        "  else:\n",
        "    train_label2idx[label].append(i)\n",
        "\n",
        "for i, label in enumerate(test_labels):\n",
        "  if label not in test_label2idx:\n",
        "    test_label2idx[label] = [i]\n",
        "  else:\n",
        "    test_label2idx[label].append(i)"
      ],
      "execution_count": null,
      "outputs": []
    },
    {
      "cell_type": "code",
      "metadata": {
        "id": "E6CVUDVcMeVX"
      },
      "source": [
        "# come up with all possible training sample indices\n",
        "train_positives = []\n",
        "train_negatives = []\n",
        "test_positives = []\n",
        "test_negatives = []\n",
        "\n",
        "for label, indices in train_label2idx.items():\n",
        "  # all indices that do NOT belong to this subject\n",
        "  other_indices = set(range(n_train)) - set(indices)\n",
        "\n",
        "  for i, idx1 in enumerate(indices):\n",
        "    for idx2 in indices[i+1:]:\n",
        "      train_positives.append((idx1, idx2))\n",
        "\n",
        "    for idx2 in other_indices:\n",
        "      train_negatives.append((idx1, idx2))\n",
        "\n",
        "for label, indices in test_label2idx.items():\n",
        "  # all indices that do NOT belong to this subject\n",
        "  other_indices = set(range(n_test)) - set(indices)\n",
        "\n",
        "  for i, idx1 in enumerate(indices):\n",
        "    for idx2 in indices[i+1:]:\n",
        "      test_positives.append((idx1, idx2))\n",
        "\n",
        "    for idx2 in other_indices:\n",
        "      test_negatives.append((idx1, idx2))"
      ],
      "execution_count": null,
      "outputs": []
    },
    {
      "cell_type": "code",
      "metadata": {
        "id": "KoetxA3YMe2f"
      },
      "source": [
        "batch_size = 64\n",
        "def train_generator():\n",
        "  # for each batch, we will send 1 pair of each subject\n",
        "  # and the same number of non-matching pairs\n",
        "  n_batches = int(np.ceil(len(train_positives) / batch_size))\n",
        "  \n",
        "  while True:\n",
        "    np.random.shuffle(train_positives)\n",
        "    n_samples = batch_size * 2\n",
        "    shape = (n_samples, H, W)\n",
        "    x_batch_1 = np.zeros(shape)\n",
        "    x_batch_2 = np.zeros(shape)\n",
        "    y_batch = np.zeros(n_samples)\n",
        "\n",
        "    for i in range(n_batches):\n",
        "      pos_batch_indices = train_positives[i * batch_size: (i + 1) * batch_size]\n",
        "\n",
        "      # fill up x_batch and y_batch\n",
        "      j = 0\n",
        "      for idx1, idx2 in pos_batch_indices:\n",
        "        x_batch_1[j] = train_images[idx1]\n",
        "        x_batch_2[j] = train_images[idx2]\n",
        "        y_batch[j] = 1 # match\n",
        "        j += 1\n",
        "\n",
        "      # get negative samples\n",
        "      neg_indices = np.random.choice(len(train_negatives), size=len(pos_batch_indices), replace=False)\n",
        "      for neg in neg_indices:\n",
        "        idx1, idx2 = train_negatives[neg]\n",
        "        x_batch_1[j] = train_images[idx1]\n",
        "        x_batch_2[j] = train_images[idx2]\n",
        "        y_batch[j] = 0 # non-match\n",
        "        j += 1\n",
        "\n",
        "      x1 = x_batch_1[:j]\n",
        "      x2 = x_batch_2[:j]\n",
        "      y = y_batch[:j]\n",
        "\n",
        "      # reshape\n",
        "      x1 = x1.reshape(-1, 1, H, W)\n",
        "      x2 = x2.reshape(-1, 1, H, W)\n",
        "\n",
        "      # convert to torch tensor\n",
        "      x1 = torch.from_numpy(x1).float()\n",
        "      x2 = torch.from_numpy(x2).float()\n",
        "      y = torch.from_numpy(y).float()\n",
        "\n",
        "      yield [x1, x2], y"
      ],
      "execution_count": null,
      "outputs": []
    },
    {
      "cell_type": "code",
      "metadata": {
        "id": "IM4rn84-Mj28"
      },
      "source": [
        "# same thing as the train generator except no shuffling and it uses the test set\n",
        "def test_generator():\n",
        "  n_batches = int(np.ceil(len(test_positives) / batch_size))\n",
        "\n",
        "  while True:\n",
        "    n_samples = batch_size * 2\n",
        "    shape = (n_samples, H, W)\n",
        "    x_batch_1 = np.zeros(shape)\n",
        "    x_batch_2 = np.zeros(shape)\n",
        "    y_batch = np.zeros(n_samples)\n",
        "\n",
        "    for i in range(n_batches):\n",
        "      pos_batch_indices = test_positives[i * batch_size: (i + 1) * batch_size]\n",
        "\n",
        "      # fill up x_batch and y_batch\n",
        "      j = 0\n",
        "      for idx1, idx2 in pos_batch_indices:\n",
        "        x_batch_1[j] = test_images[idx1]\n",
        "        x_batch_2[j] = test_images[idx2]\n",
        "        y_batch[j] = 1 # match\n",
        "        j += 1\n",
        "\n",
        "      # get negative samples\n",
        "      neg_indices = np.random.choice(len(test_negatives), size=len(pos_batch_indices), replace=False)\n",
        "      for neg in neg_indices:\n",
        "        idx1, idx2 = test_negatives[neg]\n",
        "        x_batch_1[j] = test_images[idx1]\n",
        "        x_batch_2[j] = test_images[idx2]\n",
        "        y_batch[j] = 0 # non-match\n",
        "        j += 1\n",
        "\n",
        "      x1 = x_batch_1[:j]\n",
        "      x2 = x_batch_2[:j]\n",
        "      y = y_batch[:j]\n",
        "\n",
        "      # reshape\n",
        "      x1 = x1.reshape(-1, 1, H, W)\n",
        "      x2 = x2.reshape(-1, 1, H, W)\n",
        "\n",
        "      # convert to torch tensor\n",
        "      x1 = torch.from_numpy(x1).float()\n",
        "      x2 = torch.from_numpy(x2).float()\n",
        "      y = torch.from_numpy(y).float()\n",
        "\n",
        "      yield [x1, x2], y"
      ],
      "execution_count": null,
      "outputs": []
    },
    {
      "cell_type": "code",
      "metadata": {
        "id": "ntJxbO3cMn5k"
      },
      "source": [
        "# build the model\n",
        "class SiameseNN(nn.Module):\n",
        "  def __init__(self, feature_dim):\n",
        "    super(SiameseNN, self).__init__()\n",
        "\n",
        "    # define CNN featurizer\n",
        "    self.cnn = nn.Sequential(\n",
        "        nn.Conv2d(1, 32, kernel_size=3),\n",
        "        nn.BatchNorm2d(32),\n",
        "        nn.ReLU(),\n",
        "        nn.MaxPool2d(2),\n",
        "        nn.Conv2d(32, 64, kernel_size=3),\n",
        "        nn.BatchNorm2d(64),\n",
        "        nn.ReLU(),\n",
        "        nn.MaxPool2d(2),\n",
        "        nn.Flatten(),\n",
        "        nn.Linear(13*18*64, 128), # 60>29>13,80>39>18\n",
        "        nn.ReLU(),\n",
        "        nn.Linear(128, feature_dim),\n",
        "    )\n",
        "\n",
        "  def forward(self, im1, im2):\n",
        "    feat1 = self.cnn(im1)\n",
        "    feat2 = self.cnn(im2)\n",
        "\n",
        "    # Euclidean distance between feature 1 and feature 2\n",
        "    return torch.norm(feat1 - feat2, dim=-1)"
      ],
      "execution_count": null,
      "outputs": []
    },
    {
      "cell_type": "code",
      "metadata": {
        "id": "MxgOkxCn-oaX"
      },
      "source": [
        "model = SiameseNN(50)"
      ],
      "execution_count": null,
      "outputs": []
    },
    {
      "cell_type": "code",
      "metadata": {
        "id": "_XIc8gmq-nNn",
        "colab": {
          "base_uri": "https://localhost:8080/",
          "height": 306
        },
        "outputId": "16b56f3e-785a-49cd-82fb-8fc1d15e4fc4"
      },
      "source": [
        "device = torch.device(\"cuda:0\" if torch.cuda.is_available() else \"cpu\")\n",
        "print(device)\n",
        "model.to(device)"
      ],
      "execution_count": null,
      "outputs": [
        {
          "output_type": "stream",
          "text": [
            "cuda:0\n"
          ],
          "name": "stdout"
        },
        {
          "output_type": "execute_result",
          "data": {
            "text/plain": [
              "SiameseNN(\n",
              "  (cnn): Sequential(\n",
              "    (0): Conv2d(1, 32, kernel_size=(3, 3), stride=(1, 1))\n",
              "    (1): BatchNorm2d(32, eps=1e-05, momentum=0.1, affine=True, track_running_stats=True)\n",
              "    (2): ReLU()\n",
              "    (3): MaxPool2d(kernel_size=2, stride=2, padding=0, dilation=1, ceil_mode=False)\n",
              "    (4): Conv2d(32, 64, kernel_size=(3, 3), stride=(1, 1))\n",
              "    (5): BatchNorm2d(64, eps=1e-05, momentum=0.1, affine=True, track_running_stats=True)\n",
              "    (6): ReLU()\n",
              "    (7): MaxPool2d(kernel_size=2, stride=2, padding=0, dilation=1, ceil_mode=False)\n",
              "    (8): Flatten()\n",
              "    (9): Linear(in_features=14976, out_features=128, bias=True)\n",
              "    (10): ReLU()\n",
              "    (11): Linear(in_features=128, out_features=50, bias=True)\n",
              "  )\n",
              ")"
            ]
          },
          "metadata": {
            "tags": []
          },
          "execution_count": 67
        }
      ]
    },
    {
      "cell_type": "code",
      "metadata": {
        "id": "W_Z7-WCV8-p8"
      },
      "source": [
        "# loss function for siamese network\n",
        "def contrastive_loss(y, t):\n",
        "  nonmatch = F.relu(1 - y) # max(margin - y, 0)\n",
        "  return torch.mean(t * y**2 + (1 - t) * nonmatch**2)"
      ],
      "execution_count": null,
      "outputs": []
    },
    {
      "cell_type": "code",
      "metadata": {
        "id": "ZHMpTbqy-hZb"
      },
      "source": [
        "# Loss and optimizer\n",
        "optimizer = torch.optim.Adam(model.parameters())"
      ],
      "execution_count": null,
      "outputs": []
    },
    {
      "cell_type": "code",
      "metadata": {
        "id": "ropUpOkIM3zJ"
      },
      "source": [
        "# A function to encapsulate the training loop\n",
        "def batch_gd(\n",
        "    model,\n",
        "    criterion,\n",
        "    optimizer,\n",
        "    train_gen,\n",
        "    test_gen,\n",
        "    train_steps_per_epoch,\n",
        "    test_steps_per_epoch,\n",
        "    epochs):\n",
        "  train_losses = np.zeros(epochs)\n",
        "  test_losses = np.zeros(epochs)\n",
        "\n",
        "  for it in range(epochs):\n",
        "    model.train()\n",
        "    t0 = datetime.now()\n",
        "    train_loss = []\n",
        "    steps = 0\n",
        "    for (x1, x2), targets in train_gen:\n",
        "      # move data to GPU\n",
        "      x1, x2, targets = x1.to(device), x2.to(device), targets.to(device)\n",
        "\n",
        "      # zero the parameter gradients\n",
        "      optimizer.zero_grad()\n",
        "\n",
        "      # Forward pass\n",
        "      outputs = model(x1, x2)\n",
        "      loss = criterion(outputs, targets)\n",
        "        \n",
        "      # Backward and optimize\n",
        "      loss.backward()\n",
        "      optimizer.step()\n",
        "\n",
        "      train_loss.append(loss.item())\n",
        "\n",
        "      # Update steps\n",
        "      steps += 1\n",
        "      if steps >= train_steps_per_epoch:\n",
        "        break\n",
        "\n",
        "    # Get train loss and test loss\n",
        "    train_loss = np.mean(train_loss) # a little misleading\n",
        "    \n",
        "    model.eval()\n",
        "    test_loss = []\n",
        "    steps = 0\n",
        "    for (x1, x2), targets in test_gen:\n",
        "      x1, x2, targets = x1.to(device), x2.to(device), targets.to(device)\n",
        "      outputs = model(x1, x2)\n",
        "      loss = criterion(outputs, targets)\n",
        "      test_loss.append(loss.item())\n",
        "      steps += 1\n",
        "      if steps >= train_steps_per_epoch:\n",
        "        break\n",
        "    test_loss = np.mean(test_loss)\n",
        "\n",
        "    # Save losses\n",
        "    train_losses[it] = train_loss\n",
        "    test_losses[it] = test_loss\n",
        "    \n",
        "    dt = datetime.now() - t0\n",
        "    print(f'Epoch {it+1}/{epochs}, Train Loss: {train_loss:.4f}, \\\n",
        "      Test Loss: {test_loss:.4f}, Duration: {dt}')\n",
        "  \n",
        "  return train_losses, test_losses"
      ],
      "execution_count": null,
      "outputs": []
    },
    {
      "cell_type": "code",
      "metadata": {
        "id": "2JDhHGES_35K",
        "colab": {
          "base_uri": "https://localhost:8080/",
          "height": 357
        },
        "outputId": "85ddd5b8-8e24-41ca-d54a-cb5ff6d09223"
      },
      "source": [
        "train_steps = int(np.ceil(len(train_positives) / batch_size))\n",
        "test_steps = int(np.ceil(len(test_positives) / batch_size))\n",
        "\n",
        "train_losses, test_losses = batch_gd(\n",
        "    model,\n",
        "    contrastive_loss,\n",
        "    optimizer,\n",
        "    train_generator(),\n",
        "    test_generator(),\n",
        "    train_steps,\n",
        "    test_steps,\n",
        "    epochs=20)"
      ],
      "execution_count": null,
      "outputs": [
        {
          "output_type": "stream",
          "text": [
            "Epoch 1/20, Train Loss: 0.9031,       Test Loss: 0.2580, Duration: 0:00:00.610005\n",
            "Epoch 2/20, Train Loss: 0.2536,       Test Loss: 0.1637, Duration: 0:00:00.547328\n",
            "Epoch 3/20, Train Loss: 0.1284,       Test Loss: 0.1208, Duration: 0:00:00.550221\n",
            "Epoch 4/20, Train Loss: 0.0839,       Test Loss: 0.1167, Duration: 0:00:00.548106\n",
            "Epoch 5/20, Train Loss: 0.0491,       Test Loss: 0.1102, Duration: 0:00:00.549721\n",
            "Epoch 6/20, Train Loss: 0.0320,       Test Loss: 0.1028, Duration: 0:00:00.549018\n",
            "Epoch 7/20, Train Loss: 0.0205,       Test Loss: 0.1147, Duration: 0:00:00.552374\n",
            "Epoch 8/20, Train Loss: 0.0133,       Test Loss: 0.1109, Duration: 0:00:00.548196\n",
            "Epoch 9/20, Train Loss: 0.0074,       Test Loss: 0.1186, Duration: 0:00:00.552286\n",
            "Epoch 10/20, Train Loss: 0.0057,       Test Loss: 0.1266, Duration: 0:00:00.551846\n",
            "Epoch 11/20, Train Loss: 0.0041,       Test Loss: 0.1221, Duration: 0:00:00.551106\n",
            "Epoch 12/20, Train Loss: 0.0033,       Test Loss: 0.1147, Duration: 0:00:00.551067\n",
            "Epoch 13/20, Train Loss: 0.0025,       Test Loss: 0.1212, Duration: 0:00:00.549642\n",
            "Epoch 14/20, Train Loss: 0.0024,       Test Loss: 0.1187, Duration: 0:00:00.550493\n",
            "Epoch 15/20, Train Loss: 0.0019,       Test Loss: 0.1188, Duration: 0:00:00.551485\n",
            "Epoch 16/20, Train Loss: 0.0022,       Test Loss: 0.1201, Duration: 0:00:00.551796\n",
            "Epoch 17/20, Train Loss: 0.0032,       Test Loss: 0.1220, Duration: 0:00:00.550561\n",
            "Epoch 18/20, Train Loss: 0.0027,       Test Loss: 0.1197, Duration: 0:00:00.552451\n",
            "Epoch 19/20, Train Loss: 0.0021,       Test Loss: 0.1113, Duration: 0:00:00.552514\n",
            "Epoch 20/20, Train Loss: 0.0019,       Test Loss: 0.1193, Duration: 0:00:00.551781\n"
          ],
          "name": "stdout"
        }
      ]
    },
    {
      "cell_type": "code",
      "metadata": {
        "id": "6Q1-vyJjM_tM",
        "colab": {
          "base_uri": "https://localhost:8080/",
          "height": 265
        },
        "outputId": "8eee3725-8ae6-47da-ce6b-cdf75d955cc7"
      },
      "source": [
        "# Plot the train loss and test loss per iteration\n",
        "plt.plot(train_losses, label='train loss')\n",
        "plt.plot(test_losses, label='test loss')\n",
        "plt.legend()\n",
        "plt.show()"
      ],
      "execution_count": null,
      "outputs": [
        {
          "output_type": "display_data",
          "data": {
            "image/png": "[encoded data removed]",
            "text/plain": [
              "<Figure size 432x288 with 1 Axes>"
            ]
          },
          "metadata": {
            "tags": [],
            "needs_background": "light"
          }
        }
      ]
    },
    {
      "cell_type": "code",
      "metadata": {
        "id": "vq6FSsBYerrO",
        "colab": {
          "base_uri": "https://localhost:8080/",
          "height": 289
        },
        "outputId": "f46db807-3f60-414b-ed28-1ebbf9ce7dcc"
      },
      "source": [
        "model.eval()"
      ],
      "execution_count": null,
      "outputs": [
        {
          "output_type": "execute_result",
          "data": {
            "text/plain": [
              "SiameseNN(\n",
              "  (cnn): Sequential(\n",
              "    (0): Conv2d(1, 32, kernel_size=(3, 3), stride=(1, 1))\n",
              "    (1): BatchNorm2d(32, eps=1e-05, momentum=0.1, affine=True, track_running_stats=True)\n",
              "    (2): ReLU()\n",
              "    (3): MaxPool2d(kernel_size=2, stride=2, padding=0, dilation=1, ceil_mode=False)\n",
              "    (4): Conv2d(32, 64, kernel_size=(3, 3), stride=(1, 1))\n",
              "    (5): BatchNorm2d(64, eps=1e-05, momentum=0.1, affine=True, track_running_stats=True)\n",
              "    (6): ReLU()\n",
              "    (7): MaxPool2d(kernel_size=2, stride=2, padding=0, dilation=1, ceil_mode=False)\n",
              "    (8): Flatten()\n",
              "    (9): Linear(in_features=14976, out_features=128, bias=True)\n",
              "    (10): ReLU()\n",
              "    (11): Linear(in_features=128, out_features=50, bias=True)\n",
              "  )\n",
              ")"
            ]
          },
          "metadata": {
            "tags": []
          },
          "execution_count": 73
        }
      ]
    },
    {
      "cell_type": "code",
      "metadata": {
        "id": "aZstaBy4_TnG"
      },
      "source": [
        "# Convenience function to make predictions\n",
        "def predict(x1, x2):\n",
        "  x1 = torch.from_numpy(x1).float().to(device)\n",
        "  x2 = torch.from_numpy(x2).float().to(device)\n",
        "  with torch.no_grad():\n",
        "    dist = model(x1, x2).cpu().numpy()\n",
        "    return dist.flatten()"
      ],
      "execution_count": null,
      "outputs": []
    },
    {
      "cell_type": "code",
      "metadata": {
        "id": "863ihdnHNGlW"
      },
      "source": [
        "# calculate accuracy before training\n",
        "# since the dataset is imbalanced, we'll report tp, tn, fp, fn\n",
        "def get_train_accuracy(threshold=0.85):\n",
        "  positive_distances = []\n",
        "  negative_distances = []\n",
        "\n",
        "  tp = 0\n",
        "  tn = 0\n",
        "  fp = 0\n",
        "  fn = 0\n",
        "\n",
        "  batch_size = 64\n",
        "  x_batch_1 = np.zeros((batch_size, 1, H, W))\n",
        "  x_batch_2 = np.zeros((batch_size, 1, H, W))\n",
        "  n_batches = int(np.ceil(len(train_positives) / batch_size))\n",
        "  for i in range(n_batches):\n",
        "    print(f\"pos batch: {i+1}/{n_batches}\")\n",
        "    pos_batch_indices = train_positives[i * batch_size: (i + 1) * batch_size]\n",
        "\n",
        "    # fill up x_batch and y_batch\n",
        "    j = 0\n",
        "    for idx1, idx2 in pos_batch_indices:\n",
        "      x_batch_1[j,0] = train_images[idx1]\n",
        "      x_batch_2[j,0] = train_images[idx2]\n",
        "      j += 1\n",
        "\n",
        "    x1 = x_batch_1[:j]\n",
        "    x2 = x_batch_2[:j]\n",
        "    distances = predict(x1, x2)\n",
        "    positive_distances += distances.tolist()\n",
        "\n",
        "    # update tp, tn, fp, fn\n",
        "    tp += (distances < threshold).sum()\n",
        "    fn += (distances > threshold).sum()\n",
        "\n",
        "  n_batches = int(np.ceil(len(train_negatives) / batch_size))\n",
        "  for i in range(n_batches):\n",
        "    print(f\"neg batch: {i+1}/{n_batches}\")\n",
        "    neg_batch_indices = train_negatives[i * batch_size: (i + 1) * batch_size]\n",
        "\n",
        "    # fill up x_batch and y_batch\n",
        "    j = 0\n",
        "    for idx1, idx2 in neg_batch_indices:\n",
        "      x_batch_1[j,0] = train_images[idx1]\n",
        "      x_batch_2[j,0] = train_images[idx2]\n",
        "      j += 1\n",
        "\n",
        "    x1 = x_batch_1[:j]\n",
        "    x2 = x_batch_2[:j]\n",
        "    distances = predict(x1, x2)\n",
        "    negative_distances += distances.tolist()\n",
        "\n",
        "    # update tp, tn, fp, fn\n",
        "    fp += (distances < threshold).sum()\n",
        "    tn += (distances > threshold).sum()\n",
        "\n",
        "  tpr = tp / (tp + fn)\n",
        "  tnr = tn / (tn + fp)\n",
        "  print(f\"sensitivity (tpr): {tpr}, specificity (tnr): {tnr}\")\n",
        "\n",
        "  plt.hist(negative_distances, bins=20, density=True, label='negative_distances')\n",
        "  plt.hist(positive_distances, bins=20, density=True, label='positive_distances')\n",
        "  plt.legend()\n",
        "  plt.show()"
      ],
      "execution_count": null,
      "outputs": []
    },
    {
      "cell_type": "code",
      "metadata": {
        "id": "fcdNkabjNJVn"
      },
      "source": [
        "def get_test_accuracy(threshold=0.85):\n",
        "  positive_distances = []\n",
        "  negative_distances = []\n",
        "\n",
        "  tp = 0\n",
        "  tn = 0\n",
        "  fp = 0\n",
        "  fn = 0\n",
        "\n",
        "  batch_size = 64\n",
        "  x_batch_1 = np.zeros((batch_size, 1, H, W))\n",
        "  x_batch_2 = np.zeros((batch_size, 1, H, W))\n",
        "  n_batches = int(np.ceil(len(test_positives) / batch_size))\n",
        "  for i in range(n_batches):\n",
        "    print(f\"pos batch: {i+1}/{n_batches}\")\n",
        "    pos_batch_indices = test_positives[i * batch_size: (i + 1) * batch_size]\n",
        "\n",
        "    # fill up x_batch and y_batch\n",
        "    j = 0\n",
        "    for idx1, idx2 in pos_batch_indices:\n",
        "      x_batch_1[j,0] = test_images[idx1]\n",
        "      x_batch_2[j,0] = test_images[idx2]\n",
        "      j += 1\n",
        "\n",
        "    x1 = x_batch_1[:j]\n",
        "    x2 = x_batch_2[:j]\n",
        "    distances = predict(x1, x2)\n",
        "    positive_distances += distances.tolist()\n",
        "\n",
        "    # update tp, tn, fp, fn\n",
        "    tp += (distances < threshold).sum()\n",
        "    fn += (distances > threshold).sum()\n",
        "\n",
        "  n_batches = int(np.ceil(len(test_negatives) / batch_size))\n",
        "  for i in range(n_batches):\n",
        "    print(f\"neg batch: {i+1}/{n_batches}\")\n",
        "    neg_batch_indices = test_negatives[i * batch_size: (i + 1) * batch_size]\n",
        "\n",
        "    # fill up x_batch and y_batch\n",
        "    j = 0\n",
        "    for idx1, idx2 in neg_batch_indices:\n",
        "      x_batch_1[j] = test_images[idx1]\n",
        "      x_batch_2[j] = test_images[idx2]\n",
        "      j += 1\n",
        "\n",
        "    x1 = x_batch_1[:j]\n",
        "    x2 = x_batch_2[:j]\n",
        "    distances = predict(x1, x2)\n",
        "    negative_distances += distances.tolist()\n",
        "\n",
        "    # update tp, tn, fp, fn\n",
        "    fp += (distances < threshold).sum()\n",
        "    tn += (distances > threshold).sum()\n",
        "\n",
        "\n",
        "  tpr = tp / (tp + fn)\n",
        "  tnr = tn / (tn + fp)\n",
        "  print(f\"sensitivity (tpr): {tpr}, specificity (tnr): {tnr}\")\n",
        "\n",
        "  plt.hist(negative_distances, bins=20, density=True, label='negative_distances')\n",
        "  plt.hist(positive_distances, bins=20, density=True, label='positive_distances')\n",
        "  plt.legend()\n",
        "  plt.show()"
      ],
      "execution_count": null,
      "outputs": []
    },
    {
      "cell_type": "code",
      "metadata": {
        "id": "rdoBfjnNNL-y",
        "colab": {
          "base_uri": "https://localhost:8080/",
          "height": 1000
        },
        "outputId": "b9904b47-de67-40d7-ae70-2de3adfb9a7b"
      },
      "source": [
        "get_train_accuracy(0.65)"
      ],
      "execution_count": null,
      "outputs": [
        {
          "output_type": "stream",
          "text": [
            "pos batch: 1/7\n",
            "pos batch: 2/7\n",
            "pos batch: 3/7\n",
            "pos batch: 4/7\n",
            "pos batch: 5/7\n",
            "pos batch: 6/7\n",
            "pos batch: 7/7\n",
            "neg batch: 1/214\n",
            "neg batch: 2/214\n",
            "neg batch: 3/214\n",
            "neg batch: 4/214\n",
            "neg batch: 5/214\n",
            "neg batch: 6/214\n",
            "neg batch: 7/214\n",
            "neg batch: 8/214\n",
            "neg batch: 9/214\n",
            "neg batch: 10/214\n",
            "neg batch: 11/214\n",
            "neg batch: 12/214\n",
            "neg batch: 13/214\n",
            "neg batch: 14/214\n",
            "neg batch: 15/214\n",
            "neg batch: 16/214\n",
            "neg batch: 17/214\n",
            "neg batch: 18/214\n",
            "neg batch: 19/214\n",
            "neg batch: 20/214\n",
            "neg batch: 21/214\n",
            "neg batch: 22/214\n",
            "neg batch: 23/214\n",
            "neg batch: 24/214\n",
            "neg batch: 25/214\n",
            "neg batch: 26/214\n",
            "neg batch: 27/214\n",
            "neg batch: 28/214\n",
            "neg batch: 29/214\n",
            "neg batch: 30/214\n",
            "neg batch: 31/214\n",
            "neg batch: 32/214\n",
            "neg batch: 33/214\n",
            "neg batch: 34/214\n",
            "neg batch: 35/214\n",
            "neg batch: 36/214\n",
            "neg batch: 37/214\n",
            "neg batch: 38/214\n",
            "neg batch: 39/214\n",
            "neg batch: 40/214\n",
            "neg batch: 41/214\n",
            "neg batch: 42/214\n",
            "neg batch: 43/214\n",
            "neg batch: 44/214\n",
            "neg batch: 45/214\n",
            "neg batch: 46/214\n",
            "neg batch: 47/214\n",
            "neg batch: 48/214\n",
            "neg batch: 49/214\n",
            "neg batch: 50/214\n",
            "neg batch: 51/214\n",
            "neg batch: 52/214\n",
            "neg batch: 53/214\n",
            "neg batch: 54/214\n",
            "neg batch: 55/214\n",
            "neg batch: 56/214\n",
            "neg batch: 57/214\n",
            "neg batch: 58/214\n",
            "neg batch: 59/214\n",
            "neg batch: 60/214\n",
            "neg batch: 61/214\n",
            "neg batch: 62/214\n",
            "neg batch: 63/214\n",
            "neg batch: 64/214\n",
            "neg batch: 65/214\n",
            "neg batch: 66/214\n",
            "neg batch: 67/214\n",
            "neg batch: 68/214\n",
            "neg batch: 69/214\n",
            "neg batch: 70/214\n",
            "neg batch: 71/214\n",
            "neg batch: 72/214\n",
            "neg batch: 73/214\n",
            "neg batch: 74/214\n",
            "neg batch: 75/214\n",
            "neg batch: 76/214\n",
            "neg batch: 77/214\n",
            "neg batch: 78/214\n",
            "neg batch: 79/214\n",
            "neg batch: 80/214\n",
            "neg batch: 81/214\n",
            "neg batch: 82/214\n",
            "neg batch: 83/214\n",
            "neg batch: 84/214\n",
            "neg batch: 85/214\n",
            "neg batch: 86/214\n",
            "neg batch: 87/214\n",
            "neg batch: 88/214\n",
            "neg batch: 89/214\n",
            "neg batch: 90/214\n",
            "neg batch: 91/214\n",
            "neg batch: 92/214\n",
            "neg batch: 93/214\n",
            "neg batch: 94/214\n",
            "neg batch: 95/214\n",
            "neg batch: 96/214\n",
            "neg batch: 97/214\n",
            "neg batch: 98/214\n",
            "neg batch: 99/214\n",
            "neg batch: 100/214\n",
            "neg batch: 101/214\n",
            "neg batch: 102/214\n",
            "neg batch: 103/214\n",
            "neg batch: 104/214\n",
            "neg batch: 105/214\n",
            "neg batch: 106/214\n",
            "neg batch: 107/214\n",
            "neg batch: 108/214\n",
            "neg batch: 109/214\n",
            "neg batch: 110/214\n",
            "neg batch: 111/214\n",
            "neg batch: 112/214\n",
            "neg batch: 113/214\n",
            "neg batch: 114/214\n",
            "neg batch: 115/214\n",
            "neg batch: 116/214\n",
            "neg batch: 117/214\n",
            "neg batch: 118/214\n",
            "neg batch: 119/214\n",
            "neg batch: 120/214\n",
            "neg batch: 121/214\n",
            "neg batch: 122/214\n",
            "neg batch: 123/214\n",
            "neg batch: 124/214\n",
            "neg batch: 125/214\n",
            "neg batch: 126/214\n",
            "neg batch: 127/214\n",
            "neg batch: 128/214\n",
            "neg batch: 129/214\n",
            "neg batch: 130/214\n",
            "neg batch: 131/214\n",
            "neg batch: 132/214\n",
            "neg batch: 133/214\n",
            "neg batch: 134/214\n",
            "neg batch: 135/214\n",
            "neg batch: 136/214\n",
            "neg batch: 137/214\n",
            "neg batch: 138/214\n",
            "neg batch: 139/214\n",
            "neg batch: 140/214\n",
            "neg batch: 141/214\n",
            "neg batch: 142/214\n",
            "neg batch: 143/214\n",
            "neg batch: 144/214\n",
            "neg batch: 145/214\n",
            "neg batch: 146/214\n",
            "neg batch: 147/214\n",
            "neg batch: 148/214\n",
            "neg batch: 149/214\n",
            "neg batch: 150/214\n",
            "neg batch: 151/214\n",
            "neg batch: 152/214\n",
            "neg batch: 153/214\n",
            "neg batch: 154/214\n",
            "neg batch: 155/214\n",
            "neg batch: 156/214\n",
            "neg batch: 157/214\n",
            "neg batch: 158/214\n",
            "neg batch: 159/214\n",
            "neg batch: 160/214\n",
            "neg batch: 161/214\n",
            "neg batch: 162/214\n",
            "neg batch: 163/214\n",
            "neg batch: 164/214\n",
            "neg batch: 165/214\n",
            "neg batch: 166/214\n",
            "neg batch: 167/214\n",
            "neg batch: 168/214\n",
            "neg batch: 169/214\n",
            "neg batch: 170/214\n",
            "neg batch: 171/214\n",
            "neg batch: 172/214\n",
            "neg batch: 173/214\n",
            "neg batch: 174/214\n",
            "neg batch: 175/214\n",
            "neg batch: 176/214\n",
            "neg batch: 177/214\n",
            "neg batch: 178/214\n",
            "neg batch: 179/214\n",
            "neg batch: 180/214\n",
            "neg batch: 181/214\n",
            "neg batch: 182/214\n",
            "neg batch: 183/214\n",
            "neg batch: 184/214\n",
            "neg batch: 185/214\n",
            "neg batch: 186/214\n",
            "neg batch: 187/214\n",
            "neg batch: 188/214\n",
            "neg batch: 189/214\n",
            "neg batch: 190/214\n",
            "neg batch: 191/214\n",
            "neg batch: 192/214\n",
            "neg batch: 193/214\n",
            "neg batch: 194/214\n",
            "neg batch: 195/214\n",
            "neg batch: 196/214\n",
            "neg batch: 197/214\n",
            "neg batch: 198/214\n",
            "neg batch: 199/214\n",
            "neg batch: 200/214\n",
            "neg batch: 201/214\n",
            "neg batch: 202/214\n",
            "neg batch: 203/214\n",
            "neg batch: 204/214\n",
            "neg batch: 205/214\n",
            "neg batch: 206/214\n",
            "neg batch: 207/214\n",
            "neg batch: 208/214\n",
            "neg batch: 209/214\n",
            "neg batch: 210/214\n",
            "neg batch: 211/214\n",
            "neg batch: 212/214\n",
            "neg batch: 213/214\n",
            "neg batch: 214/214\n",
            "sensitivity (tpr): 1.0, specificity (tnr): 1.0\n"
          ],
          "name": "stdout"
        },
        {
          "output_type": "display_data",
          "data": {
            "image/png": "[encoded data removed]",
            "text/plain": [
              "<Figure size 432x288 with 1 Axes>"
            ]
          },
          "metadata": {
            "tags": [],
            "needs_background": "light"
          }
        }
      ]
    },
    {
      "cell_type": "code",
      "metadata": {
        "id": "4R4hruKENQgb",
        "colab": {
          "base_uri": "https://localhost:8080/",
          "height": 812
        },
        "outputId": "4c256eaf-3e28-4879-8c62-2f4551c1667d"
      },
      "source": [
        "get_test_accuracy(0.65)"
      ],
      "execution_count": null,
      "outputs": [
        {
          "output_type": "stream",
          "text": [
            "pos batch: 1/1\n",
            "neg batch: 1/30\n",
            "neg batch: 2/30\n",
            "neg batch: 3/30\n",
            "neg batch: 4/30\n",
            "neg batch: 5/30\n",
            "neg batch: 6/30\n",
            "neg batch: 7/30\n",
            "neg batch: 8/30\n",
            "neg batch: 9/30\n",
            "neg batch: 10/30\n",
            "neg batch: 11/30\n",
            "neg batch: 12/30\n",
            "neg batch: 13/30\n",
            "neg batch: 14/30\n",
            "neg batch: 15/30\n",
            "neg batch: 16/30\n",
            "neg batch: 17/30\n",
            "neg batch: 18/30\n",
            "neg batch: 19/30\n",
            "neg batch: 20/30\n",
            "neg batch: 21/30\n",
            "neg batch: 22/30\n",
            "neg batch: 23/30\n",
            "neg batch: 24/30\n",
            "neg batch: 25/30\n",
            "neg batch: 26/30\n",
            "neg batch: 27/30\n",
            "neg batch: 28/30\n",
            "neg batch: 29/30\n",
            "neg batch: 30/30\n",
            "sensitivity (tpr): 0.7777777777777778, specificity (tnr): 0.9735449735449735\n"
          ],
          "name": "stdout"
        },
        {
          "output_type": "display_data",
          "data": {
            "image/png": "[encoded data removed]",
            "text/plain": [
              "<Figure size 432x288 with 1 Axes>"
            ]
          },
          "metadata": {
            "tags": [],
            "needs_background": "light"
          }
        }
      ]
    }
  ]
}