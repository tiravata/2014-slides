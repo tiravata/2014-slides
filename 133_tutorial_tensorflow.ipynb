{
  "nbformat": 4,
  "nbformat_minor": 0,
  "metadata": {
    "colab": {
      "name": "133_tutorial_tensorflow.ipynb",
      "provenance": [],
      "collapsed_sections": [],
      "toc_visible": true,
      "include_colab_link": true
    },
    "kernelspec": {
      "name": "python3",
      "display_name": "Python 3"
    },
    "accelerator": "GPU"
  },
  "cells": [
    {
      "cell_type": "markdown",
      "metadata": {
        "id": "view-in-github",
        "colab_type": "text"
      },
      "source": [
        "<a href=\"https://colab.research.google.com/github/tiravata/2014-slides/blob/master/133_tutorial_tensorflow.ipynb\" target=\"_parent\"><img src=\"https://colab.research.google.com/assets/colab-badge.svg\" alt=\"Open In Colab\"/></a>"
      ]
    },
    {
      "cell_type": "markdown",
      "metadata": {
        "id": "9RhDqBGYX38E"
      },
      "source": [
        "<div><img height=\"45px\" src=\"https://avatars3.githubusercontent.com/u/20337240?s=460&v=4\" align=\"left\" hspace=\"10px\" vspace=\"0px\">\n",
        "</div>\n",
        "<h1>ติวเตอร์ Tensor Flow</h1>\n",
        "\n",
        "<hr>\n",
        "\n",
        "<a href='https://www.facebook.com/programmerthai'><font color='green'>สรุปและเรียบเรียงโดย โปรแกรมเมอร์ไทย thai programmer</font></a>\n",
        "\n"
      ]
    },
    {
      "cell_type": "markdown",
      "metadata": {
        "id": "cGsDjZUCmwmw"
      },
      "source": [
        "cite\n",
        "\n",
        "https://colab.research.google.com/github/madewithml/lessons/blob/master/notebooks/01_Foundations/05_TensorFlow.ipynb"
      ]
    },
    {
      "cell_type": "markdown",
      "metadata": {
        "id": "aTCt2YcX1zqS"
      },
      "source": [
        "# วิธีใช้งาน colab\n",
        "\n",
        "Colab พัฒนาโดย google เป็นหน้าเว็บเอาไว้ใช้เขียนโค้ด python ได้ผ่านทางหน้าเว็บ และเชื่อมต่อกับ google drive ของเราก็ได้ด้วย ซึ่ง colab หน้านี้**ได้รวบรวมเนื้อหา Python ของม.ต้น** เอาไว้ แต่ก่อนอื่นอยากให้ดูวิธีการใช้งาน colab เสียก่อน\n",
        "\n",
        "<font color='red'>** ต้องมี Gmail และ google drive</font>\n",
        "\n",
        "<hr/>\n",
        "\n",
        "<h3>วิธี 1) กด \"Open in playgrouhd\"</h3>\n",
        "<div>\n",
        "<img height=\"200px\" src=\"https://www.patanasongsivilai.com/blog/wp-content/uploads/2020/05/python_matayom_4.png\" align=\"center\" hspace=\"10px\" vspace=\"0px\">\n",
        "\n",
        "\n",
        "<hr/>\n",
        "\n",
        "<h3>วิธี 2) กด Save a copy in Drive ... เพื่อบันทึกไว้ google drive เครื่องเรา</h3>\n",
        "\n",
        "<img height=\"300px\" src=\"https://www.patanasongsivilai.com/blog/wp-content/uploads/2019/11/python_matayom_1.png\" align=\"center\" hspace=\"10px\" vspace=\"0px\">\n",
        "\n",
        "<br/>\n",
        "\n",
        "<img height=\"200px\" src=\"https://www.patanasongsivilai.com/blog/wp-content/uploads/2019/11/python_matayom_2.png\" align=\"center\" hspace=\"10px\" vspace=\"0px\">\n",
        "\n",
        "<hr/>\n",
        "\n",
        "<h3>จากนั้นถึงจะสามารถรันได้</h3>\n",
        "<img height=\"200px\" src=\"https://www.patanasongsivilai.com/blog/wp-content/uploads/2019/11/python_matayom_3.png\" align=\"center\" hspace=\"10px\" vspace=\"0px\">"
      ]
    },
    {
      "cell_type": "markdown",
      "metadata": {
        "id": "J5tb4QTjpYkI"
      },
      "source": [
        "# Set Enviroment"
      ]
    },
    {
      "cell_type": "code",
      "metadata": {
        "id": "qvNwSZHHmN_L",
        "colab": {
          "base_uri": "https://localhost:8080/",
          "height": 33
        },
        "outputId": "ea3cf4b4-cd13-4390-ed9e-3699d760fd95"
      },
      "source": [
        "%tensorflow_version 2.x\n",
        "import numpy as np\n",
        "import tensorflow as tf\n",
        "print(tf.__version__)"
      ],
      "execution_count": null,
      "outputs": [
        {
          "output_type": "stream",
          "text": [
            "2.2.0\n"
          ],
          "name": "stdout"
        }
      ]
    },
    {
      "cell_type": "markdown",
      "metadata": {
        "id": "aE0e3WndpdNT"
      },
      "source": [
        "# ใช้งาน GPUs"
      ]
    },
    {
      "cell_type": "code",
      "metadata": {
        "id": "sMK2Dtyupi7J",
        "colab": {
          "base_uri": "https://localhost:8080/",
          "height": 35
        },
        "outputId": "7900fa81-7307-4212-c25e-762a1c28525e"
      },
      "source": [
        "# Is CUDA available?\n",
        "print (tf.config.list_physical_devices('GPU'))"
      ],
      "execution_count": null,
      "outputs": [
        {
          "output_type": "stream",
          "text": [
            "[PhysicalDevice(name='/physical_device:GPU:0', device_type='GPU')]\n"
          ],
          "name": "stdout"
        }
      ]
    },
    {
      "cell_type": "markdown",
      "metadata": {
        "id": "AedEZeJGpq93"
      },
      "source": [
        "ถ้า CUDA ไม่ได้เปิดใช้งาน\n",
        "\n",
        "แนะนำให้ไปที่  *Runtime* > *Change runtime type* > Change *Hardware accelertor* to *GPU* > Click *Save*"
      ]
    },
    {
      "cell_type": "markdown",
      "metadata": {
        "id": "Vzmm57JhPZfl"
      },
      "source": [
        "# Set seeds"
      ]
    },
    {
      "cell_type": "code",
      "metadata": {
        "id": "f_dEnkixnRWr"
      },
      "source": [
        "SEED = 1234\n",
        "\n",
        "# Set seed for reproducibility\n",
        "np.random.seed(seed=SEED)\n",
        "tf.random.set_seed(SEED)"
      ],
      "execution_count": null,
      "outputs": []
    },
    {
      "cell_type": "markdown",
      "metadata": {
        "id": "72zonzx1nZHk"
      },
      "source": [
        "# Basic"
      ]
    },
    {
      "cell_type": "markdown",
      "metadata": {
        "id": "WPHeGw_l3JmL"
      },
      "source": [
        "ตัวอย่างสร้างค่าคงที่"
      ]
    },
    {
      "cell_type": "code",
      "metadata": {
        "id": "mmVGYHVtna69",
        "colab": {
          "base_uri": "https://localhost:8080/",
          "height": 35
        },
        "outputId": "f484db2b-953b-4b3f-e332-ca5a745e1fbe"
      },
      "source": [
        "# Constants\n",
        "x = tf.constant(1)\n",
        "print (x)"
      ],
      "execution_count": null,
      "outputs": [
        {
          "output_type": "stream",
          "text": [
            "tf.Tensor(1, shape=(), dtype=int32)\n"
          ],
          "name": "stdout"
        }
      ]
    },
    {
      "cell_type": "code",
      "metadata": {
        "id": "w1X_rB3Z8l92",
        "colab": {
          "base_uri": "https://localhost:8080/",
          "height": 72
        },
        "outputId": "e131315d-9b1a-4981-d96d-e2c3da07400b"
      },
      "source": [
        "x = tf.constant([ [1, 2, 3] , [4, 5, 6] ])\n",
        "print(x)"
      ],
      "execution_count": null,
      "outputs": [
        {
          "output_type": "stream",
          "text": [
            "tf.Tensor(\n",
            "[[1 2 3]\n",
            " [4 5 6]], shape=(2, 3), dtype=int32)\n"
          ],
          "name": "stdout"
        }
      ]
    },
    {
      "cell_type": "markdown",
      "metadata": {
        "id": "YQi3W4Ph3I34"
      },
      "source": [
        "ตัวอย่างสร้าง tensor ขนาด 2 x 3 ซึ่งสมาชิกข้างในมัน random ด้วยรูปแบบ uniform distribution"
      ]
    },
    {
      "cell_type": "code",
      "metadata": {
        "id": "mtWP8wbJnhOv",
        "colab": {
          "base_uri": "https://localhost:8080/",
          "height": 108
        },
        "outputId": "e28dafa6-1c58-4505-85e0-55eb218deade"
      },
      "source": [
        "# Creating a random tensor\n",
        "x = tf.random.uniform((2,3))\n",
        "print(f\"Type: {x.dtype}\")\n",
        "print(f\"Size: {x.shape}\")\n",
        "print(f\"Values: \\n{x}\")"
      ],
      "execution_count": null,
      "outputs": [
        {
          "output_type": "stream",
          "text": [
            "Type: <dtype: 'float32'>\n",
            "Size: (2, 3)\n",
            "Values: \n",
            "[[0.5380393  0.36461866 0.5816301 ]\n",
            " [0.24382842 0.43033564 0.90619123]]\n"
          ],
          "name": "stdout"
        }
      ]
    },
    {
      "cell_type": "markdown",
      "metadata": {
        "id": "g-ombj6p3xFD"
      },
      "source": [
        "ตัวอย่างเรียกใช้เมธอด numpy()"
      ]
    },
    {
      "cell_type": "code",
      "metadata": {
        "id": "EXo-FPaX3x6s",
        "colab": {
          "base_uri": "https://localhost:8080/",
          "height": 54
        },
        "outputId": "cf5c482b-24fc-4284-b46c-9ca105fa4561"
      },
      "source": [
        "print(x.numpy())"
      ],
      "execution_count": null,
      "outputs": [
        {
          "output_type": "stream",
          "text": [
            "[[0.5380393  0.36461866 0.5816301 ]\n",
            " [0.24382842 0.43033564 0.90619123]]\n"
          ],
          "name": "stdout"
        }
      ]
    },
    {
      "cell_type": "markdown",
      "metadata": {
        "id": "lN55jKAl6Jsa"
      },
      "source": [
        "ตัวอย่างสร้าง tensor ขนาด 2x3 ที่สมาชิกเป็น 0 กับ 1"
      ]
    },
    {
      "cell_type": "code",
      "metadata": {
        "id": "Wa6EOVchoBEn",
        "colab": {
          "base_uri": "https://localhost:8080/",
          "height": 126
        },
        "outputId": "cc085f81-eca6-4d92-c2da-f324fb6a4221"
      },
      "source": [
        "# Zero and Ones tensor\n",
        "x = tf.zeros((2, 3))\n",
        "print (x)\n",
        "x = tf.ones((2, 3))\n",
        "print (x)"
      ],
      "execution_count": null,
      "outputs": [
        {
          "output_type": "stream",
          "text": [
            "tf.Tensor(\n",
            "[[0. 0. 0.]\n",
            " [0. 0. 0.]], shape=(2, 3), dtype=float32)\n",
            "tf.Tensor(\n",
            "[[1. 1. 1.]\n",
            " [1. 1. 1.]], shape=(2, 3), dtype=float32)\n"
          ],
          "name": "stdout"
        }
      ]
    },
    {
      "cell_type": "markdown",
      "metadata": {
        "id": "z0gnIb9E6RS-"
      },
      "source": [
        "แปลงชนิดข้อมูลจาก List เป็น Tensor"
      ]
    },
    {
      "cell_type": "code",
      "metadata": {
        "id": "wXZxEKxxoNYw",
        "colab": {
          "base_uri": "https://localhost:8080/",
          "height": 90
        },
        "outputId": "ce340d75-0b48-4419-b08e-42d738ec0ac5"
      },
      "source": [
        "# List → Tensor\n",
        "x = tf.convert_to_tensor([[1, 2, 3],[4, 5, 6]], dtype='int32')\n",
        "print(f\"Size: {x.shape}\")\n",
        "print(f\"Values: \\n{x}\")"
      ],
      "execution_count": null,
      "outputs": [
        {
          "output_type": "stream",
          "text": [
            "Size: (2, 3)\n",
            "Values: \n",
            "[[1 2 3]\n",
            " [4 5 6]]\n"
          ],
          "name": "stdout"
        }
      ]
    },
    {
      "cell_type": "markdown",
      "metadata": {
        "id": "U8MEBvri6a7l"
      },
      "source": [
        "แปลงชนิดข้อมูลจาก Numpy เป็น Tensor"
      ]
    },
    {
      "cell_type": "code",
      "metadata": {
        "id": "1H4cAn5BoSn2",
        "colab": {
          "base_uri": "https://localhost:8080/",
          "height": 90
        },
        "outputId": "7d641b18-fefa-4dbc-97b6-1b667072a362"
      },
      "source": [
        "# NumPy array → Tensor\n",
        "x = tf.convert_to_tensor(np.random.rand(2, 3), dtype='float32')\n",
        "print(f\"Size: {x.shape}\")\n",
        "print(f\"Values: \\n{x}\")"
      ],
      "execution_count": null,
      "outputs": [
        {
          "output_type": "stream",
          "text": [
            "Size: (2, 3)\n",
            "Values: \n",
            "[[0.19151945 0.62210876 0.43772775]\n",
            " [0.7853586  0.77997583 0.2725926 ]]\n"
          ],
          "name": "stdout"
        }
      ]
    },
    {
      "cell_type": "markdown",
      "metadata": {
        "id": "I8zgFSOL6lAq"
      },
      "source": [
        "แปลงชนิดข้อมูลจาก DataFrame เป็น Tensor\n"
      ]
    },
    {
      "cell_type": "code",
      "metadata": {
        "id": "7b3c8yh-6lyc",
        "colab": {
          "base_uri": "https://localhost:8080/",
          "height": 308
        },
        "outputId": "d8bb8a9c-e8cf-418f-e9ae-e5a30116d5f4"
      },
      "source": [
        "import pandas as pd\n",
        "\n",
        "df = pd.read_csv(\"https://download.mlcc.google.com/mledu-datasets/california_housing_train.csv\", sep=\",\")\n",
        "print(\"Size of dataframe:\", np.shape(df))\n",
        "\n",
        "#x = torch.from_numpy(df.values)\n",
        "x = tf.convert_to_tensor(df.values)\n",
        "\n",
        "print(f\"Size: {x.shape}\")\n",
        "print(f\"Values: \\n{x}\")"
      ],
      "execution_count": null,
      "outputs": [
        {
          "output_type": "stream",
          "text": [
            "Size of dataframe: (17000, 9)\n",
            "Size: (17000, 9)\n",
            "Values: \n",
            "[[-1.1431e+02  3.4190e+01  1.5000e+01 ...  4.7200e+02  1.4936e+00\n",
            "   6.6900e+04]\n",
            " [-1.1447e+02  3.4400e+01  1.9000e+01 ...  4.6300e+02  1.8200e+00\n",
            "   8.0100e+04]\n",
            " [-1.1456e+02  3.3690e+01  1.7000e+01 ...  1.1700e+02  1.6509e+00\n",
            "   8.5700e+04]\n",
            " ...\n",
            " [-1.2430e+02  4.1840e+01  1.7000e+01 ...  4.5600e+02  3.0313e+00\n",
            "   1.0360e+05]\n",
            " [-1.2430e+02  4.1800e+01  1.9000e+01 ...  4.7800e+02  1.9797e+00\n",
            "   8.5800e+04]\n",
            " [-1.2435e+02  4.0540e+01  5.2000e+01 ...  2.7000e+02  3.0147e+00\n",
            "   9.4600e+04]]\n"
          ],
          "name": "stdout"
        }
      ]
    },
    {
      "cell_type": "markdown",
      "metadata": {
        "id": "12OMtxyc6rqF"
      },
      "source": [
        "เปลี่ยนชนิดข้อมูลใน tensor\n"
      ]
    },
    {
      "cell_type": "code",
      "metadata": {
        "id": "ddvs7jpBoY2T",
        "colab": {
          "base_uri": "https://localhost:8080/",
          "height": 54
        },
        "outputId": "d573100b-baf5-4071-98cf-7b991e6e2205"
      },
      "source": [
        "# Changing tensor type\n",
        "'''\n",
        "x = tf.random.uniform((2,3))\n",
        "print(f\"Type: {x.dtype}\")\n",
        "x = tf.random.uniform((2,3), dtype='float64')\n",
        "print(f\"Type: {x.dtype}\")\n",
        "'''\n",
        "x = tf.random.uniform((2,3))\n",
        "print(f\"Type: {x.dtype}\")\n",
        "x = tf.convert_to_tensor(x.numpy(), dtype='float64')\n",
        "print(f\"Type: {x.dtype}\")\n"
      ],
      "execution_count": null,
      "outputs": [
        {
          "output_type": "stream",
          "text": [
            "Type: <dtype: 'float32'>\n",
            "Type: <dtype: 'float64'>\n"
          ],
          "name": "stdout"
        }
      ]
    },
    {
      "cell_type": "markdown",
      "metadata": {
        "id": "qeVaPlIiogaf"
      },
      "source": [
        "# ตัวดำนำการ (Operations)"
      ]
    },
    {
      "cell_type": "code",
      "metadata": {
        "id": "41kDj_3pofdw",
        "colab": {
          "base_uri": "https://localhost:8080/",
          "height": 90
        },
        "outputId": "eb5f7fbf-887a-4ce6-c81b-7b0f3be5c308"
      },
      "source": [
        "# Addition\n",
        "x = tf.random.uniform((2,3))\n",
        "y = tf.random.uniform((2,3))\n",
        "z = x + y\n",
        "print(f\"Size: {z.shape}\")\n",
        "print(f\"Values: \\n{z}\")"
      ],
      "execution_count": null,
      "outputs": [
        {
          "output_type": "stream",
          "text": [
            "Size: (2, 3)\n",
            "Values: \n",
            "[[1.5074273  0.9708134  1.1970681 ]\n",
            " [1.1366602  0.46226835 0.5434133 ]]\n"
          ],
          "name": "stdout"
        }
      ]
    },
    {
      "cell_type": "markdown",
      "metadata": {
        "id": "HFhFVcsP-Lx2"
      },
      "source": [
        "บวกลบคูณหารแบบเมทริกซ์"
      ]
    },
    {
      "cell_type": "code",
      "metadata": {
        "id": "3r4MuQRM-MbB",
        "colab": {
          "base_uri": "https://localhost:8080/",
          "height": 90
        },
        "outputId": "d4df4b79-5eb7-400e-f37d-460c9541197b"
      },
      "source": [
        "a = tf.random.uniform((2,3))\n",
        "b = tf.random.uniform((2,3))\n",
        "c = tf.random.uniform((2,3))\n",
        "z = (a**2 - 4*b )/c\n",
        "print(f\"Size: {z.shape}\")\n",
        "print(f\"Values: \\n{z}\")"
      ],
      "execution_count": null,
      "outputs": [
        {
          "output_type": "stream",
          "text": [
            "Size: (2, 3)\n",
            "Values: \n",
            "[[ -2.2354162 -11.57526    -4.132743 ]\n",
            " [ -5.5883336  -2.9325957  -1.6236894]]\n"
          ],
          "name": "stdout"
        }
      ]
    },
    {
      "cell_type": "code",
      "metadata": {
        "id": "r4E0-3pMopWP",
        "colab": {
          "base_uri": "https://localhost:8080/",
          "height": 90
        },
        "outputId": "c25aa36d-52ec-4f8c-da37-8ecba560e198"
      },
      "source": [
        "# Dot product\n",
        "x = tf.random.uniform((2,3))\n",
        "y = tf.random.uniform((3,2))\n",
        "z = tf.matmul(x, y)\n",
        "print(f\"Size: {z.shape}\")\n",
        "print(f\"Values: \\n{z}\")"
      ],
      "execution_count": null,
      "outputs": [
        {
          "output_type": "stream",
          "text": [
            "Size: (2, 2)\n",
            "Values: \n",
            "[[0.88974315 0.36487216]\n",
            " [0.30922678 0.18126723]]\n"
          ],
          "name": "stdout"
        }
      ]
    },
    {
      "cell_type": "markdown",
      "metadata": {
        "id": "drCSQ2hT-djW"
      },
      "source": [
        "ทำทรานโพส"
      ]
    },
    {
      "cell_type": "code",
      "metadata": {
        "id": "x-JHdjrKovti",
        "colab": {
          "base_uri": "https://localhost:8080/",
          "height": 181
        },
        "outputId": "45e8502d-46b5-4949-9af8-28007787bf81"
      },
      "source": [
        "# Transpose\n",
        "x = tf.random.uniform((2,3))\n",
        "print(f\"Size: {x.shape}\")\n",
        "print(f\"Values: \\n{x}\")\n",
        "y = tf.transpose(x)\n",
        "print(f\"Size: {y.shape}\")\n",
        "print(f\"Values: \\n{y}\")"
      ],
      "execution_count": null,
      "outputs": [
        {
          "output_type": "stream",
          "text": [
            "Size: (2, 3)\n",
            "Values: \n",
            "[[0.45171046 0.9757304  0.96276057]\n",
            " [0.49976635 0.46484458 0.65036225]]\n",
            "Size: (3, 2)\n",
            "Values: \n",
            "[[0.45171046 0.49976635]\n",
            " [0.9757304  0.46484458]\n",
            " [0.96276057 0.65036225]]\n"
          ],
          "name": "stdout"
        }
      ]
    },
    {
      "cell_type": "markdown",
      "metadata": {
        "id": "iYrxWbFM-ilZ"
      },
      "source": [
        "เปลี่ยนขนาด"
      ]
    },
    {
      "cell_type": "code",
      "metadata": {
        "id": "PMVjsoj2ozuw",
        "colab": {
          "base_uri": "https://localhost:8080/",
          "height": 308
        },
        "outputId": "16122b7f-f3ef-4e4b-e3b8-bf3359603376"
      },
      "source": [
        "# Reshape\n",
        "x = tf.random.uniform((2,3))\n",
        "print(f\"Size: {x.shape}\")\n",
        "print(f\"Values: \\n{x}\")\n",
        "\n",
        "z = tf.reshape(x, (3, 2))\n",
        "print(\"\\nAfter Reshape\")\n",
        "print(f\"Size: {z.shape}\")\n",
        "print(f\"Values: \\n{z}\")\n",
        "\n",
        "z = tf.reshape(x, (1, 6))\n",
        "print(\"\\nAfter Reshape\")\n",
        "print(f\"Size: {z.shape}\")\n",
        "print(f\"Values: \\n{z}\")"
      ],
      "execution_count": null,
      "outputs": [
        {
          "output_type": "stream",
          "text": [
            "Size: (2, 3)\n",
            "Values: \n",
            "[[0.80235374 0.6862793  0.35347772]\n",
            " [0.5970619  0.8998532  0.05612409]]\n",
            "\n",
            "After Reshape\n",
            "Size: (3, 2)\n",
            "Values: \n",
            "[[0.80235374 0.6862793 ]\n",
            " [0.35347772 0.5970619 ]\n",
            " [0.8998532  0.05612409]]\n",
            "\n",
            "After Reshape\n",
            "Size: (1, 6)\n",
            "Values: \n",
            "[[0.80235374 0.6862793  0.35347772 0.5970619  0.8998532  0.05612409]]\n"
          ],
          "name": "stdout"
        }
      ]
    },
    {
      "cell_type": "markdown",
      "metadata": {
        "id": "kg0WwbFz_Ukl"
      },
      "source": [
        "operator แนวแกนตั้ง (คอลัมน์) หรือนอน (แถว)\n",
        "\n",
        "* dim = 0 คือแกนตั้ง\n",
        "* dim = 1 คือแกนนอน"
      ]
    },
    {
      "cell_type": "code",
      "metadata": {
        "id": "j3Y05uTGo3Bj",
        "colab": {
          "base_uri": "https://localhost:8080/",
          "height": 145
        },
        "outputId": "e28a1bf6-1bd5-464f-a1ad-b9bca4c6e1b2"
      },
      "source": [
        "# Dimensional operations\n",
        "x = tf.random.uniform((2,3))\n",
        "print(f\"Values: \\n{x}\")\n",
        "y = tf.math.reduce_sum(x, axis=0) # add each row's value for every column\n",
        "print(f\"Values: \\n{y}\")\n",
        "z = tf.math.reduce_sum(x, axis=1) # add each columns's value for every row\n",
        "print(f\"Values: \\n{z}\")"
      ],
      "execution_count": null,
      "outputs": [
        {
          "output_type": "stream",
          "text": [
            "Values: \n",
            "[[0.13242006 0.8582847  0.50360227]\n",
            " [0.7038616  0.42338693 0.7614349 ]]\n",
            "Values: \n",
            "[0.83628166 1.2816716  1.2650372 ]\n",
            "Values: \n",
            "[1.494307  1.8886834]\n"
          ],
          "name": "stdout"
        }
      ]
    },
    {
      "cell_type": "markdown",
      "metadata": {
        "id": "7a_INvzDo8ia"
      },
      "source": [
        "# Indexing, Splicing and Joining"
      ]
    },
    {
      "cell_type": "markdown",
      "metadata": {
        "id": "L3P7xnMq_hgI"
      },
      "source": [
        "ใช้ index เหมือนกับ numpy"
      ]
    },
    {
      "cell_type": "code",
      "metadata": {
        "id": "8uIvwp6_o7Pe",
        "colab": {
          "base_uri": "https://localhost:8080/",
          "height": 145
        },
        "outputId": "9ff0ac9e-5615-432b-80bf-39f71a8f2b8a"
      },
      "source": [
        "x = tf.random.uniform((2,3))\n",
        "print (f\"x: \\n{x}\")\n",
        "print (f\"x[:1]: \\n{x[:1]}\")\n",
        "print (f\"x[:1, 1:3]: \\n{x[:1, 1:3]}\")"
      ],
      "execution_count": null,
      "outputs": [
        {
          "output_type": "stream",
          "text": [
            "x: \n",
            "[[0.46948004 0.64634395 0.07618201]\n",
            " [0.39206338 0.23859632 0.16841686]]\n",
            "x[:1]: \n",
            "[[0.46948004 0.64634395 0.07618201]]\n",
            "x[:1, 1:3]: \n",
            "[[0.64634395 0.07618201]]\n"
          ],
          "name": "stdout"
        }
      ]
    },
    {
      "cell_type": "code",
      "metadata": {
        "id": "He8gz0DWpJtM",
        "colab": {
          "base_uri": "https://localhost:8080/",
          "height": 126
        },
        "outputId": "8bc0275b-ce0f-45d8-a4e1-3d3f8e9ce7d1"
      },
      "source": [
        "# Select with dimensional indicies\n",
        "x = tf.random.uniform((2,3))\n",
        "print(f\"Values: \\n{x}\")\n",
        "\n",
        "col_indices = tf.convert_to_tensor([0, 2])\n",
        "chosen = tf.gather(x, indices=col_indices, axis=1) # values from column 0 & 2\n",
        "print(f\"Values: \\n{chosen}\") "
      ],
      "execution_count": null,
      "outputs": [
        {
          "output_type": "stream",
          "text": [
            "Values: \n",
            "[[0.37195098 0.86123586 0.7835368 ]\n",
            " [0.2759757  0.26125538 0.8507333 ]]\n",
            "Values: \n",
            "[[0.37195098 0.7835368 ]\n",
            " [0.2759757  0.8507333 ]]\n"
          ],
          "name": "stdout"
        }
      ]
    },
    {
      "cell_type": "markdown",
      "metadata": {
        "id": "a1ZZHPw0ANDs"
      },
      "source": [
        "นำ tensor มาต่อกัน"
      ]
    },
    {
      "cell_type": "code",
      "metadata": {
        "id": "ptQ22FIApPt_",
        "colab": {
          "base_uri": "https://localhost:8080/",
          "height": 163
        },
        "outputId": "e5b9edf1-9367-4858-b92d-c80e0547ed46"
      },
      "source": [
        "# Concatenation\n",
        "x = tf.random.uniform((2,3))\n",
        "print(f\"Values: \\n{x}\")\n",
        "y = tf.concat([x, x], axis=0) # stack by rows (axis=1 to stack by columns)\n",
        "print(f\"Values: \\n{y}\")"
      ],
      "execution_count": null,
      "outputs": [
        {
          "output_type": "stream",
          "text": [
            "Values: \n",
            "[[0.45885837 0.5560707  0.19083893]\n",
            " [0.7622721  0.94571674 0.78334343]]\n",
            "Values: \n",
            "[[0.45885837 0.5560707  0.19083893]\n",
            " [0.7622721  0.94571674 0.78334343]\n",
            " [0.45885837 0.5560707  0.19083893]\n",
            " [0.7622721  0.94571674 0.78334343]]\n"
          ],
          "name": "stdout"
        }
      ]
    },
    {
      "cell_type": "markdown",
      "metadata": {
        "id": "DqiwReATqpFl"
      },
      "source": [
        "# Gradients"
      ]
    },
    {
      "cell_type": "markdown",
      "metadata": {
        "id": "z7gqZXidXDlt"
      },
      "source": [
        "# Accurarcy"
      ]
    },
    {
      "cell_type": "code",
      "metadata": {
        "id": "jEKlvqXwXCvM",
        "colab": {
          "base_uri": "https://localhost:8080/",
          "height": 33
        },
        "outputId": "1382a9fe-3cae-4270-edc2-fe0354f9becb"
      },
      "source": [
        "m = tf.keras.metrics.Accuracy()\n",
        "_ = m.update_state([[1], [2], [3], [4]], [[0], [2], [3], [4]])\n",
        "m.result().numpy()"
      ],
      "execution_count": null,
      "outputs": [
        {
          "output_type": "execute_result",
          "data": {
            "text/plain": [
              "0.75"
            ]
          },
          "metadata": {
            "tags": []
          },
          "execution_count": 2
        }
      ]
    },
    {
      "cell_type": "markdown",
      "metadata": {
        "id": "3GDcwGYDHXNF"
      },
      "source": [
        "# ฝากติดตาม\n",
        "\n",
        "<img height=\"20px\" src=\"https://www.patanasongsivilai.com/blog/wp-content/uploads/2017/06/logo_facebook2.png\" align=\"left\" hspace=\"10px\" vspace=\"0px\">  https://www.facebook.com/programmerthai/\n",
        "\n",
        "<img height=\"14px\" src=\"https://www.patanasongsivilai.com/blog/wp-content/uploads/2019/03/youtube.png\" align=\"left\" hspace=\"10px\" vspace=\"3px\">  https://www.youtube.com/channel/UCvhCKtG5cRE6K5--RJPql_w\n",
        "\n",
        "<img height=\"14px\" src=\"https://www.patanasongsivilai.com/blog/wp-content/uploads/2019/09/github-2.jpg\" align=\"left\" hspace=\"10px\" vspace=\"3px\">https://github.com/adminho/machine-learning"
      ]
    },
    {
      "cell_type": "code",
      "metadata": {
        "id": "1bFwAJh8HYi6",
        "cellView": "form",
        "colab": {
          "base_uri": "https://localhost:8080/",
          "height": 608
        },
        "outputId": "16a149a4-9f5f-4d27-837f-0e00c2c6acd9"
      },
      "source": [
        "#@title ฝากประชาสัมพันธ์ หนังสือ AI (ปัญญาประดิษฐ์) ไม่ยาก เรียนรู้ได้ด้วยเลขม. ปลาย ราคา 295 บาท\n",
        "%%HTML\n",
        "<iframe src=\"https://www.facebook.com/plugins/post.php?href=https%3A%2F%2Fwww.facebook.com%2Fprogrammerthai%2Fphotos%2Fa.2410667485889755%2F2555677101388792%2F%3Ftype%3D3&width=500\" width=\"500\" height=\"588\" style=\"border:none;overflow:hidden\" scrolling=\"no\" frameborder=\"0\" allowTransparency=\"true\" allow=\"encrypted-media\"></iframe>"
      ],
      "execution_count": null,
      "outputs": [
        {
          "output_type": "display_data",
          "data": {
            "text/html": [
              "<iframe src=\"https://www.facebook.com/plugins/post.php?href=https%3A%2F%2Fwww.facebook.com%2Fprogrammerthai%2Fphotos%2Fa.2410667485889755%2F2555677101388792%2F%3Ftype%3D3&width=500\" width=\"500\" height=\"588\" style=\"border:none;overflow:hidden\" scrolling=\"no\" frameborder=\"0\" allowTransparency=\"true\" allow=\"encrypted-media\"></iframe>"
            ],
            "text/plain": [
              "<IPython.core.display.HTML object>"
            ]
          },
          "metadata": {
            "tags": []
          }
        }
      ]
    }
  ]
}