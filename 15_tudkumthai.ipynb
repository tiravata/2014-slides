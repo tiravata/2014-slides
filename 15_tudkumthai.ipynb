{
  "nbformat": 4,
  "nbformat_minor": 0,
  "metadata": {
    "colab": {
      "name": "15_tudkumthai.ipynb",
      "provenance": [],
      "collapsed_sections": [],
      "toc_visible": true,
      "include_colab_link": true
    },
    "kernelspec": {
      "name": "python3",
      "display_name": "Python 3"
    },
    "accelerator": "GPU"
  },
  "cells": [
    {
      "cell_type": "markdown",
      "metadata": {
        "id": "view-in-github",
        "colab_type": "text"
      },
      "source": [
        "<a href=\"https://colab.research.google.com/github/tiravata/2014-slides/blob/master/15_tudkumthai.ipynb\" target=\"_parent\"><img src=\"https://colab.research.google.com/assets/colab-badge.svg\" alt=\"Open In Colab\"/></a>"
      ]
    },
    {
      "cell_type": "markdown",
      "metadata": {
        "id": "r9BzPKP9iJGa"
      },
      "source": [
        "<img height=\"45px\" src=\"https://avatars3.githubusercontent.com/u/20337240?s=460&v=4\" align=\"left\" hspace=\"10px\" vspace=\"0px\">\n",
        "\n",
        "# ตัวอย่างโค้ดตัดคำภาษาไทย\n",
        "\n",
        "<hr>\n",
        "\n",
        "<a href='https://www.facebook.com/programmerthai'><font color='green'>สรุปและเรียบเรียงโดย โปรแกรมเมอร์ไทย thai programmer</font></a>\n"
      ]
    },
    {
      "cell_type": "markdown",
      "metadata": {
        "id": "z089U5dx9_pr"
      },
      "source": [
        "**คุณเคยเห็นประโยคแบบนี้หรือไม่?**\n",
        "\n",
        "<font size=\"4\" color=\"blue\">ประเทศไทยรวมเลือดเนื้อชาติเชื้อไทยเป็นประชารัฐไผทของไทยทุกส่วนอยู่ดำรงคงไว้ได้ทั้งมวลด้วยไทยล้วนหมายรักสามัคคีไทยนี้รักสงบแต่ถึงรบไม่ขลาดเอกราชจะไม่ให้ใครข่มขี่สละเลือดทุกหยาดเป็นชาติพลีเถลิงประเทศชาติไทยทวีมีชัยชโย</font>\n",
        "\n",
        "<br/>\n",
        "\n",
        "ถ้าใช้คนไทยอ่านตัดคำแยกออกมา ก็ยังดูวุ่นวาย\n",
        "\n",
        "แต่โค้ดที่จะเห็นต่อไปนี้ (ใช้ภาษา Python)\n",
        "\n",
        "จะตัดคำโดยใช้ **AI (ปัญญาประดิษฐ์)** สาย **Deep learning (การเรียนรู้เชิงลึก)** \n",
        "\n",
        "เพื่อนำมาใช้ในงานตัดคำของรูปประโยคในภาษาไทย\n",
        "\n",
        "\n",
        "<br/>\n",
        "\n",
        "\n",
        "**หมายเหตุ**\n",
        "\n",
        "ส่วนงานอีกชั้นได้แก่\n",
        "https://arxiv.org/abs/1908.01294\n",
        "\n",
        "ว่างๆ จะลองนำมารีวีวต่อไปครับ\n",
        "\n",
        "\n",
        "<hr>"
      ]
    },
    {
      "cell_type": "markdown",
      "metadata": {
        "id": "pbyGHAKhhZ6D"
      },
      "source": [
        "**<h3>Cite</h3>**\n",
        "\n",
        "https://github.com/sertiscorp/thai-word-segmentation\n",
        "\n",
        "https://github.com/rkcosmos/deepcut\n",
        "\n",
        "https://github.com/pucktada/cutkum"
      ]
    },
    {
      "cell_type": "markdown",
      "metadata": {
        "id": "OeymoP5deR5t"
      },
      "source": [
        "# วิธีใช้งาน colab\n",
        "\n",
        "Colab พัฒนาโดย google เป็นหน้าเว็บเอาไว้ใช้เขียนโค้ด python ได้ผ่านทางหน้าเว็บ และเชื่อมต่อกับ google drive ของเราก็ได้ด้วย ซึ่ง colab หน้านี้**ได้รวบรวมเนื้อหา Python ของม.ต้น** เอาไว้ แต่ก่อนอื่นอยากให้ดูวิธีการใช้งาน colab เสียก่อน\n",
        "\n",
        "<font color='red'>** ต้องมี Gmail และ google drive</font>\n",
        "\n",
        "<hr/>\n",
        "\n",
        "<h3>วิธี 1) กด \"Open in playgrouhd\"</h3>\n",
        "<div>\n",
        "<img height=\"200px\" src=\"https://www.patanasongsivilai.com/blog/wp-content/uploads/2020/05/python_matayom_4.png\" align=\"center\" hspace=\"10px\" vspace=\"0px\">\n",
        "\n",
        "\n",
        "<hr/>\n",
        "\n",
        "<h3>วิธี 2) กด Save a copy in Drive ... เพื่อบันทึกไว้ google drive เครื่องเรา</h3>\n",
        "\n",
        "<img height=\"300px\" src=\"https://www.patanasongsivilai.com/blog/wp-content/uploads/2019/11/python_matayom_1.png\" align=\"center\" hspace=\"10px\" vspace=\"0px\">\n",
        "\n",
        "<br/>\n",
        "\n",
        "<img height=\"200px\" src=\"https://www.patanasongsivilai.com/blog/wp-content/uploads/2019/11/python_matayom_2.png\" align=\"center\" hspace=\"10px\" vspace=\"0px\">\n",
        "\n",
        "<hr/>\n",
        "\n",
        "<h3>จากนั้นถึงจะสามารถรันได้</h3>\n",
        "<img height=\"200px\" src=\"https://www.patanasongsivilai.com/blog/wp-content/uploads/2019/11/python_matayom_3.png\" align=\"center\" hspace=\"10px\" vspace=\"0px\">"
      ]
    },
    {
      "cell_type": "markdown",
      "metadata": {
        "id": "9pVHncV4e3au"
      },
      "source": [
        "# ติดตั้งระบบก่อน (Install)\n",
        "\n",
        "ก่อนจะรันโค้ดตัวอย่าง\n",
        "ต้องติดตั้งระบบ (คลิกรันแค่ครั้งเดียวพอไม่ต้องรันอีกแหละ)"
      ]
    },
    {
      "cell_type": "code",
      "metadata": {
        "id": "4v4Tr2XRe1-m"
      },
      "source": [
        "%cd /content/\n",
        "\n",
        "#Install thai-word-segmentation\n",
        "!git clone https://github.com/sertiscorp/thai-word-segmentation.git\n",
        "%cd thai-word-segmentation\n",
        "\n",
        "#Install deepcut  \n",
        "!pip install deepcut  \n",
        "\n",
        "#Install cutkum  \n",
        "!pip install cutkum\n",
        "\n",
        "# turn off tensorflow info\n",
        "import tensorflow as tf\n",
        "#tf.logging.set_verbosity(tf.logging.ERROR)"
      ],
      "execution_count": null,
      "outputs": []
    },
    {
      "cell_type": "markdown",
      "metadata": {
        "id": "-T_JMljOIdC3"
      },
      "source": [
        "# ตัวอย่างประโยคที่เรียงต่อเนื่องกัน\n",
        "\n",
        "**ประโยค 1:**  ประเทศไทยรวมเลือดเนื้อชาติเชื้อไทย\n",
        "เป็นประชารัฐไผทของไทยทุกส่วน\n",
        "อยู่ดำรงคงไว้ได้ทั้งมวล\n",
        "ด้วยไทยล้วนหมายรักสามัคคี\n",
        "ไทยนี้รักสงบแต่ถึงรบไม่ขลาด\n",
        "เอกราชจะไม่ให้ใครข่มขี่\n",
        "สละเลือดทุกหยาดเป็นชาติพลี\n",
        "เถลิงประเทศชาติไทยทวีมีชัยชโย\n",
        "\n",
        "\n",
        "**ประโยค 2:** สาวตากลมมานั่งตากลมตากลมตากลม\n",
        "\n",
        "\n",
        "**ประโยค 3:** สองสาวสุดแสนสวยใส่เสื้อสีแสดสวมสร้อยสี่แสนสามสิบเส้นส้นสูงสีส้มเสื้อสูทสีแสบสันสาดส่องแสงสีสดใส"
      ]
    },
    {
      "cell_type": "markdown",
      "metadata": {
        "id": "uaNsPhxGHgeV"
      },
      "source": [
        "# ตัวอย่างการใช้ thai-word-segmentation\n",
        "\n",
        "see more \n",
        "\n",
        "https://github.com/sertiscorp/thai-word-segmentation"
      ]
    },
    {
      "cell_type": "code",
      "metadata": {
        "id": "3P1FeDkA8hn8"
      },
      "source": [
        "#@title ป้อนประโยคที่จะให้ตัดคำ\n",
        "text = \"\\u0E2A\\u0E32\\u0E27\\u0E15\\u0E32\\u0E01\\u0E25\\u0E21\\u0E21\\u0E32\\u0E19\\u0E31\\u0E48\\u0E07\\u0E15\\u0E32\\u0E01\\u0E25\\u0E21\\u0E15\\u0E32\\u0E01\\u0E25\\u0E21\\u0E15\\u0E32\\u0E01\\u0E25\\u0E21\" #@param {type:\"string\"}\n",
        "\n",
        "from thainlplib import ThaiWordSegmentLabeller\n",
        "import numpy as np\n",
        "import tensorflow as tf\n",
        "\n",
        "# Pretrained model weights location\n",
        "saved_model_path='saved_model'\n",
        "\n",
        "# Convert text to labels\n",
        "inputs = [ThaiWordSegmentLabeller.get_input_labels(text)]\n",
        "lengths = [len(text)]\n",
        "\n",
        "def nonzero(a):\n",
        "    return [i for i, e in enumerate(a) if e != 0]\n",
        "\n",
        "def split(s, indices):\n",
        "    return [s[i:j] for i,j in zip(indices, indices[1:]+[None])]\n",
        "\n",
        "with tf.Session() as session:\n",
        "    # Read model weights\n",
        "    model = tf.saved_model.loader.load(session, [tf.saved_model.tag_constants.SERVING], saved_model_path)\n",
        "\n",
        "    # Get model input variables\n",
        "    graph = tf.get_default_graph()\n",
        "    g_inputs = graph.get_tensor_by_name('IteratorGetNext:1')\n",
        "    g_lengths = graph.get_tensor_by_name('IteratorGetNext:0')\n",
        "    g_training = graph.get_tensor_by_name('Placeholder_1:0')\n",
        "    g_outputs = graph.get_tensor_by_name('boolean_mask_1/Gather:0')\n",
        "    \n",
        "    # Segment the text\n",
        "    y = session.run(g_outputs, feed_dict = {g_inputs: inputs, g_lengths: lengths, g_training: False})\n",
        "\n",
        "    # Mark word boundaries with pipe character\n",
        "    for w in split(text, nonzero(y)): print(w, end='|')\n",
        "    print()\n"
      ],
      "execution_count": null,
      "outputs": []
    },
    {
      "cell_type": "markdown",
      "metadata": {
        "id": "8ngpBRYmHkhz"
      },
      "source": [
        "# ตัวอย่างการใช้ Deepcut\n",
        "\n",
        "see more \n",
        "\n",
        "https://github.com/rkcosmos/deepcut"
      ]
    },
    {
      "cell_type": "code",
      "metadata": {
        "id": "gb3dZ9YA8SZM"
      },
      "source": [
        "#@title ป้อนประโยคที่จะให้ตัดคำ\n",
        "text = \"\\u0E2A\\u0E32\\u0E27\\u0E15\\u0E32\\u0E01\\u0E25\\u0E21\\u0E21\\u0E32\\u0E19\\u0E31\\u0E48\\u0E07\\u0E15\\u0E32\\u0E01\\u0E25\\u0E21\\u0E15\\u0E32\\u0E01\\u0E25\\u0E21\\u0E15\\u0E32\\u0E01\\u0E25\\u0E21\" #@param {type:\"string\"}\n",
        "import deepcut\n",
        "words = deepcut.tokenize(text)\n",
        "\n",
        "\n",
        "str1 = '|'.join(str(e) for e in words)\n",
        "print(str1)"
      ],
      "execution_count": null,
      "outputs": []
    },
    {
      "cell_type": "markdown",
      "metadata": {
        "id": "hXW9MwTUJsJN"
      },
      "source": [
        "หรือจะใช้ผ่านโมดูล pythainlp "
      ]
    },
    {
      "cell_type": "code",
      "metadata": {
        "id": "F5WbJMVEJ0FD"
      },
      "source": [
        "!pip install pythainlp"
      ],
      "execution_count": null,
      "outputs": []
    },
    {
      "cell_type": "code",
      "metadata": {
        "id": "j8rB58B0J6HL"
      },
      "source": [
        "#@title ป้อนประโยคที่จะให้ตัดคำ\n",
        "text = \"\\u0E2A\\u0E32\\u0E27\\u0E15\\u0E32\\u0E01\\u0E25\\u0E21\\u0E21\\u0E32\\u0E19\\u0E31\\u0E48\\u0E07\\u0E15\\u0E32\\u0E01\\u0E25\\u0E21\\u0E15\\u0E32\\u0E01\\u0E25\\u0E21\\u0E15\\u0E32\\u0E01\\u0E25\\u0E21\" #@param {type:\"string\"}\n",
        "import pythainlp \n",
        "words = pythainlp.tokenize.word_tokenize(text, engine='deepcut')\n",
        "str1 = '|'.join(str(e) for e in words)\n",
        "print(str1)"
      ],
      "execution_count": null,
      "outputs": []
    },
    {
      "cell_type": "markdown",
      "metadata": {
        "id": "3dKKZjehUGIh"
      },
      "source": [
        "# ตัวอย่างการใช้ Cutkum\n",
        "\n",
        "see more \n",
        "\n",
        "https://github.com/pucktada/cutkum"
      ]
    },
    {
      "cell_type": "code",
      "metadata": {
        "id": "7wm_HuGxDECK"
      },
      "source": [
        "#@title ป้อนประโยคที่จะให้ตัดคำ\n",
        "text = \"\\u0E2A\\u0E32\\u0E27\\u0E15\\u0E32\\u0E01\\u0E25\\u0E21\\u0E21\\u0E32\\u0E19\\u0E31\\u0E48\\u0E07\\u0E15\\u0E32\\u0E01\\u0E25\\u0E21\\u0E15\\u0E32\\u0E01\\u0E25\\u0E21\\u0E15\\u0E32\\u0E01\\u0E25\\u0E21\" #@param {type:\"string\"}\n",
        "from cutkum.tokenizer import Cutkum\n",
        "\n",
        "ck = Cutkum()\n",
        "words = ck.tokenize(text)\n",
        "str1 = '|'.join(str(e) for e in words)\n",
        "print(str1)"
      ],
      "execution_count": null,
      "outputs": []
    },
    {
      "cell_type": "markdown",
      "metadata": {
        "id": "bNyDC-7CblzX"
      },
      "source": [
        "# เปรียบเทียบทั้ง 3 ตัว!\n",
        "\n"
      ]
    },
    {
      "cell_type": "markdown",
      "metadata": {
        "id": "DTRJuOsgcEKe"
      },
      "source": [
        "![alt text](https://www.patanasongsivilai.com/blog/wp-content/uploads/2017/08/tudkum_thai.png)"
      ]
    },
    {
      "cell_type": "markdown",
      "metadata": {
        "id": "6knGLZhMcHH1"
      },
      "source": [
        "# ทิ้งท้าย\n",
        "\n",
        "อ่านเพิ่มเติมในบทความ https://www.patanasongsivilai.com/blog/tudkumthai/\n",
        "  \n",
        "# ฝากติดตาม\n",
        "\n",
        "<img height=\"20px\" src=\"https://www.patanasongsivilai.com/blog/wp-content/uploads/2017/06/logo_facebook2.png\" align=\"left\" hspace=\"10px\" vspace=\"0px\">  https://www.facebook.com/programmerthai/\n",
        "\n",
        "<img height=\"14px\" src=\"https://www.patanasongsivilai.com/blog/wp-content/uploads/2019/03/youtube.png\" align=\"left\" hspace=\"10px\" vspace=\"3px\">  https://www.youtube.com/channel/UCvhCKtG5cRE6K5--RJPql_w\n",
        "\n",
        "<img height=\"14px\" src=\"https://www.patanasongsivilai.com/blog/wp-content/uploads/2019/09/github-2.jpg\" align=\"left\" hspace=\"10px\" vspace=\"3px\">https://github.com/adminho/machine-learning"
      ]
    },
    {
      "cell_type": "markdown",
      "metadata": {
        "id": "RzlBJQmMqhCo"
      },
      "source": [
        "# ฝากประชาสัมพันธ์"
      ]
    },
    {
      "cell_type": "code",
      "metadata": {
        "id": "oxR9CEevqqQh",
        "cellView": "form",
        "colab": {
          "base_uri": "https://localhost:8080/",
          "height": 608
        },
        "outputId": "77868fb7-35f2-40bf-eb6d-2616b9cce72f"
      },
      "source": [
        "#@title หนังสือ AI (ปัญญาประดิษฐ์) ไม่ยาก เรียนรู้ได้ด้วยเลขม. ปลาย ราคา 295 บาท\n",
        "%%HTML\n",
        "<iframe src=\"https://www.facebook.com/plugins/post.php?href=https%3A%2F%2Fwww.facebook.com%2Fprogrammerthai%2Fphotos%2Fa.2410667485889755%2F2555677101388792%2F%3Ftype%3D3&width=500\" width=\"500\" height=\"588\" style=\"border:none;overflow:hidden\" scrolling=\"no\" frameborder=\"0\" allowTransparency=\"true\" allow=\"encrypted-media\"></iframe>"
      ],
      "execution_count": null,
      "outputs": [
        {
          "output_type": "display_data",
          "data": {
            "text/html": [
              "<iframe src=\"https://www.facebook.com/plugins/post.php?href=https%3A%2F%2Fwww.facebook.com%2Fprogrammerthai%2Fphotos%2Fa.2410667485889755%2F2555677101388792%2F%3Ftype%3D3&width=500\" width=\"500\" height=\"588\" style=\"border:none;overflow:hidden\" scrolling=\"no\" frameborder=\"0\" allowTransparency=\"true\" allow=\"encrypted-media\"></iframe>"
            ],
            "text/plain": [
              "<IPython.core.display.HTML object>"
            ]
          },
          "metadata": {
            "tags": []
          }
        }
      ]
    }
  ]
}