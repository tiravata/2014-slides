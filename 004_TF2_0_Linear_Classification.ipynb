{
  "nbformat": 4,
  "nbformat_minor": 0,
  "metadata": {
    "colab": {
      "name": "004-TF2.0 Linear Classification.ipynb",
      "provenance": [],
      "collapsed_sections": [],
      "toc_visible": true,
      "include_colab_link": true
    },
    "kernelspec": {
      "name": "python3",
      "display_name": "Python 3"
    },
    "accelerator": "GPU"
  },
  "cells": [
    {
      "cell_type": "markdown",
      "metadata": {
        "id": "view-in-github",
        "colab_type": "text"
      },
      "source": [
        "<a href=\"https://colab.research.google.com/github/tiravata/2014-slides/blob/master/004_TF2_0_Linear_Classification.ipynb\" target=\"_parent\"><img src=\"https://colab.research.google.com/assets/colab-badge.svg\" alt=\"Open In Colab\"/></a>"
      ]
    },
    {
      "cell_type": "code",
      "metadata": {
        "id": "DeNaBVyT4pn1",
        "colab_type": "code",
        "outputId": "ad80dd0a-1709-49a2-9ede-11b5beb5f64b",
        "colab": {
          "base_uri": "https://localhost:8080/",
          "height": 85
        }
      },
      "source": [
        "# Install TensorFlow\n",
        "# !pip install -q tensorflow-gpu==2.0.0-beta1\n",
        "\n",
        "try:\n",
        "  %tensorflow_version 2.x  # Colab only.\n",
        "except Exception:\n",
        "  pass\n",
        "\n",
        "import tensorflow as tf\n",
        "print(tf.__version__)"
      ],
      "execution_count": 0,
      "outputs": [
        {
          "output_type": "stream",
          "text": [
            "\u001b[K     |████████████████████████████████| 348.9MB 87kB/s \n",
            "\u001b[K     |████████████████████████████████| 501kB 49.5MB/s \n",
            "\u001b[K     |████████████████████████████████| 3.1MB 42.6MB/s \n",
            "\u001b[?25h2.0.0-beta1\n"
          ],
          "name": "stdout"
        }
      ]
    },
    {
      "cell_type": "code",
      "metadata": {
        "id": "EtMPQxpC4xD0",
        "colab_type": "code",
        "colab": {}
      },
      "source": [
        "# Load in the data\n",
        "from sklearn.datasets import load_breast_cancer"
      ],
      "execution_count": 0,
      "outputs": []
    },
    {
      "cell_type": "code",
      "metadata": {
        "id": "pwJ9LvEE5B_z",
        "colab_type": "code",
        "colab": {}
      },
      "source": [
        "# load the data\n",
        "data = load_breast_cancer()"
      ],
      "execution_count": 0,
      "outputs": []
    },
    {
      "cell_type": "code",
      "metadata": {
        "id": "wNkavJSj5EcV",
        "colab_type": "code",
        "outputId": "e456d274-3e51-4769-a2af-008dfb0e2379",
        "colab": {
          "base_uri": "https://localhost:8080/",
          "height": 34
        }
      },
      "source": [
        "# check the type of 'data'\n",
        "type(data)"
      ],
      "execution_count": 0,
      "outputs": [
        {
          "output_type": "execute_result",
          "data": {
            "text/plain": [
              "sklearn.utils.Bunch"
            ]
          },
          "metadata": {
            "tags": []
          },
          "execution_count": 4
        }
      ]
    },
    {
      "cell_type": "code",
      "metadata": {
        "id": "OsWYmnYR5GQq",
        "colab_type": "code",
        "outputId": "f27d90da-bab5-49d2-cd48-7ad91e6b5ed5",
        "colab": {
          "base_uri": "https://localhost:8080/",
          "height": 34
        }
      },
      "source": [
        "# note: it is a Bunch object\n",
        "# this basically acts like a dictionary where you can treat the keys like attributes\n",
        "data.keys()"
      ],
      "execution_count": 0,
      "outputs": [
        {
          "output_type": "execute_result",
          "data": {
            "text/plain": [
              "dict_keys(['data', 'target', 'target_names', 'DESCR', 'feature_names', 'filename'])"
            ]
          },
          "metadata": {
            "tags": []
          },
          "execution_count": 5
        }
      ]
    },
    {
      "cell_type": "code",
      "metadata": {
        "id": "HRYJw4hN5JXD",
        "colab_type": "code",
        "outputId": "ed69dc50-822c-4d7b-e1e8-9deda1dd2a31",
        "colab": {
          "base_uri": "https://localhost:8080/",
          "height": 34
        }
      },
      "source": [
        "# 'data' (the attribute) means the input data\n",
        "data.data.shape\n",
        "# it has 569 samples, 30 features"
      ],
      "execution_count": 0,
      "outputs": [
        {
          "output_type": "execute_result",
          "data": {
            "text/plain": [
              "(569, 30)"
            ]
          },
          "metadata": {
            "tags": []
          },
          "execution_count": 6
        }
      ]
    },
    {
      "cell_type": "code",
      "metadata": {
        "id": "G5OVVVge5L-h",
        "colab_type": "code",
        "outputId": "22b3e3fd-95d6-4846-9946-e937a82b1385",
        "colab": {
          "base_uri": "https://localhost:8080/",
          "height": 459
        }
      },
      "source": [
        "# 'targets'\n",
        "data.target\n",
        "# note how the targets are just 0s and 1s\n",
        "# normally, when you have K targets, they are labeled 0..K-1"
      ],
      "execution_count": 0,
      "outputs": [
        {
          "output_type": "execute_result",
          "data": {
            "text/plain": [
              "array([0, 0, 0, 0, 0, 0, 0, 0, 0, 0, 0, 0, 0, 0, 0, 0, 0, 0, 0, 1, 1, 1,\n",
              "       0, 0, 0, 0, 0, 0, 0, 0, 0, 0, 0, 0, 0, 0, 0, 1, 0, 0, 0, 0, 0, 0,\n",
              "       0, 0, 1, 0, 1, 1, 1, 1, 1, 0, 0, 1, 0, 0, 1, 1, 1, 1, 0, 1, 0, 0,\n",
              "       1, 1, 1, 1, 0, 1, 0, 0, 1, 0, 1, 0, 0, 1, 1, 1, 0, 0, 1, 0, 0, 0,\n",
              "       1, 1, 1, 0, 1, 1, 0, 0, 1, 1, 1, 0, 0, 1, 1, 1, 1, 0, 1, 1, 0, 1,\n",
              "       1, 1, 1, 1, 1, 1, 1, 0, 0, 0, 1, 0, 0, 1, 1, 1, 0, 0, 1, 0, 1, 0,\n",
              "       0, 1, 0, 0, 1, 1, 0, 1, 1, 0, 1, 1, 1, 1, 0, 1, 1, 1, 1, 1, 1, 1,\n",
              "       1, 1, 0, 1, 1, 1, 1, 0, 0, 1, 0, 1, 1, 0, 0, 1, 1, 0, 0, 1, 1, 1,\n",
              "       1, 0, 1, 1, 0, 0, 0, 1, 0, 1, 0, 1, 1, 1, 0, 1, 1, 0, 0, 1, 0, 0,\n",
              "       0, 0, 1, 0, 0, 0, 1, 0, 1, 0, 1, 1, 0, 1, 0, 0, 0, 0, 1, 1, 0, 0,\n",
              "       1, 1, 1, 0, 1, 1, 1, 1, 1, 0, 0, 1, 1, 0, 1, 1, 0, 0, 1, 0, 1, 1,\n",
              "       1, 1, 0, 1, 1, 1, 1, 1, 0, 1, 0, 0, 0, 0, 0, 0, 0, 0, 0, 0, 0, 0,\n",
              "       0, 0, 1, 1, 1, 1, 1, 1, 0, 1, 0, 1, 1, 0, 1, 1, 0, 1, 0, 0, 1, 1,\n",
              "       1, 1, 1, 1, 1, 1, 1, 1, 1, 1, 1, 0, 1, 1, 0, 1, 0, 1, 1, 1, 1, 1,\n",
              "       1, 1, 1, 1, 1, 1, 1, 1, 1, 0, 1, 1, 1, 0, 1, 0, 1, 1, 1, 1, 0, 0,\n",
              "       0, 1, 1, 1, 1, 0, 1, 0, 1, 0, 1, 1, 1, 0, 1, 1, 1, 1, 1, 1, 1, 0,\n",
              "       0, 0, 1, 1, 1, 1, 1, 1, 1, 1, 1, 1, 1, 0, 0, 1, 0, 0, 0, 1, 0, 0,\n",
              "       1, 1, 1, 1, 1, 0, 1, 1, 1, 1, 1, 0, 1, 1, 1, 0, 1, 1, 0, 0, 1, 1,\n",
              "       1, 1, 1, 1, 0, 1, 1, 1, 1, 1, 1, 1, 0, 1, 1, 1, 1, 1, 0, 1, 1, 0,\n",
              "       1, 1, 1, 1, 1, 1, 1, 1, 1, 1, 1, 1, 0, 1, 0, 0, 1, 0, 1, 1, 1, 1,\n",
              "       1, 0, 1, 1, 0, 1, 0, 1, 1, 0, 1, 0, 1, 1, 1, 1, 1, 1, 1, 1, 0, 0,\n",
              "       1, 1, 1, 1, 1, 1, 0, 1, 1, 1, 1, 1, 1, 1, 1, 1, 1, 0, 1, 1, 1, 1,\n",
              "       1, 1, 1, 0, 1, 0, 1, 1, 0, 1, 1, 1, 1, 1, 0, 0, 1, 0, 1, 0, 1, 1,\n",
              "       1, 1, 1, 0, 1, 1, 0, 1, 0, 1, 0, 0, 1, 1, 1, 0, 1, 1, 1, 1, 1, 1,\n",
              "       1, 1, 1, 1, 1, 0, 1, 0, 0, 1, 1, 1, 1, 1, 1, 1, 1, 1, 1, 1, 1, 1,\n",
              "       1, 1, 1, 1, 1, 1, 1, 1, 1, 1, 1, 1, 0, 0, 0, 0, 0, 0, 1])"
            ]
          },
          "metadata": {
            "tags": []
          },
          "execution_count": 7
        }
      ]
    },
    {
      "cell_type": "code",
      "metadata": {
        "id": "YFXPFIiB5Osq",
        "colab_type": "code",
        "outputId": "731e49c2-bb81-413d-c0a8-e21ff4815703",
        "colab": {
          "base_uri": "https://localhost:8080/",
          "height": 34
        }
      },
      "source": [
        "# their meaning is not lost\n",
        "data.target_names"
      ],
      "execution_count": 0,
      "outputs": [
        {
          "output_type": "execute_result",
          "data": {
            "text/plain": [
              "array(['malignant', 'benign'], dtype='<U9')"
            ]
          },
          "metadata": {
            "tags": []
          },
          "execution_count": 8
        }
      ]
    },
    {
      "cell_type": "code",
      "metadata": {
        "id": "hujO3u7j5Qm-",
        "colab_type": "code",
        "outputId": "9ab24679-102f-4505-8ba9-6664fc709194",
        "colab": {
          "base_uri": "https://localhost:8080/",
          "height": 34
        }
      },
      "source": [
        "# there are also 569 corresponding targets\n",
        "data.target.shape"
      ],
      "execution_count": 0,
      "outputs": [
        {
          "output_type": "execute_result",
          "data": {
            "text/plain": [
              "(569,)"
            ]
          },
          "metadata": {
            "tags": []
          },
          "execution_count": 9
        }
      ]
    },
    {
      "cell_type": "code",
      "metadata": {
        "id": "q3o3h2l95SJ0",
        "colab_type": "code",
        "outputId": "1e067893-513a-46c1-e29b-c672da03db5c",
        "colab": {
          "base_uri": "https://localhost:8080/",
          "height": 187
        }
      },
      "source": [
        "# you can also determine the meaning of each feature\n",
        "data.feature_names"
      ],
      "execution_count": 0,
      "outputs": [
        {
          "output_type": "execute_result",
          "data": {
            "text/plain": [
              "array(['mean radius', 'mean texture', 'mean perimeter', 'mean area',\n",
              "       'mean smoothness', 'mean compactness', 'mean concavity',\n",
              "       'mean concave points', 'mean symmetry', 'mean fractal dimension',\n",
              "       'radius error', 'texture error', 'perimeter error', 'area error',\n",
              "       'smoothness error', 'compactness error', 'concavity error',\n",
              "       'concave points error', 'symmetry error',\n",
              "       'fractal dimension error', 'worst radius', 'worst texture',\n",
              "       'worst perimeter', 'worst area', 'worst smoothness',\n",
              "       'worst compactness', 'worst concavity', 'worst concave points',\n",
              "       'worst symmetry', 'worst fractal dimension'], dtype='<U23')"
            ]
          },
          "metadata": {
            "tags": []
          },
          "execution_count": 10
        }
      ]
    },
    {
      "cell_type": "code",
      "metadata": {
        "id": "__iUSucB5Tug",
        "colab_type": "code",
        "colab": {}
      },
      "source": [
        "# normally we would put all of our imports at the top\n",
        "# but this lets us tell a story\n",
        "from sklearn.model_selection import train_test_split\n",
        "\n",
        "\n",
        "# split the data into train and test sets\n",
        "# this lets us simulate how our model will perform in the future\n",
        "X_train, X_test, y_train, y_test = train_test_split(data.data, data.target, test_size=0.33)\n",
        "N, D = X_train.shape"
      ],
      "execution_count": 0,
      "outputs": []
    },
    {
      "cell_type": "code",
      "metadata": {
        "id": "fS7cFmYl73H3",
        "colab_type": "code",
        "colab": {}
      },
      "source": [
        "# Scale the data\n",
        "# you'll learn why scaling is needed in a later course\n",
        "from sklearn.preprocessing import StandardScaler\n",
        "\n",
        "scaler = StandardScaler()\n",
        "X_train = scaler.fit_transform(X_train)\n",
        "X_test = scaler.transform(X_test)"
      ],
      "execution_count": 0,
      "outputs": []
    },
    {
      "cell_type": "code",
      "metadata": {
        "id": "y-llhgXY5bmX",
        "colab_type": "code",
        "outputId": "849d538f-8fa8-4e7d-ec35-686d40ff5430",
        "colab": {
          "base_uri": "https://localhost:8080/",
          "height": 1000
        }
      },
      "source": [
        "# Now all the fun Tensorflow stuff\n",
        "# Build the model\n",
        "\n",
        "# model = tf.keras.models.Sequential([\n",
        "#   tf.keras.layers.Input(shape=(D,)),\n",
        "#   tf.keras.layers.Dense(1, activation='sigmoid')\n",
        "# ])\n",
        "\n",
        "# Alternatively, you can do:\n",
        "model = tf.keras.models.Sequential()\n",
        "model.add(tf.keras.layers.Dense(1, input_shape=(D,), activation='sigmoid'))\n",
        "\n",
        "model.compile(optimizer='adam',\n",
        "              loss='binary_crossentropy',\n",
        "              metrics=['accuracy'])\n",
        "\n",
        "\n",
        "# Train the model\n",
        "r = model.fit(X_train, y_train, validation_data=(X_test, y_test), epochs=100)\n",
        "\n",
        "\n",
        "# Evaluate the model - evaluate() returns loss and accuracy\n",
        "print(\"Train score:\", model.evaluate(X_train, y_train))\n",
        "print(\"Test score:\", model.evaluate(X_test, y_test))"
      ],
      "execution_count": 0,
      "outputs": [
        {
          "output_type": "stream",
          "text": [
            "WARNING: Logging before flag parsing goes to stderr.\n",
            "W0716 19:15:13.710284 140165176846208 deprecation.py:323] From /usr/local/lib/python3.6/dist-packages/tensorflow/python/ops/math_grad.py:1250: add_dispatch_support.<locals>.wrapper (from tensorflow.python.ops.array_ops) is deprecated and will be removed in a future version.\n",
            "Instructions for updating:\n",
            "Use tf.where in 2.0, which has the same broadcast rule as np.where\n"
          ],
          "name": "stderr"
        },
        {
          "output_type": "stream",
          "text": [
            "Train on 381 samples, validate on 188 samples\n",
            "Epoch 1/100\n",
            "381/381 [==============================] - 1s 3ms/sample - loss: 0.6844 - accuracy: 0.5617 - val_loss: 0.7294 - val_accuracy: 0.5691\n",
            "Epoch 2/100\n",
            "381/381 [==============================] - 0s 91us/sample - loss: 0.6096 - accuracy: 0.6404 - val_loss: 0.6532 - val_accuracy: 0.6223\n",
            "Epoch 3/100\n",
            "381/381 [==============================] - 0s 95us/sample - loss: 0.5465 - accuracy: 0.7192 - val_loss: 0.5882 - val_accuracy: 0.7128\n",
            "Epoch 4/100\n",
            "381/381 [==============================] - 0s 95us/sample - loss: 0.4937 - accuracy: 0.8084 - val_loss: 0.5341 - val_accuracy: 0.7660\n",
            "Epoch 5/100\n",
            "381/381 [==============================] - 0s 90us/sample - loss: 0.4496 - accuracy: 0.8399 - val_loss: 0.4889 - val_accuracy: 0.8138\n",
            "Epoch 6/100\n",
            "381/381 [==============================] - 0s 89us/sample - loss: 0.4135 - accuracy: 0.8793 - val_loss: 0.4510 - val_accuracy: 0.8298\n",
            "Epoch 7/100\n",
            "381/381 [==============================] - 0s 101us/sample - loss: 0.3833 - accuracy: 0.8950 - val_loss: 0.4194 - val_accuracy: 0.8617\n",
            "Epoch 8/100\n",
            "381/381 [==============================] - 0s 88us/sample - loss: 0.3577 - accuracy: 0.9081 - val_loss: 0.3933 - val_accuracy: 0.8723\n",
            "Epoch 9/100\n",
            "381/381 [==============================] - 0s 91us/sample - loss: 0.3357 - accuracy: 0.9186 - val_loss: 0.3713 - val_accuracy: 0.8777\n",
            "Epoch 10/100\n",
            "381/381 [==============================] - 0s 95us/sample - loss: 0.3168 - accuracy: 0.9265 - val_loss: 0.3529 - val_accuracy: 0.8777\n",
            "Epoch 11/100\n",
            "381/381 [==============================] - 0s 99us/sample - loss: 0.3007 - accuracy: 0.9291 - val_loss: 0.3370 - val_accuracy: 0.8830\n",
            "Epoch 12/100\n",
            "381/381 [==============================] - 0s 95us/sample - loss: 0.2867 - accuracy: 0.9318 - val_loss: 0.3231 - val_accuracy: 0.8936\n",
            "Epoch 13/100\n",
            "381/381 [==============================] - 0s 92us/sample - loss: 0.2743 - accuracy: 0.9291 - val_loss: 0.3108 - val_accuracy: 0.8936\n",
            "Epoch 14/100\n",
            "381/381 [==============================] - 0s 92us/sample - loss: 0.2631 - accuracy: 0.9291 - val_loss: 0.3003 - val_accuracy: 0.9043\n",
            "Epoch 15/100\n",
            "381/381 [==============================] - 0s 92us/sample - loss: 0.2537 - accuracy: 0.9344 - val_loss: 0.2904 - val_accuracy: 0.9043\n",
            "Epoch 16/100\n",
            "381/381 [==============================] - 0s 113us/sample - loss: 0.2447 - accuracy: 0.9344 - val_loss: 0.2817 - val_accuracy: 0.9043\n",
            "Epoch 17/100\n",
            "381/381 [==============================] - 0s 99us/sample - loss: 0.2366 - accuracy: 0.9344 - val_loss: 0.2740 - val_accuracy: 0.9043\n",
            "Epoch 18/100\n",
            "381/381 [==============================] - 0s 88us/sample - loss: 0.2294 - accuracy: 0.9396 - val_loss: 0.2668 - val_accuracy: 0.9043\n",
            "Epoch 19/100\n",
            "381/381 [==============================] - 0s 93us/sample - loss: 0.2228 - accuracy: 0.9396 - val_loss: 0.2601 - val_accuracy: 0.9096\n",
            "Epoch 20/100\n",
            "381/381 [==============================] - 0s 123us/sample - loss: 0.2165 - accuracy: 0.9396 - val_loss: 0.2541 - val_accuracy: 0.9096\n",
            "Epoch 21/100\n",
            "381/381 [==============================] - 0s 88us/sample - loss: 0.2109 - accuracy: 0.9475 - val_loss: 0.2485 - val_accuracy: 0.9149\n",
            "Epoch 22/100\n",
            "381/381 [==============================] - 0s 90us/sample - loss: 0.2056 - accuracy: 0.9501 - val_loss: 0.2432 - val_accuracy: 0.9149\n",
            "Epoch 23/100\n",
            "381/381 [==============================] - 0s 99us/sample - loss: 0.2007 - accuracy: 0.9501 - val_loss: 0.2383 - val_accuracy: 0.9149\n",
            "Epoch 24/100\n",
            "381/381 [==============================] - 0s 98us/sample - loss: 0.1959 - accuracy: 0.9501 - val_loss: 0.2339 - val_accuracy: 0.9202\n",
            "Epoch 25/100\n",
            "381/381 [==============================] - 0s 94us/sample - loss: 0.1916 - accuracy: 0.9501 - val_loss: 0.2296 - val_accuracy: 0.9202\n",
            "Epoch 26/100\n",
            "381/381 [==============================] - 0s 99us/sample - loss: 0.1876 - accuracy: 0.9501 - val_loss: 0.2256 - val_accuracy: 0.9309\n",
            "Epoch 27/100\n",
            "381/381 [==============================] - 0s 99us/sample - loss: 0.1837 - accuracy: 0.9501 - val_loss: 0.2218 - val_accuracy: 0.9309\n",
            "Epoch 28/100\n",
            "381/381 [==============================] - 0s 95us/sample - loss: 0.1800 - accuracy: 0.9528 - val_loss: 0.2183 - val_accuracy: 0.9309\n",
            "Epoch 29/100\n",
            "381/381 [==============================] - 0s 91us/sample - loss: 0.1765 - accuracy: 0.9554 - val_loss: 0.2149 - val_accuracy: 0.9309\n",
            "Epoch 30/100\n",
            "381/381 [==============================] - 0s 98us/sample - loss: 0.1732 - accuracy: 0.9554 - val_loss: 0.2119 - val_accuracy: 0.9309\n",
            "Epoch 31/100\n",
            "381/381 [==============================] - 0s 90us/sample - loss: 0.1701 - accuracy: 0.9528 - val_loss: 0.2088 - val_accuracy: 0.9309\n",
            "Epoch 32/100\n",
            "381/381 [==============================] - 0s 93us/sample - loss: 0.1671 - accuracy: 0.9528 - val_loss: 0.2059 - val_accuracy: 0.9309\n",
            "Epoch 33/100\n",
            "381/381 [==============================] - 0s 98us/sample - loss: 0.1643 - accuracy: 0.9528 - val_loss: 0.2032 - val_accuracy: 0.9309\n",
            "Epoch 34/100\n",
            "381/381 [==============================] - 0s 101us/sample - loss: 0.1616 - accuracy: 0.9528 - val_loss: 0.2006 - val_accuracy: 0.9309\n",
            "Epoch 35/100\n",
            "381/381 [==============================] - 0s 92us/sample - loss: 0.1590 - accuracy: 0.9554 - val_loss: 0.1981 - val_accuracy: 0.9309\n",
            "Epoch 36/100\n",
            "381/381 [==============================] - 0s 100us/sample - loss: 0.1565 - accuracy: 0.9554 - val_loss: 0.1958 - val_accuracy: 0.9309\n",
            "Epoch 37/100\n",
            "381/381 [==============================] - 0s 96us/sample - loss: 0.1541 - accuracy: 0.9580 - val_loss: 0.1934 - val_accuracy: 0.9309\n",
            "Epoch 38/100\n",
            "381/381 [==============================] - 0s 88us/sample - loss: 0.1517 - accuracy: 0.9580 - val_loss: 0.1913 - val_accuracy: 0.9309\n",
            "Epoch 39/100\n",
            "381/381 [==============================] - 0s 83us/sample - loss: 0.1496 - accuracy: 0.9580 - val_loss: 0.1891 - val_accuracy: 0.9309\n",
            "Epoch 40/100\n",
            "381/381 [==============================] - 0s 90us/sample - loss: 0.1475 - accuracy: 0.9580 - val_loss: 0.1871 - val_accuracy: 0.9362\n",
            "Epoch 41/100\n",
            "381/381 [==============================] - 0s 93us/sample - loss: 0.1454 - accuracy: 0.9580 - val_loss: 0.1852 - val_accuracy: 0.9362\n",
            "Epoch 42/100\n",
            "381/381 [==============================] - 0s 89us/sample - loss: 0.1434 - accuracy: 0.9580 - val_loss: 0.1833 - val_accuracy: 0.9362\n",
            "Epoch 43/100\n",
            "381/381 [==============================] - 0s 95us/sample - loss: 0.1416 - accuracy: 0.9606 - val_loss: 0.1815 - val_accuracy: 0.9362\n",
            "Epoch 44/100\n",
            "381/381 [==============================] - 0s 94us/sample - loss: 0.1397 - accuracy: 0.9606 - val_loss: 0.1798 - val_accuracy: 0.9362\n",
            "Epoch 45/100\n",
            "381/381 [==============================] - 0s 90us/sample - loss: 0.1380 - accuracy: 0.9633 - val_loss: 0.1782 - val_accuracy: 0.9362\n",
            "Epoch 46/100\n",
            "381/381 [==============================] - 0s 111us/sample - loss: 0.1363 - accuracy: 0.9633 - val_loss: 0.1766 - val_accuracy: 0.9415\n",
            "Epoch 47/100\n",
            "381/381 [==============================] - 0s 102us/sample - loss: 0.1346 - accuracy: 0.9633 - val_loss: 0.1751 - val_accuracy: 0.9415\n",
            "Epoch 48/100\n",
            "381/381 [==============================] - 0s 85us/sample - loss: 0.1330 - accuracy: 0.9633 - val_loss: 0.1735 - val_accuracy: 0.9415\n",
            "Epoch 49/100\n",
            "381/381 [==============================] - 0s 104us/sample - loss: 0.1315 - accuracy: 0.9633 - val_loss: 0.1720 - val_accuracy: 0.9415\n",
            "Epoch 50/100\n",
            "381/381 [==============================] - 0s 91us/sample - loss: 0.1300 - accuracy: 0.9633 - val_loss: 0.1706 - val_accuracy: 0.9415\n",
            "Epoch 51/100\n",
            "381/381 [==============================] - 0s 90us/sample - loss: 0.1285 - accuracy: 0.9659 - val_loss: 0.1692 - val_accuracy: 0.9415\n",
            "Epoch 52/100\n",
            "381/381 [==============================] - 0s 91us/sample - loss: 0.1271 - accuracy: 0.9659 - val_loss: 0.1680 - val_accuracy: 0.9415\n",
            "Epoch 53/100\n",
            "381/381 [==============================] - 0s 100us/sample - loss: 0.1258 - accuracy: 0.9659 - val_loss: 0.1667 - val_accuracy: 0.9415\n",
            "Epoch 54/100\n",
            "381/381 [==============================] - 0s 94us/sample - loss: 0.1244 - accuracy: 0.9659 - val_loss: 0.1655 - val_accuracy: 0.9415\n",
            "Epoch 55/100\n",
            "381/381 [==============================] - 0s 94us/sample - loss: 0.1231 - accuracy: 0.9659 - val_loss: 0.1642 - val_accuracy: 0.9415\n",
            "Epoch 56/100\n",
            "381/381 [==============================] - 0s 97us/sample - loss: 0.1218 - accuracy: 0.9659 - val_loss: 0.1630 - val_accuracy: 0.9468\n",
            "Epoch 57/100\n",
            "381/381 [==============================] - 0s 100us/sample - loss: 0.1207 - accuracy: 0.9659 - val_loss: 0.1619 - val_accuracy: 0.9468\n",
            "Epoch 58/100\n",
            "381/381 [==============================] - 0s 91us/sample - loss: 0.1195 - accuracy: 0.9659 - val_loss: 0.1608 - val_accuracy: 0.9468\n",
            "Epoch 59/100\n",
            "381/381 [==============================] - 0s 100us/sample - loss: 0.1183 - accuracy: 0.9659 - val_loss: 0.1597 - val_accuracy: 0.9468\n",
            "Epoch 60/100\n",
            "381/381 [==============================] - 0s 96us/sample - loss: 0.1172 - accuracy: 0.9659 - val_loss: 0.1587 - val_accuracy: 0.9468\n",
            "Epoch 61/100\n",
            "381/381 [==============================] - 0s 93us/sample - loss: 0.1161 - accuracy: 0.9659 - val_loss: 0.1576 - val_accuracy: 0.9468\n",
            "Epoch 62/100\n",
            "381/381 [==============================] - 0s 100us/sample - loss: 0.1150 - accuracy: 0.9659 - val_loss: 0.1567 - val_accuracy: 0.9468\n",
            "Epoch 63/100\n",
            "381/381 [==============================] - 0s 89us/sample - loss: 0.1140 - accuracy: 0.9659 - val_loss: 0.1557 - val_accuracy: 0.9468\n",
            "Epoch 64/100\n",
            "381/381 [==============================] - 0s 88us/sample - loss: 0.1130 - accuracy: 0.9659 - val_loss: 0.1547 - val_accuracy: 0.9468\n",
            "Epoch 65/100\n",
            "381/381 [==============================] - 0s 100us/sample - loss: 0.1119 - accuracy: 0.9659 - val_loss: 0.1538 - val_accuracy: 0.9468\n",
            "Epoch 66/100\n",
            "381/381 [==============================] - 0s 88us/sample - loss: 0.1110 - accuracy: 0.9659 - val_loss: 0.1529 - val_accuracy: 0.9521\n",
            "Epoch 67/100\n",
            "381/381 [==============================] - 0s 92us/sample - loss: 0.1100 - accuracy: 0.9659 - val_loss: 0.1522 - val_accuracy: 0.9521\n",
            "Epoch 68/100\n",
            "381/381 [==============================] - 0s 89us/sample - loss: 0.1091 - accuracy: 0.9659 - val_loss: 0.1513 - val_accuracy: 0.9521\n",
            "Epoch 69/100\n",
            "381/381 [==============================] - 0s 86us/sample - loss: 0.1083 - accuracy: 0.9659 - val_loss: 0.1505 - val_accuracy: 0.9521\n",
            "Epoch 70/100\n",
            "381/381 [==============================] - 0s 92us/sample - loss: 0.1074 - accuracy: 0.9659 - val_loss: 0.1495 - val_accuracy: 0.9521\n",
            "Epoch 71/100\n",
            "381/381 [==============================] - 0s 93us/sample - loss: 0.1065 - accuracy: 0.9659 - val_loss: 0.1488 - val_accuracy: 0.9521\n",
            "Epoch 72/100\n",
            "381/381 [==============================] - 0s 111us/sample - loss: 0.1056 - accuracy: 0.9659 - val_loss: 0.1480 - val_accuracy: 0.9521\n",
            "Epoch 73/100\n",
            "381/381 [==============================] - 0s 98us/sample - loss: 0.1048 - accuracy: 0.9659 - val_loss: 0.1473 - val_accuracy: 0.9521\n",
            "Epoch 74/100\n",
            "381/381 [==============================] - 0s 89us/sample - loss: 0.1040 - accuracy: 0.9659 - val_loss: 0.1466 - val_accuracy: 0.9521\n",
            "Epoch 75/100\n",
            "381/381 [==============================] - 0s 91us/sample - loss: 0.1032 - accuracy: 0.9659 - val_loss: 0.1458 - val_accuracy: 0.9521\n",
            "Epoch 76/100\n",
            "381/381 [==============================] - 0s 95us/sample - loss: 0.1025 - accuracy: 0.9659 - val_loss: 0.1452 - val_accuracy: 0.9521\n",
            "Epoch 77/100\n",
            "381/381 [==============================] - 0s 92us/sample - loss: 0.1017 - accuracy: 0.9659 - val_loss: 0.1444 - val_accuracy: 0.9521\n",
            "Epoch 78/100\n",
            "381/381 [==============================] - 0s 95us/sample - loss: 0.1010 - accuracy: 0.9659 - val_loss: 0.1437 - val_accuracy: 0.9521\n",
            "Epoch 79/100\n",
            "381/381 [==============================] - 0s 204us/sample - loss: 0.1003 - accuracy: 0.9659 - val_loss: 0.1431 - val_accuracy: 0.9521\n",
            "Epoch 80/100\n",
            "381/381 [==============================] - 0s 99us/sample - loss: 0.0995 - accuracy: 0.9659 - val_loss: 0.1424 - val_accuracy: 0.9521\n",
            "Epoch 81/100\n",
            "381/381 [==============================] - 0s 106us/sample - loss: 0.0988 - accuracy: 0.9659 - val_loss: 0.1419 - val_accuracy: 0.9521\n",
            "Epoch 82/100\n",
            "381/381 [==============================] - 0s 93us/sample - loss: 0.0982 - accuracy: 0.9659 - val_loss: 0.1412 - val_accuracy: 0.9521\n",
            "Epoch 83/100\n",
            "381/381 [==============================] - 0s 89us/sample - loss: 0.0975 - accuracy: 0.9659 - val_loss: 0.1405 - val_accuracy: 0.9521\n",
            "Epoch 84/100\n",
            "381/381 [==============================] - 0s 90us/sample - loss: 0.0968 - accuracy: 0.9659 - val_loss: 0.1399 - val_accuracy: 0.9521\n",
            "Epoch 85/100\n",
            "381/381 [==============================] - 0s 95us/sample - loss: 0.0962 - accuracy: 0.9659 - val_loss: 0.1394 - val_accuracy: 0.9521\n",
            "Epoch 86/100\n",
            "381/381 [==============================] - 0s 100us/sample - loss: 0.0955 - accuracy: 0.9659 - val_loss: 0.1388 - val_accuracy: 0.9521\n",
            "Epoch 87/100\n",
            "381/381 [==============================] - 0s 100us/sample - loss: 0.0949 - accuracy: 0.9659 - val_loss: 0.1383 - val_accuracy: 0.9521\n",
            "Epoch 88/100\n",
            "381/381 [==============================] - 0s 89us/sample - loss: 0.0943 - accuracy: 0.9659 - val_loss: 0.1378 - val_accuracy: 0.9521\n",
            "Epoch 89/100\n",
            "381/381 [==============================] - 0s 90us/sample - loss: 0.0937 - accuracy: 0.9659 - val_loss: 0.1372 - val_accuracy: 0.9521\n",
            "Epoch 90/100\n",
            "381/381 [==============================] - 0s 91us/sample - loss: 0.0931 - accuracy: 0.9659 - val_loss: 0.1367 - val_accuracy: 0.9521\n",
            "Epoch 91/100\n",
            "381/381 [==============================] - 0s 116us/sample - loss: 0.0926 - accuracy: 0.9659 - val_loss: 0.1361 - val_accuracy: 0.9521\n",
            "Epoch 92/100\n",
            "381/381 [==============================] - 0s 107us/sample - loss: 0.0920 - accuracy: 0.9659 - val_loss: 0.1357 - val_accuracy: 0.9521\n",
            "Epoch 93/100\n",
            "381/381 [==============================] - 0s 96us/sample - loss: 0.0914 - accuracy: 0.9659 - val_loss: 0.1351 - val_accuracy: 0.9521\n",
            "Epoch 94/100\n",
            "381/381 [==============================] - 0s 97us/sample - loss: 0.0909 - accuracy: 0.9685 - val_loss: 0.1347 - val_accuracy: 0.9521\n",
            "Epoch 95/100\n",
            "381/381 [==============================] - 0s 92us/sample - loss: 0.0903 - accuracy: 0.9685 - val_loss: 0.1342 - val_accuracy: 0.9521\n",
            "Epoch 96/100\n",
            "381/381 [==============================] - 0s 108us/sample - loss: 0.0898 - accuracy: 0.9685 - val_loss: 0.1337 - val_accuracy: 0.9521\n",
            "Epoch 97/100\n",
            "381/381 [==============================] - 0s 89us/sample - loss: 0.0893 - accuracy: 0.9685 - val_loss: 0.1332 - val_accuracy: 0.9521\n",
            "Epoch 98/100\n",
            "381/381 [==============================] - 0s 92us/sample - loss: 0.0888 - accuracy: 0.9685 - val_loss: 0.1328 - val_accuracy: 0.9521\n",
            "Epoch 99/100\n",
            "381/381 [==============================] - 0s 93us/sample - loss: 0.0882 - accuracy: 0.9685 - val_loss: 0.1324 - val_accuracy: 0.9521\n",
            "Epoch 100/100\n",
            "381/381 [==============================] - 0s 91us/sample - loss: 0.0878 - accuracy: 0.9685 - val_loss: 0.1319 - val_accuracy: 0.9521\n",
            "381/381 [==============================] - 0s 83us/sample - loss: 0.0875 - accuracy: 0.9685\n",
            "Train score: [0.08746408909715693, 0.96850395]\n",
            "188/188 [==============================] - 0s 59us/sample - loss: 0.1319 - accuracy: 0.9521\n",
            "Test score: [0.13190118572179307, 0.95212764]\n"
          ],
          "name": "stdout"
        }
      ]
    },
    {
      "cell_type": "code",
      "metadata": {
        "id": "W0fK5PQc8aJ_",
        "colab_type": "code",
        "outputId": "857d7b37-5ef1-4b4a-d38d-bec8163ab926",
        "colab": {
          "base_uri": "https://localhost:8080/",
          "height": 286
        }
      },
      "source": [
        "# Plot what's returned by model.fit()\n",
        "import matplotlib.pyplot as plt\n",
        "plt.plot(r.history['loss'], label='loss')\n",
        "plt.plot(r.history['val_loss'], label='val_loss')\n",
        "plt.legend()"
      ],
      "execution_count": 0,
      "outputs": [
        {
          "output_type": "execute_result",
          "data": {
            "text/plain": [
              "<matplotlib.legend.Legend at 0x7f79fe79b470>"
            ]
          },
          "metadata": {
            "tags": []
          },
          "execution_count": 14
        },
        {
          "output_type": "display_data",
          "data": {
            "image/png": "[encoded data removed]",
            "text/plain": [
              "<Figure size 432x288 with 1 Axes>"
            ]
          },
          "metadata": {
            "tags": []
          }
        }
      ]
    },
    {
      "cell_type": "code",
      "metadata": {
        "id": "VBAA2UY28vJN",
        "colab_type": "code",
        "outputId": "3eb9d5bb-5a0a-41fb-d5a3-e6230fe74d4e",
        "colab": {
          "base_uri": "https://localhost:8080/",
          "height": 286
        }
      },
      "source": [
        "# Plot the accuracy too\n",
        "plt.plot(r.history['accuracy'], label='acc')\n",
        "plt.plot(r.history['val_accuracy'], label='val_acc')\n",
        "plt.legend()"
      ],
      "execution_count": 0,
      "outputs": [
        {
          "output_type": "execute_result",
          "data": {
            "text/plain": [
              "<matplotlib.legend.Legend at 0x7f79fe6bb320>"
            ]
          },
          "metadata": {
            "tags": []
          },
          "execution_count": 15
        },
        {
          "output_type": "display_data",
          "data": {
            "image/png": "[encoded data removed]",
            "text/plain": [
              "<Figure size 432x288 with 1 Axes>"
            ]
          },
          "metadata": {
            "tags": []
          }
        }
      ]
    },
    {
      "cell_type": "markdown",
      "metadata": {
        "id": "GrZnHBI8NH-u",
        "colab_type": "text"
      },
      "source": [
        "# Part 2: Making Predictions\n",
        "\n",
        "This goes with the lecture \"Making Predictions\""
      ]
    },
    {
      "cell_type": "code",
      "metadata": {
        "id": "Ss1LJwIVKREf",
        "colab_type": "code",
        "outputId": "e0c065b6-367c-4cae-8159-cb744f4f86f5",
        "colab": {
          "base_uri": "https://localhost:8080/",
          "height": 1000
        }
      },
      "source": [
        "# Make predictions\n",
        "P = model.predict(X_test)\n",
        "print(P) # they are outputs of the sigmoid, interpreted as probabilities p(y = 1 | x)"
      ],
      "execution_count": 0,
      "outputs": [
        {
          "output_type": "stream",
          "text": [
            "[[8.61630321e-01]\n",
            " [9.80558157e-01]\n",
            " [9.52408433e-01]\n",
            " [1.70778483e-01]\n",
            " [5.66392541e-02]\n",
            " [9.99774873e-01]\n",
            " [9.62227345e-01]\n",
            " [2.42173672e-04]\n",
            " [1.46478415e-04]\n",
            " [9.98535395e-01]\n",
            " [9.84042287e-01]\n",
            " [2.03032494e-01]\n",
            " [9.98001754e-01]\n",
            " [9.53351259e-01]\n",
            " [9.80516493e-01]\n",
            " [9.47853446e-01]\n",
            " [1.04348332e-01]\n",
            " [9.94260550e-01]\n",
            " [2.23517418e-04]\n",
            " [1.11808181e-02]\n",
            " [9.68302369e-01]\n",
            " [1.32329166e-02]\n",
            " [9.85826492e-01]\n",
            " [9.42899585e-01]\n",
            " [1.95389837e-01]\n",
            " [8.07642937e-06]\n",
            " [5.94049692e-04]\n",
            " [4.88758087e-06]\n",
            " [9.97467816e-01]\n",
            " [1.29878521e-04]\n",
            " [6.39557838e-04]\n",
            " [9.96119618e-01]\n",
            " [4.34530675e-01]\n",
            " [8.58969450e-01]\n",
            " [7.21812248e-05]\n",
            " [4.78461385e-03]\n",
            " [8.28867197e-01]\n",
            " [5.76376915e-04]\n",
            " [5.38163185e-02]\n",
            " [1.23915076e-03]\n",
            " [1.18455589e-02]\n",
            " [1.23083591e-05]\n",
            " [9.62102532e-01]\n",
            " [6.10639513e-01]\n",
            " [9.98858929e-01]\n",
            " [9.00656581e-01]\n",
            " [2.96416283e-02]\n",
            " [1.04904175e-05]\n",
            " [2.13742256e-04]\n",
            " [9.76448298e-01]\n",
            " [1.23571008e-01]\n",
            " [9.87891972e-01]\n",
            " [9.97100770e-01]\n",
            " [9.44926441e-01]\n",
            " [3.41414809e-02]\n",
            " [4.03493881e-01]\n",
            " [9.94806170e-01]\n",
            " [3.96123409e-01]\n",
            " [9.92017984e-01]\n",
            " [3.53405833e-01]\n",
            " [9.02004600e-01]\n",
            " [9.88129973e-01]\n",
            " [6.35981560e-05]\n",
            " [1.78813934e-07]\n",
            " [4.77135181e-05]\n",
            " [9.47160840e-01]\n",
            " [7.72019923e-02]\n",
            " [6.26369298e-01]\n",
            " [9.90855813e-01]\n",
            " [5.78597367e-01]\n",
            " [9.50615287e-01]\n",
            " [4.55962449e-01]\n",
            " [9.99329805e-01]\n",
            " [4.49080169e-02]\n",
            " [9.34254944e-01]\n",
            " [6.17113709e-03]\n",
            " [9.94433522e-01]\n",
            " [6.21839643e-01]\n",
            " [9.82389688e-01]\n",
            " [9.98117149e-01]\n",
            " [9.60122824e-01]\n",
            " [9.80232596e-01]\n",
            " [9.37017798e-01]\n",
            " [3.13668132e-01]\n",
            " [9.58638608e-01]\n",
            " [1.33544803e-02]\n",
            " [9.95373845e-01]\n",
            " [9.02026892e-03]\n",
            " [9.94407833e-01]\n",
            " [9.58973765e-01]\n",
            " [9.23699617e-01]\n",
            " [5.92659295e-01]\n",
            " [0.00000000e+00]\n",
            " [3.24866772e-02]\n",
            " [0.00000000e+00]\n",
            " [9.97537494e-01]\n",
            " [9.07661319e-01]\n",
            " [9.82977092e-01]\n",
            " [7.67711699e-02]\n",
            " [7.80143321e-01]\n",
            " [9.89414632e-01]\n",
            " [9.73619282e-01]\n",
            " [9.73042428e-01]\n",
            " [9.82323766e-01]\n",
            " [7.71470129e-01]\n",
            " [3.10555100e-03]\n",
            " [4.40776348e-05]\n",
            " [9.89501357e-01]\n",
            " [9.88371551e-01]\n",
            " [9.20114875e-01]\n",
            " [9.96622205e-01]\n",
            " [0.00000000e+00]\n",
            " [9.93816972e-01]\n",
            " [7.20141411e-01]\n",
            " [9.91306305e-01]\n",
            " [9.99343157e-01]\n",
            " [2.77221203e-04]\n",
            " [8.27301025e-01]\n",
            " [7.30361700e-01]\n",
            " [9.94660139e-01]\n",
            " [8.40425491e-05]\n",
            " [9.64501619e-01]\n",
            " [9.99775290e-01]\n",
            " [1.05318427e-03]\n",
            " [9.97672081e-01]\n",
            " [1.51872635e-04]\n",
            " [1.71363354e-04]\n",
            " [9.27904487e-01]\n",
            " [9.97208118e-01]\n",
            " [7.96252847e-01]\n",
            " [9.96365666e-01]\n",
            " [7.24177063e-02]\n",
            " [9.69807684e-01]\n",
            " [9.89466667e-01]\n",
            " [9.98204470e-01]\n",
            " [9.98933911e-01]\n",
            " [9.80588317e-01]\n",
            " [5.90950251e-02]\n",
            " [2.82613873e-01]\n",
            " [9.98840988e-01]\n",
            " [9.91841078e-01]\n",
            " [9.73878145e-01]\n",
            " [6.77034259e-03]\n",
            " [1.95470452e-03]\n",
            " [1.80802643e-02]\n",
            " [9.95793104e-01]\n",
            " [3.87603641e-02]\n",
            " [9.99793530e-01]\n",
            " [9.33829606e-01]\n",
            " [9.92092490e-01]\n",
            " [9.94606972e-01]\n",
            " [5.81181049e-03]\n",
            " [6.69760227e-01]\n",
            " [9.78218675e-01]\n",
            " [1.95289552e-02]\n",
            " [1.47551298e-04]\n",
            " [9.39556003e-01]\n",
            " [9.91361499e-01]\n",
            " [2.88638473e-03]\n",
            " [4.54932451e-04]\n",
            " [9.82179403e-01]\n",
            " [9.90724027e-01]\n",
            " [6.76932931e-03]\n",
            " [1.14262104e-04]\n",
            " [9.93597686e-01]\n",
            " [9.22083855e-05]\n",
            " [9.97873902e-01]\n",
            " [9.90587056e-01]\n",
            " [3.42294574e-03]\n",
            " [9.99024272e-01]\n",
            " [8.83603692e-01]\n",
            " [8.84634256e-03]\n",
            " [3.53664160e-04]\n",
            " [9.86387253e-01]\n",
            " [9.85897899e-01]\n",
            " [7.80297935e-01]\n",
            " [2.08616257e-07]\n",
            " [8.35925341e-04]\n",
            " [9.99007463e-01]\n",
            " [9.92989421e-01]\n",
            " [9.82379675e-01]\n",
            " [9.49237227e-01]\n",
            " [5.60477138e-01]\n",
            " [5.39104044e-01]\n",
            " [3.04204583e-01]\n",
            " [9.42867994e-01]\n",
            " [8.20968151e-02]\n",
            " [8.91793907e-01]]\n"
          ],
          "name": "stdout"
        }
      ]
    },
    {
      "cell_type": "code",
      "metadata": {
        "id": "Tv0cN7J6KoVu",
        "colab_type": "code",
        "outputId": "b8626bac-5527-424c-927e-7cdf531748b9",
        "colab": {
          "base_uri": "https://localhost:8080/",
          "height": 153
        }
      },
      "source": [
        "# Round to get the actual predictions\n",
        "# Note: has to be flattened since the targets are size (N,) while the predictions are size (N,1)\n",
        "import numpy as np\n",
        "P = np.round(P).flatten()\n",
        "print(P)"
      ],
      "execution_count": 0,
      "outputs": [
        {
          "output_type": "stream",
          "text": [
            "[1. 1. 1. 0. 0. 1. 1. 0. 0. 1. 1. 0. 1. 1. 1. 1. 0. 1. 0. 0. 1. 0. 1. 1.\n",
            " 0. 0. 0. 0. 1. 0. 0. 1. 0. 1. 0. 0. 1. 0. 0. 0. 0. 0. 1. 1. 1. 1. 0. 0.\n",
            " 0. 1. 0. 1. 1. 1. 0. 0. 1. 0. 1. 0. 1. 1. 0. 0. 0. 1. 0. 1. 1. 1. 1. 0.\n",
            " 1. 0. 1. 0. 1. 1. 1. 1. 1. 1. 1. 0. 1. 0. 1. 0. 1. 1. 1. 1. 0. 0. 0. 1.\n",
            " 1. 1. 0. 1. 1. 1. 1. 1. 1. 0. 0. 1. 1. 1. 1. 0. 1. 1. 1. 1. 0. 1. 1. 1.\n",
            " 0. 1. 1. 0. 1. 0. 0. 1. 1. 1. 1. 0. 1. 1. 1. 1. 1. 0. 0. 1. 1. 1. 0. 0.\n",
            " 0. 1. 0. 1. 1. 1. 1. 0. 1. 1. 0. 0. 1. 1. 0. 0. 1. 1. 0. 0. 1. 0. 1. 1.\n",
            " 0. 1. 1. 0. 0. 1. 1. 1. 0. 0. 1. 1. 1. 1. 1. 1. 0. 1. 0. 1.]\n"
          ],
          "name": "stdout"
        }
      ]
    },
    {
      "cell_type": "code",
      "metadata": {
        "id": "yJU09XkmK4nQ",
        "colab_type": "code",
        "outputId": "96531cad-45b8-43d8-ac06-6def071a586f",
        "colab": {
          "base_uri": "https://localhost:8080/",
          "height": 88
        }
      },
      "source": [
        "# Calculate the accuracy, compare it to evaluate() output\n",
        "print(\"Manually calculated accuracy:\", np.mean(P == y_test))\n",
        "print(\"Evaluate output:\", model.evaluate(X_test, y_test))"
      ],
      "execution_count": 0,
      "outputs": [
        {
          "output_type": "stream",
          "text": [
            "Manually calculated accuracy: 0.9521276595744681\n",
            "188/188 [==============================] - 0s 68us/sample - loss: 0.1319 - accuracy: 0.9521\n",
            "Evaluate output: [0.13190118572179307, 0.95212764]\n"
          ],
          "name": "stdout"
        }
      ]
    },
    {
      "cell_type": "markdown",
      "metadata": {
        "id": "iogYs0uGNS4l",
        "colab_type": "text"
      },
      "source": [
        "# Part 3: Saving and Loading a Model\n",
        "\n",
        "This goes with the lecture \"Saving and Loading a Model\""
      ]
    },
    {
      "cell_type": "code",
      "metadata": {
        "id": "L1uHxJ2SNXan",
        "colab_type": "code",
        "colab": {}
      },
      "source": [
        "# Let's now save our model to a file\n",
        "model.save('linearclassifier.h5')"
      ],
      "execution_count": 0,
      "outputs": []
    },
    {
      "cell_type": "code",
      "metadata": {
        "id": "F6PHmjb0OFBf",
        "colab_type": "code",
        "outputId": "aa7625f9-52c1-4777-cb2f-9b7f55ba8b82",
        "colab": {
          "base_uri": "https://localhost:8080/",
          "height": 68
        }
      },
      "source": [
        "# Check that the model file exists\n",
        "!ls -lh "
      ],
      "execution_count": 0,
      "outputs": [
        {
          "output_type": "stream",
          "text": [
            "total 24K\n",
            "-rw-r--r-- 1 root root  19K Jul 16 19:15 linearclassifier.h5\n",
            "drwxr-xr-x 1 root root 4.0K Jul  3 16:14 sample_data\n"
          ],
          "name": "stdout"
        }
      ]
    },
    {
      "cell_type": "code",
      "metadata": {
        "id": "FgFBrBveNoOR",
        "colab_type": "code",
        "outputId": "3c7bcf21-bc05-414d-c92b-235232fdbdf1",
        "colab": {
          "base_uri": "https://localhost:8080/",
          "height": 88
        }
      },
      "source": [
        "# Let's load the model and confirm that it still works\n",
        "# Note: there is a bug in Keras where load/save only works if you DON'T use the Input() layer explicitly\n",
        "# So, make sure you define the model with ONLY Dense(1, input_shape=(D,))\n",
        "# At least, until the bug is fixed\n",
        "# https://github.com/keras-team/keras/issues/10417\n",
        "model = tf.keras.models.load_model('linearclassifier.h5')\n",
        "print(model.layers)\n",
        "model.evaluate(X_test, y_test)"
      ],
      "execution_count": 0,
      "outputs": [
        {
          "output_type": "stream",
          "text": [
            "[<tensorflow.python.keras.layers.core.Dense object at 0x7f79fe632908>]\n",
            "188/188 [==============================] - 0s 238us/sample - loss: 0.1319 - accuracy: 0.9521\n"
          ],
          "name": "stdout"
        },
        {
          "output_type": "execute_result",
          "data": {
            "text/plain": [
              "[0.13190118572179307, 0.95212764]"
            ]
          },
          "metadata": {
            "tags": []
          },
          "execution_count": 21
        }
      ]
    },
    {
      "cell_type": "code",
      "metadata": {
        "id": "_8rGQI-Rpo2T",
        "colab_type": "code",
        "colab": {}
      },
      "source": [
        "\n",
        "# Download the file - requires Chrome (at this point)\n",
        "from google.colab import files\n",
        "files.download('linearclassifier.h5')"
      ],
      "execution_count": 0,
      "outputs": []
    }
  ]
}