{
  "nbformat": 4,
  "nbformat_minor": 0,
  "metadata": {
    "colab": {
      "name": "24_example_deep_learning.ipynb",
      "provenance": [],
      "collapsed_sections": [],
      "toc_visible": true,
      "include_colab_link": true
    },
    "kernelspec": {
      "name": "python3",
      "display_name": "Python 3"
    },
    "accelerator": "TPU"
  },
  "cells": [
    {
      "cell_type": "markdown",
      "metadata": {
        "id": "view-in-github",
        "colab_type": "text"
      },
      "source": [
        "<a href=\"https://colab.research.google.com/github/tiravata/2014-slides/blob/master/24_example_deep_learning.ipynb\" target=\"_parent\"><img src=\"https://colab.research.google.com/assets/colab-badge.svg\" alt=\"Open In Colab\"/></a>"
      ]
    },
    {
      "cell_type": "markdown",
      "metadata": {
        "id": "Yp6lb-pIsZj8"
      },
      "source": [
        "<img height=\"45px\" src=\"https://avatars3.githubusercontent.com/u/20337240?s=460&v=4\" align=\"left\" hspace=\"10px\" vspace=\"0px\">\n",
        "\n",
        "<h1>รวมตัวอย่าง Machine learning และ Deep learning</h1>\n",
        "\n",
        "<hr>\n",
        "\n",
        "<a href='https://www.facebook.com/programmerthai'><font color='green'>สรุปและเรียบเรียงโดย โปรแกรมเมอร์ไทย thai programmer</font></a>\n",
        "\n"
      ]
    },
    {
      "cell_type": "markdown",
      "metadata": {
        "id": "zv5f6VJPSkOD"
      },
      "source": [
        "# วิธีใช้งาน colab\n",
        "\n",
        "Colab พัฒนาโดย google เป็นหน้าเว็บเอาไว้ใช้เขียนโค้ด python ได้ผ่านทางหน้าเว็บ และเชื่อมต่อกับ google drive ของเราก็ได้ด้วย ซึ่ง colab หน้านี้**ได้รวบรวมเนื้อหา Python ของม.ต้น** เอาไว้ แต่ก่อนอื่นอยากให้ดูวิธีการใช้งาน colab เสียก่อน\n",
        "\n",
        "<font color='red'>** ต้องมี Gmail และ google drive</font>\n",
        "\n",
        "<hr/>\n",
        "\n",
        "<h3>วิธี 1) กด \"Open in playgrouhd\"</h3>\n",
        "<div>\n",
        "<img height=\"200px\" src=\"https://www.patanasongsivilai.com/blog/wp-content/uploads/2020/05/python_matayom_4.png\" align=\"center\" hspace=\"10px\" vspace=\"0px\">\n",
        "\n",
        "\n",
        "<hr/>\n",
        "\n",
        "<h3>วิธี 2) กด Save a copy in Drive ... เพื่อบันทึกไว้ google drive เครื่องเรา</h3>\n",
        "\n",
        "<img height=\"300px\" src=\"https://www.patanasongsivilai.com/blog/wp-content/uploads/2019/11/python_matayom_1.png\" align=\"center\" hspace=\"10px\" vspace=\"0px\">\n",
        "\n",
        "<br/>\n",
        "\n",
        "<img height=\"200px\" src=\"https://www.patanasongsivilai.com/blog/wp-content/uploads/2019/11/python_matayom_2.png\" align=\"center\" hspace=\"10px\" vspace=\"0px\">\n",
        "\n",
        "<hr/>\n",
        "\n",
        "<h3>จากนั้นถึงจะสามารถรันได้</h3>\n",
        "<img height=\"200px\" src=\"https://www.patanasongsivilai.com/blog/wp-content/uploads/2019/11/python_matayom_3.png\" align=\"center\" hspace=\"10px\" vspace=\"0px\">"
      ]
    },
    {
      "cell_type": "markdown",
      "metadata": {
        "id": "zj-YJroM3594"
      },
      "source": [
        "# import โมดูลสำคัญๆ"
      ]
    },
    {
      "cell_type": "code",
      "metadata": {
        "id": "4SAMRUNp6FJX",
        "colab": {
          "base_uri": "https://localhost:8080/",
          "height": 34
        },
        "outputId": "6fbea839-9ef1-4209-e860-389e10c2b24b"
      },
      "source": [
        "import keras\n",
        "from keras.datasets import mnist\n",
        "from keras.layers import Dense, Dropout\n",
        "from keras.models import Sequential\n",
        "from matplotlib import pyplot as plt\n",
        "from keras.layers.core import Dense, Activation, Dropout, Flatten\n",
        "from keras.layers.recurrent import SimpleRNN, LSTM, GRU \n",
        "from keras.models import Sequential\n",
        "from keras.regularizers import l2\n",
        "from keras import backend as K\n",
        "from keras.layers import Conv2D, Conv1D, MaxPooling2D, MaxPooling1D"
      ],
      "execution_count": null,
      "outputs": [
        {
          "output_type": "stream",
          "text": [
            "Using TensorFlow backend.\n"
          ],
          "name": "stderr"
        }
      ]
    },
    {
      "cell_type": "markdown",
      "metadata": {
        "id": "1cEaN4FUX6g3"
      },
      "source": [
        "# Datasets\n",
        "\n",
        "ฟังก์ชั่นดาวนโหลด datasets ได้แก่ cifar10, cifar100, imdb, reuters, mnist, fashion_mnist และ boston_housing"
      ]
    },
    {
      "cell_type": "code",
      "metadata": {
        "id": "XzZmRZn-X5lO"
      },
      "source": [
        "def get_datasets(param='mnist'):\n",
        "  x_train = None; y_train = None; x_test = None; y_test = None\n",
        "  if param == 'cifar10':\n",
        "    from keras.datasets import cifar10\n",
        "    (x_train, y_train), (x_test, y_test) = cifar10.load_data()\n",
        "\n",
        "  elif param == 'cifar100':\n",
        "    from keras.datasets import cifar100\n",
        "    (x_train, y_train), (x_test, y_test) = cifar100.load_data(label_mode='fine')\n",
        "\n",
        "  elif param == 'imdb':\n",
        "    from keras.datasets import imdb\n",
        "    (x_train, y_train), (x_test, y_test) = imdb.load_data(path=\"imdb.npz\",\n",
        "                                                      num_words=None,\n",
        "                                                      skip_top=0,\n",
        "                                                      maxlen=None,\n",
        "                                                      seed=113,\n",
        "                                                      start_char=1,\n",
        "                                                      oov_char=2,\n",
        "                                                      index_from=3)\n",
        "  elif param == 'reuters':\n",
        "    from keras.datasets import reuters\n",
        "    (x_train, y_train), (x_test, y_test) = reuters.load_data(path=\"reuters.npz\",\n",
        "                                                         num_words=None,\n",
        "                                                         skip_top=0,\n",
        "                                                         maxlen=None,\n",
        "                                                         test_split=0.2,\n",
        "                                                         seed=113,\n",
        "                                                         start_char=1,\n",
        "                                                         oov_char=2,\n",
        "                                                         index_from=3)\n",
        "    # Optional\n",
        "    word_index = reuters.get_word_index(path=\"reuters_word_index.json\")\n",
        "\n",
        "  elif param == 'mnist':\n",
        "    from keras.datasets import mnist\n",
        "    (x_train, y_train), (x_test, y_test) = mnist.load_data()\n",
        "\n",
        "  elif param == 'fashion_mnist':\n",
        "    from keras.datasets import fashion_mnist\n",
        "    (x_train, y_train), (x_test, y_test) = fashion_mnist.load_data()\n",
        "\n",
        "  elif param == 'boston_housing':\n",
        "    from keras.datasets import boston_housing\n",
        "    (x_train, y_train), (x_test, y_test) = boston_housing.load_data()\n",
        "    \n",
        "  return x_train, y_train, x_test, y_test\n"
      ],
      "execution_count": null,
      "outputs": []
    },
    {
      "cell_type": "code",
      "metadata": {
        "id": "LkafliG0PHld",
        "colab": {
          "base_uri": "https://localhost:8080/",
          "height": 68
        },
        "outputId": "efa3c76a-1aa6-4f50-9a62-eb4b16eb2553"
      },
      "source": [
        "\"\"\"\n",
        "from sklearn.model_selection import train_test_split\n",
        "\n",
        "def get_datasets():\n",
        "\tdigits = datasets.load_digits()\n",
        "\tx = digits.data\n",
        "\ty = digits.target\t\n",
        "\tx_train, x_test, y_train, y_test = train_test_split(x, y,\n",
        "                                                        test_size=0.33,\n",
        "                                                        random_state=42)\n",
        "\treturn x_train, x_test, y_train, y_test\t\n",
        "\"\"\""
      ],
      "execution_count": null,
      "outputs": [
        {
          "output_type": "execute_result",
          "data": {
            "application/vnd.google.colaboratory.intrinsic": {
              "type": "string"
            },
            "text/plain": [
              "'\\nfrom sklearn.model_selection import train_test_split\\n\\ndef get_datasets():\\n\\tdigits = datasets.load_digits()\\n\\tx = digits.data\\n\\ty = digits.target\\t\\n\\tx_train, x_test, y_train, y_test = train_test_split(x, y,\\n                                                        test_size=0.33,\\n                                                        random_state=42)\\n\\treturn x_train, x_test, y_train, y_test\\t\\n'"
            ]
          },
          "metadata": {
            "tags": []
          },
          "execution_count": 3
        }
      ]
    },
    {
      "cell_type": "markdown",
      "metadata": {
        "id": "AR_fImt_HTRq"
      },
      "source": [
        "# Model"
      ]
    },
    {
      "cell_type": "markdown",
      "metadata": {
        "id": "-3gmT7ZTHGNW"
      },
      "source": [
        "## Model 1: Nearest neighbors\t\n",
        "\n",
        "โมเดลแบบที่ 1\n",
        "\n",
        "---"
      ]
    },
    {
      "cell_type": "code",
      "metadata": {
        "id": "a5EKWIGmHAi6"
      },
      "source": [
        "def train_nearest_neighbors(Xtrain, Ytrain, Xtest, Yexpected):  \n",
        "\tcount = 0\n",
        "\tnumSample,_   = Xtest.shape\n",
        "\t# compute distance with Manhattan formula\t\n",
        "\tYpredicted = np.zeros(numSample)\t\n",
        "\tfor index in range(0,numSample):\n",
        "\t\t# minus with broadcasting in numpy\n",
        "\t\tditanceList = np.sum(np.abs(Xtrain - Xtest[index]), axis=1)\t\t\n",
        "\t\t# min distance at first of list\tand get Index\n",
        "\t\tminDistanceIndex = np.argsort(ditanceList)[0] \n",
        "\t\tYpredicted[index] = Ytrain[minDistanceIndex]\n",
        "    \n",
        "\t\tcount = count+1\n",
        "\t\tif count % 100 == 0:\n",
        "\t\t    print(\"progress %d %%\" % (count/numSample*100))\n",
        "      \n",
        "\t# Calculate accuracy (True in python is 1, and False is 0\n",
        "\taccuracy = np.sum(Yexpected == Ypredicted)/ len(Yexpected) * 100\n",
        "\tprint(\"Accuracy: %.4f\" % accuracy)\n",
        "\tprint(\"Classification report\")\n",
        "\tprint(metrics.classification_report(Yexpected, Ypredicted))"
      ],
      "execution_count": null,
      "outputs": []
    },
    {
      "cell_type": "markdown",
      "metadata": {
        "id": "uQ7F-abfGStQ"
      },
      "source": [
        "## Model 2: Support vector\n",
        "\n",
        "โมเดลแบบที่ 2\n",
        "\n",
        "\n",
        "---\n"
      ]
    },
    {
      "cell_type": "code",
      "metadata": {
        "id": "aUg0Q6DPGHJr"
      },
      "source": [
        "from sklearn import datasets, svm, metrics\n",
        "\n",
        "def train_support_vector(Xtrain, Ytrain, Xtest, Yexpected):\n",
        "\t# a support vector classifier\n",
        "\tclassifier = svm.SVC(gamma=0.001)\n",
        "\t# learning\n",
        "\tclassifier.fit(Xtrain, Ytrain)\n",
        "\t# predict\n",
        "\tYpredicted = classifier.predict(Xtest)\n",
        "\t\n",
        "\t# Calculate accuracy (True in python is 1, and False is 0\n",
        "\taccuracy = np.sum(Yexpected == Ypredicted)/ len(Yexpected) * 100\n",
        "\tprint(\"Accuracy: %.4f\" % accuracy)\n",
        "\tprint(\"Classification report\")\n",
        "\tprint(metrics.classification_report(Yexpected, Ypredicted))"
      ],
      "execution_count": null,
      "outputs": []
    },
    {
      "cell_type": "markdown",
      "metadata": {
        "id": "gfgSREBADOno"
      },
      "source": [
        "## Model 3: Logistic regression (1 neural)\n",
        "โมเดลแบบที่ 3\n",
        "\n",
        "\n",
        "---\n"
      ]
    },
    {
      "cell_type": "code",
      "metadata": {
        "id": "OW-vkbjxDr9u"
      },
      "source": [
        "def build_logistic_regression(features):\n",
        "\tmodel = Sequential()\t\t\n",
        "\t# L2 is weight regularization penalty, also known as weight decay, or Ridge\n",
        "\tmodel.add(Dense(input_dim=features, output_dim=10, W_regularizer=l2(0.20))) \n",
        "\t# now model.output_shape == (None, 10)\n",
        "\t# note: `None` is the batch dimension.\t\n",
        "\t#\n",
        "\tmodel.add(Activation(\"softmax\"))\n",
        "\t\t\n",
        "\t# algorithim to train models use RMSprop\n",
        "\t# compute loss with function: categorical crossentropy\n",
        "\tmodel.compile(optimizer='rmsprop',\n",
        "\t\t\t  loss='categorical_crossentropy',\n",
        "\t\t\t  metrics=['accuracy'])\n",
        "\treturn model"
      ],
      "execution_count": null,
      "outputs": []
    },
    {
      "cell_type": "markdown",
      "metadata": {
        "id": "cIyGa_k2dZ04"
      },
      "source": [
        "## Model 4: Neural network (Multilayer Perceptron: MLP)\n",
        "\n",
        "โมเดลแบบที่ 4\n",
        "\n",
        "\n",
        "---\n",
        "\n"
      ]
    },
    {
      "cell_type": "code",
      "metadata": {
        "id": "BC-scfWGbNrE"
      },
      "source": [
        "def build_MLP(features):\t\t\n",
        "\tmodel = Sequential()\n",
        "\tmodel.add(Dense(input_dim=features, units=200, activation=\"relu\"))\t\n",
        "\tmodel.add(Dense(input_dim=features, units=200, activation=\"relu\"))\t\n",
        "\tmodel.add(Dropout(rate = 1-0.6))\t# reduce overfitting\n",
        "\tmodel.add(Dense(units=10, activation=\"softmax\"))\t\t\n",
        "\t\t\n",
        "\t# algorithim to train models use RMSprop\n",
        "\t# compute loss with function: categorical crossentropy\n",
        "\tmodel.compile(optimizer='rmsprop',\n",
        "\t\t\t  loss='categorical_crossentropy',\n",
        "\t\t\t  metrics=['accuracy'])\t\n",
        "\treturn model\n"
      ],
      "execution_count": null,
      "outputs": []
    },
    {
      "cell_type": "markdown",
      "metadata": {
        "id": "415xnN6NxJ78"
      },
      "source": [
        "## Model 5: Convolutional Neural Networks (CNN) with Conv2D\n",
        "\n",
        "โมเดลแบบที่ 5\n",
        "\n",
        "\n",
        "---\n"
      ]
    },
    {
      "cell_type": "code",
      "metadata": {
        "id": "NelPeZ6_xnLw"
      },
      "source": [
        "import math\n",
        "def reshapeCNN2D_Input(X): \n",
        "\texampleNum, D = X.shape\t\n",
        "\tW = int(math.sqrt(D))\t\n",
        "\t#assert W == 8 # size of image == 8 x 8\n",
        "\t\n",
        "\t# change shape of image data\t \t\t\t\n",
        "\tif K.image_dim_ordering() == 'th': \n",
        "\t\t# backend is Theano\n",
        "\t\t# Image dimension = chanel x row x column (chanel = 1, if it is RGB: chanel = 3)\n",
        "\t\tXImg = X.reshape(exampleNum, 1, W, W)\t\t\t\n",
        "\telse: \n",
        "\t\t# 'tf' backend is Tensorflow\n",
        "\t\t# Image dimension = row x column x chanel (chanel = 1, if it is RGB: chanel = 3)\n",
        "\t\tXImg = X.reshape(exampleNum, W, W, 1)\t\t\t\t\n",
        "\t\t\n",
        "\treturn XImg"
      ],
      "execution_count": null,
      "outputs": []
    },
    {
      "cell_type": "code",
      "metadata": {
        "id": "UqvAkMq_xDg0"
      },
      "source": [
        "def build_CNN_2D(image_shape):\t\n",
        "\tmodel = Sequential()\t\n",
        "\tmodel.add(Conv2D(filters=100, kernel_size=(3, 3), padding='same', input_shape=image_shape))\n",
        "\tmodel.add(Conv2D(filters=100, kernel_size=(3, 3), padding='same'))\t\n",
        "\tmodel.add(Activation('relu'))\n",
        "\tmodel.add(MaxPooling2D(pool_size=(2,2)))\t\n",
        "\tmodel.add(Dropout(0.5))\t\t\n",
        "\tmodel.add(Flatten())\t\t\n",
        "\tmodel.add(Dense(10))\n",
        "\tmodel.add(Activation('softmax')) \n",
        "\t\n",
        "\t# algorithim to train models use ADAdelta\n",
        "\t# compute loss with function: categorical crossentropy\n",
        "\tmodel.compile(optimizer='adadelta',\n",
        "\t\t\t  loss='categorical_crossentropy',\n",
        "\t\t\t  metrics=['accuracy'])\n",
        "\treturn model"
      ],
      "execution_count": null,
      "outputs": []
    },
    {
      "cell_type": "markdown",
      "metadata": {
        "id": "dtAkZVkryBVQ"
      },
      "source": [
        "## Model 6: Convolutional Neural Networks (CNN) with Convolution1D\n",
        "\n",
        "โมเดลแบบที่ 6\n",
        "\n",
        "\n",
        "---\n"
      ]
    },
    {
      "cell_type": "code",
      "metadata": {
        "id": "E5GIXzoWJO92"
      },
      "source": [
        "def reshapeCNN1D_Input(X): \n",
        "\texampleNum, D = X.shape\t\n",
        "\tW = int(math.sqrt(D))\t\n",
        "\t#assert W == 8 # size of image == 8 x 8\t\n",
        "\treturn X.reshape(exampleNum, W, W)\t"
      ],
      "execution_count": null,
      "outputs": []
    },
    {
      "cell_type": "code",
      "metadata": {
        "id": "_4k0ryzEx-9l"
      },
      "source": [
        "def build_CNN_1D(image_shape):\t \n",
        "\tmodel = Sequential()\t\n",
        "\tmodel.add(Conv1D(filters=100, kernel_size= 3, padding='same', input_shape=image_shape))\n",
        "\tmodel.add(Conv1D(filters=100, kernel_size=3, padding='same'))\n",
        "\tmodel.add(Activation('relu'))\n",
        "\tmodel.add(MaxPooling1D(pool_size=2))\t\n",
        "\tmodel.add(Dropout(0.5))\t\t\n",
        "\tmodel.add(Flatten())\t\n",
        "\tmodel.add(Dense(10))\n",
        "\tmodel.add(Activation('softmax')) \n",
        "\t\n",
        "\t# algorithim to train models use ADAdelta\n",
        "\t# compute loss with function: categorical crossentropy\n",
        "\tmodel.compile(optimizer='adadelta',\n",
        "\t\t\t  loss='categorical_crossentropy',\n",
        "\t\t\t  metrics=['accuracy'])\n",
        "\treturn model"
      ],
      "execution_count": null,
      "outputs": []
    },
    {
      "cell_type": "markdown",
      "metadata": {
        "id": "jCGJjFb-as_I"
      },
      "source": [
        "## Model 7: Recurrent Neural Network (RNN)\n",
        "\n",
        "โมเดลแบบที่ 7\n",
        "\n",
        "\n",
        "---\n",
        "\n"
      ]
    },
    {
      "cell_type": "code",
      "metadata": {
        "id": "lwIrZdP9a3DD"
      },
      "source": [
        "def getSequenceInput(X): \n",
        "\texampleNum, D = X.shape\t\n",
        "\tW = int(math.sqrt(D))\t\n",
        "\t#assert W == 8 # size of image == 8 x 8\n",
        "\t\n",
        "\t# Dimension = row x colum (without chanel)\n",
        "\tXImg = X.reshape(exampleNum, W, W)\n",
        "\treturn XImg"
      ],
      "execution_count": null,
      "outputs": []
    },
    {
      "cell_type": "code",
      "metadata": {
        "id": "1WOKGTCbarC_"
      },
      "source": [
        "def build_RNN(image_shape):\t\t\t\n",
        "\tsequence, features = image_shape\n",
        "\tmodel = Sequential()\n",
        "\tmodel.add(SimpleRNN(input_shape=(sequence, features),\t\t\t\t\n",
        "\t\t\t\t\tunits=100, dropout=0.2, recurrent_dropout=0.2, \treturn_sequences=True))\n",
        "\tmodel.add(SimpleRNN(100, dropout=0.2, recurrent_dropout=0.2, return_sequences=False))\n",
        "\tmodel.add(Dense(10))\n",
        "\tmodel.add(Activation(\"softmax\"))\n",
        "\t\t\n",
        "\t# algorithim to train models use RMSProp\n",
        "\t# compute loss with function: categorical crossentropy\n",
        "\tmodel.compile(optimizer='rmsprop',\n",
        "\t\t\t  loss='categorical_crossentropy',\n",
        "\t\t\t  metrics=['accuracy'])\t\n",
        "\treturn model"
      ],
      "execution_count": null,
      "outputs": []
    },
    {
      "cell_type": "markdown",
      "metadata": {
        "id": "cVfpU73UYZC5"
      },
      "source": [
        "## Model 8: Long short-term memory (LSTM)\n",
        "\n",
        "โมเดลแบบที่ 8\n",
        "\n",
        "\n",
        "---\n"
      ]
    },
    {
      "cell_type": "code",
      "metadata": {
        "id": "dou_owuMYXa6"
      },
      "source": [
        "def build_LSTM(image_shape):\t\t\n",
        "\tsequence, features = image_shape\n",
        "\tmodel = Sequential()\t\n",
        "\tmodel.add(LSTM(\tinput_shape=(sequence, features),\t\t\t\t\n",
        "\t\t\t\t\tunits=100, dropout=0.2, recurrent_dropout=0.2, \treturn_sequences=True))\n",
        "\tmodel.add(LSTM(100, dropout=0.2, recurrent_dropout=0.2, return_sequences=False))\n",
        "\tmodel.add(Dense(10))\n",
        "\tmodel.add(Activation(\"softmax\")) #outputs are independent \n",
        "\t\t\n",
        "\t# algorithim to train models use RMSProp\n",
        "\t# compute loss with function: categorical crossentropy\n",
        "\tmodel.compile(optimizer='rmsprop',\n",
        "\t\t\t  loss='categorical_crossentropy',\n",
        "\t\t\t  metrics=['accuracy'])\t\n",
        "\treturn model"
      ],
      "execution_count": null,
      "outputs": []
    },
    {
      "cell_type": "markdown",
      "metadata": {
        "id": "xwo6uDcWYgzE"
      },
      "source": [
        "## Model 9: Gated Recurrent Unit (GRU)\n",
        "\n",
        "โมเดลแบบที่ 9\n",
        "\n",
        "\n",
        "---\n",
        "\n",
        "\n"
      ]
    },
    {
      "cell_type": "code",
      "metadata": {
        "id": "zuTn1-rQYe_Z"
      },
      "source": [
        "def build_GRU(image_shape):\t\t\t\n",
        "\tsequence, features = image_shape\n",
        "\tmodel = Sequential()\t\n",
        "\tmodel.add(GRU(\tinput_shape=(sequence, features),\t\t\t\t\n",
        "\t\t\t\t\tunits=100, dropout=0.2, recurrent_dropout=0.2, \treturn_sequences=True))\t\n",
        "\tmodel.add(GRU(100, dropout=0.2, recurrent_dropout=0.2, return_sequences=False))\t\n",
        "\tmodel.add(Dense(10))\t\n",
        "\tmodel.add(Activation(\"softmax\")) #outputs are independent \n",
        "\t\t\n",
        "\t# algorithim to train models use RMSProp\n",
        "\t# compute loss with function: categorical crossentropy\n",
        "\tmodel.compile(optimizer='rmsprop',\n",
        "\t\t\t  loss='categorical_crossentropy',\n",
        "\t\t\t  metrics=['accuracy'])\t\n",
        "\treturn model"
      ],
      "execution_count": null,
      "outputs": []
    },
    {
      "cell_type": "markdown",
      "metadata": {
        "id": "CYsNYxuuf5w4"
      },
      "source": [
        "# Visualize loss function and accuracy\n",
        "\n",
        "copy code from\n",
        "\n",
        "https://gist.github.com/stared/dfb4dfaf6d9a8501cd1cc8b8cb806d2e"
      ]
    },
    {
      "cell_type": "code",
      "metadata": {
        "id": "0N6SwfYAf48Q"
      },
      "source": [
        "import numpy as np\n",
        "from matplotlib import pyplot as plt\n",
        "from IPython.display import clear_output\n",
        "\n",
        "class PlotLearning(keras.callbacks.Callback):\n",
        "    def on_train_begin(self, logs={}):\n",
        "        #self.i = 0\n",
        "        self.x = []\n",
        "        self.losses = []\n",
        "        self.val_losses = []\n",
        "        self.acc = []\n",
        "        self.val_acc = []\n",
        "        self.fig = plt.figure()\n",
        "        \n",
        "        self.logs = []\n",
        "        \n",
        "    def on_epoch_end(self, epoch, logs={}):\n",
        "        print(\"epoch: %d \" % epoch)     \n",
        "                \n",
        "        self.logs.append(logs)\n",
        "        #self.x.append(self.i)\n",
        "        self.x.append(epoch)\n",
        "        self.losses.append(logs.get('loss'))\n",
        "        self.val_losses.append(logs.get('val_loss'))\n",
        "        self.acc.append(logs.get('acc'))\n",
        "        self.val_acc.append(logs.get('val_acc'))\n",
        "        #self.i += 1\n",
        "        \n",
        "        \n",
        "        if epoch%10 !=0 or epoch==0:\n",
        "          return # skip plot graph\n",
        "        \n",
        "        f, (ax1, ax2) = plt.subplots(2, 1, sharex=True)\n",
        "        \n",
        "        clear_output(wait=True)\n",
        "        \n",
        "        ax1.set_yscale('log')\n",
        "        ax1.plot(self.x, self.losses, label=\"loss\")\n",
        "        ax1.plot(self.x, self.val_losses, label=\"val_loss\")\n",
        "        ax1.legend()\n",
        "        \n",
        "        ax2.plot(self.x, self.acc, label=\"accuracy\")\n",
        "        ax2.plot(self.x, self.val_acc, label=\"validation accuracy\")\n",
        "        ax2.legend()\n",
        "        \n",
        "        plt.show();\n",
        "        \n",
        "plot = PlotLearning()\n"
      ],
      "execution_count": null,
      "outputs": []
    },
    {
      "cell_type": "markdown",
      "metadata": {
        "id": "199FOZWfi9Xp"
      },
      "source": [
        "# Utility function"
      ]
    },
    {
      "cell_type": "code",
      "metadata": {
        "id": "aX5jJGzyqUrV"
      },
      "source": [
        "def restoreImg(X):\n",
        "\t_, D = X.shape\t\n",
        "\tW = int(math.sqrt(D))\t\n",
        "\tassert D == W * W\t\n",
        "\tX_image = X.reshape((-1, W, W))\n",
        "\treturn X_image\t"
      ],
      "execution_count": null,
      "outputs": []
    },
    {
      "cell_type": "code",
      "metadata": {
        "id": "4JW8iz0wjMMg"
      },
      "source": [
        "def decode(Ydigits):\n",
        "\t# np.argmax: Returns the indices of the maximum values along an axis.\t\n",
        "\treturn np.array( [ np.argmax(list) for list in Ydigits] )\n",
        "\n",
        "def get_prob(Y_predict): \n",
        "  Y_predict=np.array(Y_predict)\n",
        "  return  np.array( [ np.max(list) for list in Y_predict] )"
      ],
      "execution_count": null,
      "outputs": []
    },
    {
      "cell_type": "code",
      "metadata": {
        "id": "_Z7u7u7AlQjS"
      },
      "source": [
        "def plotExampleImg(title, X_image, Ydigits, Y_predict=None):\n",
        "\tfig, axarr = plt.subplots(2, 5)\n",
        "\taxList = np.reshape(axarr, (2*5,))\n",
        "\tplt.gcf().canvas.set_window_title(title)\n",
        "\tfig.set_facecolor('#FFFFFF')\n",
        "\tassert X_image.shape[0] == Ydigits.shape[0]\n",
        "\t\t\n",
        "\tfor num in range(0,10):\t # label 0 to 9\n",
        "\t\tselectIndex = np.where(Ydigits == num)[0] # select all indexs followed the label number\n",
        "\t\tdigitsImg = X_image[selectIndex]\t\t\n",
        "\t\t# random images\n",
        "\t\t#Return random integers from 0 (inclusive) to high (exclusive).\t\t\n",
        "\t\tif len(digitsImg)==0:\n",
        "\t\t\tprint(\"++picture of %s is not found+++\" % num)\n",
        "\t\t\tcontinue\n",
        "\t\trandomIndex = np.random.randint(0, digitsImg.shape[0])\t\t\n",
        "\t\t#axList[num].imshow(digitsImg[randomIndex], cmap=plt.cm.gray)\t\n",
        "\t\tplt.gray()\n",
        "\t\taxList[num].set_axis_off() # turn off axis x, y\n",
        "\t\taxList[num].imshow(digitsImg[randomIndex])\t\n",
        "\t\tif Y_predict is not None:\n",
        "\t\t\tassert Ydigits.shape[0] == Y_predict.shape[0]\n",
        "\t\t\tySelect = Y_predict[selectIndex]\n",
        "\t\t\taxList[num].set_title(\"%s=> %.2f%%\" % (num, ySelect[randomIndex]*100))\t\t\n",
        "\t\telse:\t\t\t\n",
        "\t\t\taxList[num].set_title(\"Number %s\" % num)\n",
        "\t\t\n",
        "\tplt.tight_layout()\n",
        "\tplt.show()"
      ],
      "execution_count": null,
      "outputs": []
    },
    {
      "cell_type": "code",
      "metadata": {
        "id": "6yOmbxCak7Pm"
      },
      "source": [
        "from sklearn import metrics\n",
        "\n",
        "def testModel(model, X_image, Xtest, Yexpected,  title_graph=\"\"):\n",
        "\tYpredicted \t\t\t= model.predict(Xtest, verbose=0)\n",
        "\t#Yexpected \t\t\t= decode(Yexpected) \t# convert binary to digits 0-9\n",
        "\tYpredicted_decode \t= decode(Ypredicted) # convert binary to digits 0-9\n",
        "\tprint(\"Classification report\")\n",
        "\tprint(metrics.classification_report(Yexpected, Ypredicted_decode))\t\n",
        "\tY_max = np.array( [ np.max(list) for list in Ypredicted] )\n",
        "\tplotExampleImg(title_graph, X_image, Ypredicted_decode, Y_max)"
      ],
      "execution_count": null,
      "outputs": []
    },
    {
      "cell_type": "markdown",
      "metadata": {
        "id": "HQkYMCNQbQZq"
      },
      "source": [
        "**ฟังก์ชั่นเตรียม datasets**"
      ]
    },
    {
      "cell_type": "code",
      "metadata": {
        "id": "XYyjvWl3cOm3"
      },
      "source": [
        "def preprocess_input(x_train, x_test):\n",
        "  # for input\n",
        "  x_train = x_train.reshape(60000,784)\n",
        "  x_test = x_test.reshape(10000,784) \n",
        "  return x_train, x_test"
      ],
      "execution_count": null,
      "outputs": []
    },
    {
      "cell_type": "code",
      "metadata": {
        "id": "gaYPvtmROey6"
      },
      "source": [
        "def preprocess_label(y_train, y_test):\n",
        "  # for label\n",
        "  y_train = keras.utils.to_categorical(y_train,10)\n",
        "  y_test = keras.utils.to_categorical(y_test,10)\n",
        "  return y_train, y_test"
      ],
      "execution_count": null,
      "outputs": []
    },
    {
      "cell_type": "code",
      "metadata": {
        "id": "5OYwjxIORNuq",
        "colab": {
          "base_uri": "https://localhost:8080/",
          "height": 119
        },
        "outputId": "60605e74-7feb-4f36-dff3-5a743b8178c0"
      },
      "source": [
        "x_train, y_train, x_test, y_test = get_datasets('mnist')\n",
        "x_image = x_train\n",
        "x_train, x_test = preprocess_input(x_train, x_test)\n",
        "y_train, y_test = preprocess_label(y_train, y_test)\n",
        "\n",
        "_, features = x_train.shape\n",
        "\n",
        "print(\"Size of training input:\", x_train.shape)\n",
        "print(\"Size of testing input:\", x_test.shape)\n",
        "print(\"Size of training label:\", y_train.shape)\n",
        "print(\"Size of testing label:\", y_test.shape)"
      ],
      "execution_count": null,
      "outputs": [
        {
          "output_type": "stream",
          "text": [
            "Downloading data from https://s3.amazonaws.com/img-datasets/mnist.npz\n",
            "11493376/11490434 [==============================] - 0s 0us/step\n",
            "Size of training input: (60000, 784)\n",
            "Size of testing input: (10000, 784)\n",
            "Size of training label: (60000, 10)\n",
            "Size of testing label: (10000, 10)\n"
          ],
          "name": "stdout"
        }
      ]
    },
    {
      "cell_type": "markdown",
      "metadata": {
        "id": "5zW3rZUpo_um"
      },
      "source": [
        "**ดูตัวอย่างภาพใน datasets**"
      ]
    },
    {
      "cell_type": "code",
      "metadata": {
        "id": "wtxt9c17qztY",
        "colab": {
          "base_uri": "https://localhost:8080/",
          "height": 244
        },
        "outputId": "393f7079-552b-4813-b750-aee196e3bb05"
      },
      "source": [
        "X_image = restoreImg(x_train)\t\n",
        "Ydigits = decode(y_train)\n",
        "plotExampleImg(\"Show image examples\", X_image, Ydigits)"
      ],
      "execution_count": null,
      "outputs": [
        {
          "output_type": "display_data",
          "data": {
            "image/png": "[encoded data removed]",
            "text/plain": [
              "<Figure size 432x288 with 10 Axes>"
            ]
          },
          "metadata": {
            "tags": []
          }
        }
      ]
    },
    {
      "cell_type": "markdown",
      "metadata": {
        "id": "wIdX0nidp3k6"
      },
      "source": [
        "เอาไว้เทสโมเดลตั้งแต่ตัวอย่างที่ 4-9"
      ]
    },
    {
      "cell_type": "code",
      "metadata": {
        "id": "b0tBhFyCrCjw"
      },
      "source": [
        "from sklearn import metrics\n",
        "\n",
        "def test_model(model, X_testImage, x_test, y_test):\n",
        "  \t\n",
        "  Y_testDigits = decode(y_test)  # convert binary to digits 0-9\n",
        "\n",
        "  Y_predict = model.predict(x_test, verbose=0)\n",
        "  Y_predictDigits \t= decode(Y_predict) # convert binary to digits 0-9\n",
        "  print(\"++++++++++++++++++++++\")\n",
        "  print(\"Classification report\")\n",
        "  print(metrics.classification_report(Y_testDigits, Y_predictDigits))\n",
        "\n",
        "  Y_prob = get_prob(Y_predict) \n",
        "  plotExampleImg(\"Show image examples\", X_testImage, Y_testDigits, Y_prob)\n"
      ],
      "execution_count": null,
      "outputs": []
    },
    {
      "cell_type": "markdown",
      "metadata": {
        "id": "d3OUptnXEwhZ"
      },
      "source": [
        "# ตัวอย่างและการใช้งาน\n"
      ]
    },
    {
      "cell_type": "markdown",
      "metadata": {
        "id": "3KtSbzuVQy3A"
      },
      "source": [
        "## เตรียม Datasets สำหรับตัวอย่างที่ 1 - 3"
      ]
    },
    {
      "cell_type": "code",
      "metadata": {
        "id": "A_mlU9BAQ26T"
      },
      "source": [
        "x_train, y_train, x_test, y_test = get_datasets('mnist')\n",
        "x_train, x_test = preprocess_input(x_train, x_test)"
      ],
      "execution_count": null,
      "outputs": []
    },
    {
      "cell_type": "markdown",
      "metadata": {
        "id": "g-8K4x0mIbLZ"
      },
      "source": [
        "## ตัวอย่างที่ 1\n",
        "\n",
        "<h3>Nearest neighbors</h3>\n",
        "\n",
        "เนื่องจากตัวอย่างข้อมูลเยอะ เลยรันนานหน่อย\n",
        "<hr>\n"
      ]
    },
    {
      "cell_type": "code",
      "metadata": {
        "id": "7a9E9ysTIof0",
        "colab": {
          "base_uri": "https://localhost:8080/",
          "height": 1000
        },
        "outputId": "7634aedf-82d5-4d07-f30d-7b849ba4967b"
      },
      "source": [
        "train_nearest_neighbors(x_train, y_train, x_test, y_test)"
      ],
      "execution_count": null,
      "outputs": [
        {
          "output_type": "stream",
          "text": [
            "progress 1 %\n",
            "progress 2 %\n",
            "progress 3 %\n",
            "progress 4 %\n",
            "progress 5 %\n",
            "progress 6 %\n",
            "progress 7 %\n",
            "progress 8 %\n",
            "progress 9 %\n",
            "progress 10 %\n",
            "progress 11 %\n",
            "progress 12 %\n",
            "progress 13 %\n",
            "progress 14 %\n",
            "progress 15 %\n",
            "progress 16 %\n",
            "progress 17 %\n",
            "progress 18 %\n",
            "progress 19 %\n",
            "progress 20 %\n",
            "progress 21 %\n",
            "progress 22 %\n",
            "progress 23 %\n",
            "progress 24 %\n",
            "progress 25 %\n",
            "progress 26 %\n",
            "progress 27 %\n",
            "progress 28 %\n",
            "progress 28 %\n",
            "progress 30 %\n",
            "progress 31 %\n",
            "progress 32 %\n",
            "progress 33 %\n",
            "progress 34 %\n",
            "progress 35 %\n",
            "progress 36 %\n",
            "progress 37 %\n",
            "progress 38 %\n",
            "progress 39 %\n",
            "progress 40 %\n",
            "progress 41 %\n",
            "progress 42 %\n",
            "progress 43 %\n",
            "progress 44 %\n",
            "progress 45 %\n",
            "progress 46 %\n",
            "progress 47 %\n",
            "progress 48 %\n",
            "progress 49 %\n",
            "progress 50 %\n",
            "progress 51 %\n",
            "progress 52 %\n",
            "progress 53 %\n",
            "progress 54 %\n",
            "progress 55 %\n",
            "progress 56 %\n",
            "progress 56 %\n",
            "progress 57 %\n",
            "progress 59 %\n",
            "progress 60 %\n",
            "progress 61 %\n",
            "progress 62 %\n",
            "progress 63 %\n",
            "progress 64 %\n",
            "progress 65 %\n",
            "progress 66 %\n",
            "progress 67 %\n",
            "progress 68 %\n",
            "progress 69 %\n",
            "progress 70 %\n",
            "progress 71 %\n",
            "progress 72 %\n",
            "progress 73 %\n",
            "progress 74 %\n",
            "progress 75 %\n",
            "progress 76 %\n",
            "progress 77 %\n",
            "progress 78 %\n",
            "progress 79 %\n",
            "progress 80 %\n",
            "progress 81 %\n",
            "progress 82 %\n",
            "progress 83 %\n",
            "progress 84 %\n",
            "progress 85 %\n",
            "progress 86 %\n",
            "progress 87 %\n",
            "progress 88 %\n",
            "progress 89 %\n",
            "progress 90 %\n",
            "progress 91 %\n",
            "progress 92 %\n",
            "progress 93 %\n",
            "progress 94 %\n",
            "progress 95 %\n",
            "progress 96 %\n",
            "progress 97 %\n",
            "progress 98 %\n",
            "progress 99 %\n",
            "progress 100 %\n",
            "Accuracy: 47.2900\n",
            "Classification report\n",
            "              precision    recall  f1-score   support\n",
            "\n",
            "           0       0.99      0.65      0.78       980\n",
            "           1       0.19      1.00      0.32      1135\n",
            "           2       0.95      0.14      0.25      1032\n",
            "           3       0.85      0.25      0.39      1010\n",
            "           4       0.86      0.52      0.65       982\n",
            "           5       0.78      0.29      0.42       892\n",
            "           6       0.98      0.53      0.69       958\n",
            "           7       0.74      0.77      0.75      1028\n",
            "           8       0.99      0.07      0.13       974\n",
            "           9       0.93      0.42      0.58      1009\n",
            "\n",
            "    accuracy                           0.47     10000\n",
            "   macro avg       0.83      0.46      0.50     10000\n",
            "weighted avg       0.82      0.47      0.49     10000\n",
            "\n"
          ],
          "name": "stdout"
        }
      ]
    },
    {
      "cell_type": "markdown",
      "metadata": {
        "id": "2qofr--zIaZO"
      },
      "source": [
        "## ตัวอย่างที่ 2\n",
        "\n",
        "<h3>Support vector</h3>\n",
        "\n",
        "เนื่องจากตัวอย่างข้อมูลเยอะ เลยรันนานหน่อย\n",
        "<hr>"
      ]
    },
    {
      "cell_type": "code",
      "metadata": {
        "id": "juq3p5rQZVpA",
        "colab": {
          "base_uri": "https://localhost:8080/",
          "height": 351
        },
        "outputId": "2a2e7ea6-f3f5-444b-8990-8b0b6313b0b6"
      },
      "source": [
        "import random\n",
        "\n",
        "x_train = random.sample(x_train,10000)\n",
        "y_train = random.sample(y_train,10000)\n",
        "x_test = random.sample(x_test,10000)\n",
        "y_test = random.sample(y_test,10000)\n",
        "\n",
        "train_support_vector(x_train, y_train, x_test, y_test)\t"
      ],
      "execution_count": null,
      "outputs": [
        {
          "output_type": "error",
          "ename": "TypeError",
          "evalue": "ignored",
          "traceback": [
            "\u001b[0;31m---------------------------------------------------------------------------\u001b[0m",
            "\u001b[0;31mTypeError\u001b[0m                                 Traceback (most recent call last)",
            "\u001b[0;32m<ipython-input-28-727a338ad0c6>\u001b[0m in \u001b[0;36m<module>\u001b[0;34m()\u001b[0m\n\u001b[1;32m      1\u001b[0m \u001b[0;32mimport\u001b[0m \u001b[0mrandom\u001b[0m\u001b[0;34m\u001b[0m\u001b[0;34m\u001b[0m\u001b[0m\n\u001b[1;32m      2\u001b[0m \u001b[0;34m\u001b[0m\u001b[0m\n\u001b[0;32m----> 3\u001b[0;31m \u001b[0mx_train\u001b[0m \u001b[0;34m=\u001b[0m \u001b[0mrandom\u001b[0m\u001b[0;34m.\u001b[0m\u001b[0msample\u001b[0m\u001b[0;34m(\u001b[0m\u001b[0mx_train\u001b[0m\u001b[0;34m,\u001b[0m\u001b[0;36m10000\u001b[0m\u001b[0;34m)\u001b[0m\u001b[0;34m\u001b[0m\u001b[0;34m\u001b[0m\u001b[0m\n\u001b[0m\u001b[1;32m      4\u001b[0m \u001b[0my_train\u001b[0m \u001b[0;34m=\u001b[0m \u001b[0mrandom\u001b[0m\u001b[0;34m.\u001b[0m\u001b[0msample\u001b[0m\u001b[0;34m(\u001b[0m\u001b[0my_train\u001b[0m\u001b[0;34m,\u001b[0m\u001b[0;36m10000\u001b[0m\u001b[0;34m)\u001b[0m\u001b[0;34m\u001b[0m\u001b[0;34m\u001b[0m\u001b[0m\n\u001b[1;32m      5\u001b[0m \u001b[0mx_test\u001b[0m \u001b[0;34m=\u001b[0m \u001b[0mrandom\u001b[0m\u001b[0;34m.\u001b[0m\u001b[0msample\u001b[0m\u001b[0;34m(\u001b[0m\u001b[0mx_test\u001b[0m\u001b[0;34m,\u001b[0m\u001b[0;36m10000\u001b[0m\u001b[0;34m)\u001b[0m\u001b[0;34m\u001b[0m\u001b[0;34m\u001b[0m\u001b[0m\n",
            "\u001b[0;32m/usr/lib/python3.6/random.py\u001b[0m in \u001b[0;36msample\u001b[0;34m(self, population, k)\u001b[0m\n\u001b[1;32m    314\u001b[0m             \u001b[0mpopulation\u001b[0m \u001b[0;34m=\u001b[0m \u001b[0mtuple\u001b[0m\u001b[0;34m(\u001b[0m\u001b[0mpopulation\u001b[0m\u001b[0;34m)\u001b[0m\u001b[0;34m\u001b[0m\u001b[0;34m\u001b[0m\u001b[0m\n\u001b[1;32m    315\u001b[0m         \u001b[0;32mif\u001b[0m \u001b[0;32mnot\u001b[0m \u001b[0misinstance\u001b[0m\u001b[0;34m(\u001b[0m\u001b[0mpopulation\u001b[0m\u001b[0;34m,\u001b[0m \u001b[0m_Sequence\u001b[0m\u001b[0;34m)\u001b[0m\u001b[0;34m:\u001b[0m\u001b[0;34m\u001b[0m\u001b[0;34m\u001b[0m\u001b[0m\n\u001b[0;32m--> 316\u001b[0;31m             \u001b[0;32mraise\u001b[0m \u001b[0mTypeError\u001b[0m\u001b[0;34m(\u001b[0m\u001b[0;34m\"Population must be a sequence or set.  For dicts, use list(d).\"\u001b[0m\u001b[0;34m)\u001b[0m\u001b[0;34m\u001b[0m\u001b[0;34m\u001b[0m\u001b[0m\n\u001b[0m\u001b[1;32m    317\u001b[0m         \u001b[0mrandbelow\u001b[0m \u001b[0;34m=\u001b[0m \u001b[0mself\u001b[0m\u001b[0;34m.\u001b[0m\u001b[0m_randbelow\u001b[0m\u001b[0;34m\u001b[0m\u001b[0;34m\u001b[0m\u001b[0m\n\u001b[1;32m    318\u001b[0m         \u001b[0mn\u001b[0m \u001b[0;34m=\u001b[0m \u001b[0mlen\u001b[0m\u001b[0;34m(\u001b[0m\u001b[0mpopulation\u001b[0m\u001b[0;34m)\u001b[0m\u001b[0;34m\u001b[0m\u001b[0;34m\u001b[0m\u001b[0m\n",
            "\u001b[0;31mTypeError\u001b[0m: Population must be a sequence or set.  For dicts, use list(d)."
          ]
        }
      ]
    },
    {
      "cell_type": "markdown",
      "metadata": {
        "id": "wabIiVeFFW7D"
      },
      "source": [
        "## ตัวอย่างที่ 3\n",
        "\n",
        "<h3>Logistic regression (1 neural)</h3>\n",
        "\n",
        "\n",
        "---\n",
        "\n"
      ]
    },
    {
      "cell_type": "code",
      "metadata": {
        "id": "Tvkvl-bgZWWp"
      },
      "source": [
        ""
      ],
      "execution_count": null,
      "outputs": []
    },
    {
      "cell_type": "markdown",
      "metadata": {
        "id": "tyBIwI1RQqcd"
      },
      "source": [
        "## เตรียม Datasets สำหรับตัวอย่างที่ 4 - 9"
      ]
    },
    {
      "cell_type": "code",
      "metadata": {
        "id": "1fW8bIZjQui8"
      },
      "source": [
        "x_train, y_train, x_test, y_test = get_datasets('mnist')\n",
        "x_image = x_train\n",
        "x_train, x_test = preprocess_input(x_train, x_test)\n",
        "y_train, y_test = preprocess_label(y_train, y_test)"
      ],
      "execution_count": null,
      "outputs": []
    },
    {
      "cell_type": "markdown",
      "metadata": {
        "id": "x1j0N_XKRE3H"
      },
      "source": [
        "**ดูตัวอย่างภาพใน datasets**"
      ]
    },
    {
      "cell_type": "code",
      "metadata": {
        "id": "XSrL1dC5Q91P"
      },
      "source": [
        "X_image = restoreImg(x_train)\t\n",
        "Ydigits = decode(y_train)\n",
        "plotExampleImg(\"Show image examples\", X_image, Ydigits)"
      ],
      "execution_count": null,
      "outputs": []
    },
    {
      "cell_type": "markdown",
      "metadata": {
        "id": "tutrAc247o90"
      },
      "source": [
        "## ตัวอย่างที่ 4\n",
        "\n",
        "<h3> Neural network (Multilayer Perceptron: MLP)</h3>\n",
        "\n",
        "\n",
        "---"
      ]
    },
    {
      "cell_type": "code",
      "metadata": {
        "id": "ryRZTuqCYIkt"
      },
      "source": [
        "model = build_MLP(features)\n",
        "model.summary()\n",
        "\n",
        "#model.fit(x_train, y_train, batch_size=32, epochs=10, verbose=1)\n",
        "model.fit(x_train, y_train, \n",
        "          batch_size=32, epochs=101, \n",
        "          validation_data=(x_test, y_test),\n",
        "          callbacks=[plot],\n",
        "          verbose=0)"
      ],
      "execution_count": null,
      "outputs": []
    },
    {
      "cell_type": "code",
      "metadata": {
        "id": "XI8JuLJgfTju"
      },
      "source": [
        "import random\n",
        "index = random.randint(0, 100)\n",
        "Y_predict = model.predict(x_test, verbose=0)\n",
        "print(y_test[index])\n",
        "print(Y_predict[index])"
      ],
      "execution_count": null,
      "outputs": []
    },
    {
      "cell_type": "code",
      "metadata": {
        "id": "PSPdh3ZBorGx"
      },
      "source": [
        "X_testImage = restoreImg(x_test)\n",
        "test_model(model, X_testImage, x_test, y_test)"
      ],
      "execution_count": null,
      "outputs": []
    },
    {
      "cell_type": "markdown",
      "metadata": {
        "id": "x8FaANhTAOmT"
      },
      "source": [
        "## ตัวอย่างที่ 5\n",
        "\n",
        "<h3>  Convolutional Neural Networks (CNN) with Conv2D </h3>\n",
        "\n",
        "\n",
        "---\n"
      ]
    },
    {
      "cell_type": "code",
      "metadata": {
        "id": "14FQ0gL7yXZy"
      },
      "source": [
        "# reshape to Theano: (batchsize, chanel, row, colum) or Tensorflow: (batchsize, row, column, chanel)\n",
        "XtrainCNN = reshapeCNN2D_Input(x_train)\n",
        "XtestCNN = reshapeCNN2D_Input(x_test)\n",
        "image_shape = XtrainCNN.shape[1:]\t# select (chanel, row, column) or (row, column, chanel)\n",
        "\n",
        "model = build_CNN_2D(image_shape)\n",
        "model.summary()\n",
        "\n",
        "#model.fit(x_train, y_train, batch_size=32, epochs=10, verbose=1)\n",
        "model.fit(XtrainCNN, y_train, \n",
        "          batch_size=32, epochs=61, \n",
        "          validation_data=(XtestCNN, y_test),\n",
        "          callbacks=[plot],\n",
        "          verbose=0)"
      ],
      "execution_count": null,
      "outputs": []
    },
    {
      "cell_type": "code",
      "metadata": {
        "id": "dYvsoFex0WUa"
      },
      "source": [
        "X_testImage = restoreImg(x_test)\n",
        "test_model(model, X_testImage, XtestCNN, y_test)"
      ],
      "execution_count": null,
      "outputs": []
    },
    {
      "cell_type": "markdown",
      "metadata": {
        "id": "z4zTRknWbhMh"
      },
      "source": [
        "## ตัวอย่างที่ 6\n",
        "\n",
        "<h3>Convolutional Neural Networks (CNN) with Convolution1D</h3\n",
        " \n",
        "\n",
        "---\n"
      ]
    },
    {
      "cell_type": "code",
      "metadata": {
        "id": "lPTqpn_MIviw"
      },
      "source": [
        "# reshape to Theano: (batchsize, chanel, row, colum) or Tensorflow: (batchsize, row, column, chanel)\n",
        "XtrainCNN = reshapeCNN1D_Input(x_train)\n",
        "XtestCNN = reshapeCNN1D_Input(x_test)\n",
        "image_shape = XtrainCNN.shape[1:]\t# select (chanel, row, column) or (row, column, chanel)\n",
        "\n",
        "model = build_CNN_1D(image_shape)\n",
        "model.summary()\n",
        "\n",
        "#model.fit(x_train, y_train, batch_size=32, epochs=10, verbose=1)\n",
        "model.fit(XtrainCNN, y_train, \n",
        "          batch_size=32, epochs=101, \n",
        "          validation_data=(XtestCNN, y_test),\n",
        "          callbacks=[plot],\n",
        "          verbose=0)"
      ],
      "execution_count": null,
      "outputs": []
    },
    {
      "cell_type": "code",
      "metadata": {
        "id": "W1wIwkRFbMqj"
      },
      "source": [
        "X_testImage = restoreImg(x_test)\n",
        "test_model(model, X_testImage, XtestCNN, y_test)"
      ],
      "execution_count": null,
      "outputs": []
    },
    {
      "cell_type": "markdown",
      "metadata": {
        "id": "EE41cKDpbm9y"
      },
      "source": [
        "## ตัวอย่างที่ 7\n",
        "\n",
        "<h3> Recurrent Neural Networks (RNN) </h3>\n",
        "\n",
        "\n",
        "\n",
        "---\n"
      ]
    },
    {
      "cell_type": "code",
      "metadata": {
        "id": "ncXmiqVAbNFF"
      },
      "source": [
        "print(np.shape(x_train))\n",
        "# reshape to sequences for Recurrent Neural Networks\n",
        "XtrainSeq = getSequenceInput(x_train)\n",
        "XtestSeq = getSequenceInput(x_test)\n",
        "image_shape = XtrainSeq.shape[1:]\t# select (row, column)\n",
        "\n",
        "model = build_RNN(image_shape)  \n",
        "model.summary()\n",
        "\n",
        "#model.fit(x_train, y_train, batch_size=32, epochs=10, verbose=1)\n",
        "model.fit(XtrainSeq, y_train, \n",
        "          batch_size=32, epochs=31, \n",
        "          validation_data=(XtestSeq, y_test),\n",
        "          callbacks=[plot],\n",
        "          verbose=0)"
      ],
      "execution_count": null,
      "outputs": []
    },
    {
      "cell_type": "code",
      "metadata": {
        "id": "_EVU7e7NgGuE"
      },
      "source": [
        "X_testImage = restoreImg(x_test)\n",
        "test_model(model, X_testImage, XtestSeq, y_test)"
      ],
      "execution_count": null,
      "outputs": []
    },
    {
      "cell_type": "markdown",
      "metadata": {
        "id": "wZX7fCXNFDsF"
      },
      "source": [
        "## ตัวอย่างที่ 8\n",
        "\n",
        "<h3>Long short-term memory (LSTM)</h3>\n",
        "\n",
        "\n",
        "\n",
        "---\n"
      ]
    },
    {
      "cell_type": "code",
      "metadata": {
        "id": "wxsHi9dLRw00"
      },
      "source": [
        "print(np.shape(x_train))\n",
        "# reshape to sequences for Recurrent Neural Networks\n",
        "XtrainSeq = getSequenceInput(x_train)\n",
        "XtestSeq = getSequenceInput(x_test)\n",
        "image_shape = XtrainSeq.shape[1:]\t# select (row, column)\n",
        "\n",
        "model = build_LSTM(image_shape)  \n",
        "model.summary()\n",
        "\n",
        "#model.fit(x_train, y_train, batch_size=32, epochs=10, verbose=1)\n",
        "model.fit(XtrainSeq, y_train, \n",
        "          batch_size=32, epochs=11, \n",
        "          validation_data=(XtestSeq, y_test),\n",
        "          callbacks=[plot],\n",
        "          verbose=0)"
      ],
      "execution_count": null,
      "outputs": []
    },
    {
      "cell_type": "code",
      "metadata": {
        "id": "QAa1f1xjFRvH"
      },
      "source": [
        "X_testImage = restoreImg(x_test)\n",
        "test_model(model, X_testImage, XtestSeq, y_test)"
      ],
      "execution_count": null,
      "outputs": []
    },
    {
      "cell_type": "markdown",
      "metadata": {
        "id": "TVARoCmGRcGZ"
      },
      "source": [
        "## ตัวอย่างที่ 9\n",
        "\n",
        "<h3>Gated Recurrent Unit (GRU)</h3>\n",
        "\n",
        "\n",
        "\n",
        "---\n"
      ]
    },
    {
      "cell_type": "code",
      "metadata": {
        "id": "U6lXh9G0MDay"
      },
      "source": [
        "print(np.shape(x_train))\n",
        "# reshape to sequences for Recurrent Neural Networks\n",
        "XtrainSeq = getSequenceInput(x_train)\n",
        "XtestSeq = getSequenceInput(x_test)\n",
        "image_shape = XtrainSeq.shape[1:]\t# select (row, column)\n",
        "\n",
        "model = build_LSTM(image_shape)  \n",
        "model.summary()\n",
        "\n",
        "#model.fit(x_train, y_train, batch_size=32, epochs=10, verbose=1)\n",
        "model.fit(XtrainSeq, y_train, \n",
        "          batch_size=32, epochs=11, \n",
        "          validation_data=(XtestSeq, y_test),\n",
        "          callbacks=[plot],\n",
        "          verbose=0)"
      ],
      "execution_count": null,
      "outputs": []
    },
    {
      "cell_type": "code",
      "metadata": {
        "id": "A9Lt3K6On5nc"
      },
      "source": [
        "X_testImage = restoreImg(x_test)\n",
        "test_model(model, X_testImage, XtestSeq, y_test)"
      ],
      "execution_count": null,
      "outputs": []
    },
    {
      "cell_type": "code",
      "metadata": {
        "id": "J5sJ721GYy-n"
      },
      "source": [
        "#accuracy = model.evaluate(x=x_test, y=y_test, batch_size=32)\n",
        "#print(\"Accuracy: \",accuracy[1])\n",
        "\n",
        "#model.predict(x, batch_size=None, verbose=0, steps=None, callbacks=None)\n"
      ],
      "execution_count": null,
      "outputs": []
    },
    {
      "cell_type": "markdown",
      "metadata": {
        "id": "18HSMklg3dYp"
      },
      "source": [
        "# ฝากติดตาม\n",
        "\n",
        "<img height=\"20px\" src=\"https://www.patanasongsivilai.com/blog/wp-content/uploads/2017/06/logo_facebook2.png\" align=\"left\" hspace=\"10px\" vspace=\"0px\">  https://www.facebook.com/programmerthai/\n",
        "\n",
        "<img height=\"14px\" src=\"https://www.patanasongsivilai.com/blog/wp-content/uploads/2019/03/youtube.png\" align=\"left\" hspace=\"10px\" vspace=\"3px\">  https://www.youtube.com/channel/UCvhCKtG5cRE6K5--RJPql_w\n",
        "\n",
        "<img height=\"14px\" src=\"https://www.patanasongsivilai.com/blog/wp-content/uploads/2019/09/github-2.jpg\" align=\"left\" hspace=\"10px\" vspace=\"3px\">https://github.com/adminho/machine-learning"
      ]
    },
    {
      "cell_type": "markdown",
      "metadata": {
        "id": "vkTHggXeSSyR"
      },
      "source": [
        "# ฝากประชาสัมพันธ์"
      ]
    },
    {
      "cell_type": "code",
      "metadata": {
        "id": "i7SSybi6SZf3",
        "cellView": "form"
      },
      "source": [
        "#@title หนังสือ AI (ปัญญาประดิษฐ์) ไม่ยาก เรียนรู้ได้ด้วยเลขม. ปลาย ราคา 295 บาท\n",
        "%%HTML\n",
        "<iframe src=\"https://www.facebook.com/plugins/post.php?href=https%3A%2F%2Fwww.facebook.com%2Fprogrammerthai%2Fphotos%2Fa.2410667485889755%2F2555677101388792%2F%3Ftype%3D3&width=500\" width=\"500\" height=\"588\" style=\"border:none;overflow:hidden\" scrolling=\"no\" frameborder=\"0\" allowTransparency=\"true\" allow=\"encrypted-media\"></iframe>"
      ],
      "execution_count": null,
      "outputs": []
    }
  ]
}