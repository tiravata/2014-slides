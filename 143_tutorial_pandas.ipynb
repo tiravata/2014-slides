{
  "nbformat": 4,
  "nbformat_minor": 0,
  "metadata": {
    "colab": {
      "name": "143_tutorial_pandas.ipynb",
      "provenance": [],
      "collapsed_sections": [],
      "toc_visible": true,
      "include_colab_link": true
    },
    "kernelspec": {
      "name": "python3",
      "display_name": "Python 3"
    }
  },
  "cells": [
    {
      "cell_type": "markdown",
      "metadata": {
        "id": "view-in-github",
        "colab_type": "text"
      },
      "source": [
        "<a href=\"https://colab.research.google.com/github/tiravata/2014-slides/blob/master/143_tutorial_pandas.ipynb\" target=\"_parent\"><img src=\"https://colab.research.google.com/assets/colab-badge.svg\" alt=\"Open In Colab\"/></a>"
      ]
    },
    {
      "cell_type": "markdown",
      "metadata": {
        "id": "DBrN9QvicbjS"
      },
      "source": [
        "<div><img height=\"45px\" src=\"https://avatars3.githubusercontent.com/u/20337240?s=460&v=4\" align=\"left\" hspace=\"10px\" vspace=\"0px\">\n",
        "</div>\n",
        "<h1>การใช้โมดูล Pandas เบื้องต้น</h1>\n",
        "\n",
        "เอาไว้ใช้งานกับชนิดข้อมูลแบบ Dataframe (ตารางเฮโย)\n",
        "<hr>\n",
        "\n",
        "<a href='https://www.facebook.com/programmerthai'><font color='green'>สรุปและเรียบเรียงโดย โปรแกรมเมอร์ไทย thai programmer</font></a>\n",
        "\n"
      ]
    },
    {
      "cell_type": "markdown",
      "metadata": {
        "id": "IlxeUC2GwYlI"
      },
      "source": [
        "cite https://colab.research.google.com/github/madewithml/lessons/blob/master/notebooks/01_Foundations/04_Pandas.ipynb\n"
      ]
    },
    {
      "cell_type": "markdown",
      "metadata": {
        "id": "67aDj18RcXpC"
      },
      "source": [
        "# วิธีใช้งาน colab\n",
        "\n",
        "Colab พัฒนาโดย google เป็นหน้าเว็บเอาไว้ใช้เขียนโค้ด python ได้ผ่านทางหน้าเว็บ และเชื่อมต่อกับ google drive ของเราก็ได้ด้วย ซึ่ง colab หน้านี้**ได้รวบรวมเนื้อหา Python ของม.ต้น** เอาไว้ แต่ก่อนอื่นอยากให้ดูวิธีการใช้งาน colab เสียก่อน\n",
        "\n",
        "<font color='red'>** ต้องมี Gmail และ google drive</font>\n",
        "\n",
        "<hr/>\n",
        "\n",
        "<h3>วิธี 1) กด \"Open in playgrouhd\"</h3>\n",
        "<div>\n",
        "<img height=\"200px\" src=\"https://www.patanasongsivilai.com/blog/wp-content/uploads/2020/05/python_matayom_4.png\" align=\"center\" hspace=\"10px\" vspace=\"0px\">\n",
        "\n",
        "\n",
        "<hr/>\n",
        "\n",
        "<h3>วิธี 2) กด Save a copy in Drive ... เพื่อบันทึกไว้ google drive เครื่องเรา</h3>\n",
        "\n",
        "<img height=\"300px\" src=\"https://www.patanasongsivilai.com/blog/wp-content/uploads/2019/11/python_matayom_1.png\" align=\"center\" hspace=\"10px\" vspace=\"0px\">\n",
        "\n",
        "<br/>\n",
        "\n",
        "<img height=\"200px\" src=\"https://www.patanasongsivilai.com/blog/wp-content/uploads/2019/11/python_matayom_2.png\" align=\"center\" hspace=\"10px\" vspace=\"0px\">\n",
        "\n",
        "<hr/>\n",
        "\n",
        "<h3>จากนั้นถึงจะสามารถรันได้</h3>\n",
        "<img height=\"200px\" src=\"https://www.patanasongsivilai.com/blog/wp-content/uploads/2019/11/python_matayom_3.png\" align=\"center\" hspace=\"10px\" vspace=\"0px\">\n"
      ]
    },
    {
      "cell_type": "markdown",
      "metadata": {
        "id": "YbIueCOry5n4"
      },
      "source": [
        "# Setup Environments"
      ]
    },
    {
      "cell_type": "code",
      "metadata": {
        "id": "duNodGOHyvj-"
      },
      "source": [
        "import pandas as pd"
      ],
      "execution_count": null,
      "outputs": []
    },
    {
      "cell_type": "markdown",
      "metadata": {
        "id": "fJwXHYeKyenL"
      },
      "source": [
        "# ตัวอย่างข้อมูลจากไฟล์ csv"
      ]
    },
    {
      "cell_type": "markdown",
      "metadata": {
        "id": "wLZAvAsMKhM6"
      },
      "source": [
        "**อ่านข้อมูล**"
      ]
    },
    {
      "cell_type": "code",
      "metadata": {
        "id": "zNXd4DobCNG-",
        "colab": {
          "base_uri": "https://localhost:8080/",
          "height": 34
        },
        "outputId": "1a195cd5-cce3-4513-8b7a-18a71f04b3be"
      },
      "source": [
        "df = pd.read_csv(\"https://download.mlcc.google.com/mledu-datasets/california_housing_train.csv\", sep=\",\")\n",
        "type(df)"
      ],
      "execution_count": null,
      "outputs": [
        {
          "output_type": "execute_result",
          "data": {
            "text/plain": [
              "pandas.core.frame.DataFrame"
            ]
          },
          "metadata": {
            "tags": []
          },
          "execution_count": 26
        }
      ]
    },
    {
      "cell_type": "markdown",
      "metadata": {
        "id": "ANpIzdrFKyOF"
      },
      "source": [
        "**ดูส่วนหัว**"
      ]
    },
    {
      "cell_type": "code",
      "metadata": {
        "id": "gdJzLiCwCNEB",
        "colab": {
          "base_uri": "https://localhost:8080/",
          "height": 218
        },
        "outputId": "f8c663e9-a764-4b44-9f69-1bd13d94d418"
      },
      "source": [
        "df.head(5) # default คือ 4"
      ],
      "execution_count": null,
      "outputs": [
        {
          "output_type": "execute_result",
          "data": {
            "text/html": [
              "<div>\n",
              "<style scoped>\n",
              "    .dataframe tbody tr th:only-of-type {\n",
              "        vertical-align: middle;\n",
              "    }\n",
              "\n",
              "    .dataframe tbody tr th {\n",
              "        vertical-align: top;\n",
              "    }\n",
              "\n",
              "    .dataframe thead th {\n",
              "        text-align: right;\n",
              "    }\n",
              "</style>\n",
              "<table border=\"1\" class=\"dataframe\">\n",
              "  <thead>\n",
              "    <tr style=\"text-align: right;\">\n",
              "      <th></th>\n",
              "      <th>longitude</th>\n",
              "      <th>latitude</th>\n",
              "      <th>housing_median_age</th>\n",
              "      <th>total_rooms</th>\n",
              "      <th>total_bedrooms</th>\n",
              "      <th>population</th>\n",
              "      <th>households</th>\n",
              "      <th>median_income</th>\n",
              "      <th>median_house_value</th>\n",
              "    </tr>\n",
              "  </thead>\n",
              "  <tbody>\n",
              "    <tr>\n",
              "      <th>0</th>\n",
              "      <td>-114.31</td>\n",
              "      <td>34.19</td>\n",
              "      <td>15.0</td>\n",
              "      <td>5612.0</td>\n",
              "      <td>1283.0</td>\n",
              "      <td>1015.0</td>\n",
              "      <td>472.0</td>\n",
              "      <td>1.4936</td>\n",
              "      <td>66900.0</td>\n",
              "    </tr>\n",
              "    <tr>\n",
              "      <th>1</th>\n",
              "      <td>-114.47</td>\n",
              "      <td>34.40</td>\n",
              "      <td>19.0</td>\n",
              "      <td>7650.0</td>\n",
              "      <td>1901.0</td>\n",
              "      <td>1129.0</td>\n",
              "      <td>463.0</td>\n",
              "      <td>1.8200</td>\n",
              "      <td>80100.0</td>\n",
              "    </tr>\n",
              "    <tr>\n",
              "      <th>2</th>\n",
              "      <td>-114.56</td>\n",
              "      <td>33.69</td>\n",
              "      <td>17.0</td>\n",
              "      <td>720.0</td>\n",
              "      <td>174.0</td>\n",
              "      <td>333.0</td>\n",
              "      <td>117.0</td>\n",
              "      <td>1.6509</td>\n",
              "      <td>85700.0</td>\n",
              "    </tr>\n",
              "    <tr>\n",
              "      <th>3</th>\n",
              "      <td>-114.57</td>\n",
              "      <td>33.64</td>\n",
              "      <td>14.0</td>\n",
              "      <td>1501.0</td>\n",
              "      <td>337.0</td>\n",
              "      <td>515.0</td>\n",
              "      <td>226.0</td>\n",
              "      <td>3.1917</td>\n",
              "      <td>73400.0</td>\n",
              "    </tr>\n",
              "    <tr>\n",
              "      <th>4</th>\n",
              "      <td>-114.57</td>\n",
              "      <td>33.57</td>\n",
              "      <td>20.0</td>\n",
              "      <td>1454.0</td>\n",
              "      <td>326.0</td>\n",
              "      <td>624.0</td>\n",
              "      <td>262.0</td>\n",
              "      <td>1.9250</td>\n",
              "      <td>65500.0</td>\n",
              "    </tr>\n",
              "  </tbody>\n",
              "</table>\n",
              "</div>"
            ],
            "text/plain": [
              "   longitude  latitude  ...  median_income  median_house_value\n",
              "0    -114.31     34.19  ...         1.4936             66900.0\n",
              "1    -114.47     34.40  ...         1.8200             80100.0\n",
              "2    -114.56     33.69  ...         1.6509             85700.0\n",
              "3    -114.57     33.64  ...         3.1917             73400.0\n",
              "4    -114.57     33.57  ...         1.9250             65500.0\n",
              "\n",
              "[5 rows x 9 columns]"
            ]
          },
          "metadata": {
            "tags": []
          },
          "execution_count": 8
        }
      ]
    },
    {
      "cell_type": "markdown",
      "metadata": {
        "id": "AIK8_yn2K2GQ"
      },
      "source": [
        "**ดูส่วนท้าย**"
      ]
    },
    {
      "cell_type": "code",
      "metadata": {
        "id": "7VFyEb4ZG7hV",
        "colab": {
          "base_uri": "https://localhost:8080/",
          "height": 218
        },
        "outputId": "3be39936-e2fe-4d34-f3ae-ead90a927354"
      },
      "source": [
        "df.tail(5) # default คือ 4 แถว"
      ],
      "execution_count": null,
      "outputs": [
        {
          "output_type": "execute_result",
          "data": {
            "text/html": [
              "<div>\n",
              "<style scoped>\n",
              "    .dataframe tbody tr th:only-of-type {\n",
              "        vertical-align: middle;\n",
              "    }\n",
              "\n",
              "    .dataframe tbody tr th {\n",
              "        vertical-align: top;\n",
              "    }\n",
              "\n",
              "    .dataframe thead th {\n",
              "        text-align: right;\n",
              "    }\n",
              "</style>\n",
              "<table border=\"1\" class=\"dataframe\">\n",
              "  <thead>\n",
              "    <tr style=\"text-align: right;\">\n",
              "      <th></th>\n",
              "      <th>longitude</th>\n",
              "      <th>latitude</th>\n",
              "      <th>housing_median_age</th>\n",
              "      <th>total_rooms</th>\n",
              "      <th>total_bedrooms</th>\n",
              "      <th>population</th>\n",
              "      <th>households</th>\n",
              "      <th>median_income</th>\n",
              "      <th>median_house_value</th>\n",
              "    </tr>\n",
              "  </thead>\n",
              "  <tbody>\n",
              "    <tr>\n",
              "      <th>16995</th>\n",
              "      <td>-124.26</td>\n",
              "      <td>40.58</td>\n",
              "      <td>52.0</td>\n",
              "      <td>2217.0</td>\n",
              "      <td>394.0</td>\n",
              "      <td>907.0</td>\n",
              "      <td>369.0</td>\n",
              "      <td>2.3571</td>\n",
              "      <td>111400.0</td>\n",
              "    </tr>\n",
              "    <tr>\n",
              "      <th>16996</th>\n",
              "      <td>-124.27</td>\n",
              "      <td>40.69</td>\n",
              "      <td>36.0</td>\n",
              "      <td>2349.0</td>\n",
              "      <td>528.0</td>\n",
              "      <td>1194.0</td>\n",
              "      <td>465.0</td>\n",
              "      <td>2.5179</td>\n",
              "      <td>79000.0</td>\n",
              "    </tr>\n",
              "    <tr>\n",
              "      <th>16997</th>\n",
              "      <td>-124.30</td>\n",
              "      <td>41.84</td>\n",
              "      <td>17.0</td>\n",
              "      <td>2677.0</td>\n",
              "      <td>531.0</td>\n",
              "      <td>1244.0</td>\n",
              "      <td>456.0</td>\n",
              "      <td>3.0313</td>\n",
              "      <td>103600.0</td>\n",
              "    </tr>\n",
              "    <tr>\n",
              "      <th>16998</th>\n",
              "      <td>-124.30</td>\n",
              "      <td>41.80</td>\n",
              "      <td>19.0</td>\n",
              "      <td>2672.0</td>\n",
              "      <td>552.0</td>\n",
              "      <td>1298.0</td>\n",
              "      <td>478.0</td>\n",
              "      <td>1.9797</td>\n",
              "      <td>85800.0</td>\n",
              "    </tr>\n",
              "    <tr>\n",
              "      <th>16999</th>\n",
              "      <td>-124.35</td>\n",
              "      <td>40.54</td>\n",
              "      <td>52.0</td>\n",
              "      <td>1820.0</td>\n",
              "      <td>300.0</td>\n",
              "      <td>806.0</td>\n",
              "      <td>270.0</td>\n",
              "      <td>3.0147</td>\n",
              "      <td>94600.0</td>\n",
              "    </tr>\n",
              "  </tbody>\n",
              "</table>\n",
              "</div>"
            ],
            "text/plain": [
              "       longitude  latitude  ...  median_income  median_house_value\n",
              "16995    -124.26     40.58  ...         2.3571            111400.0\n",
              "16996    -124.27     40.69  ...         2.5179             79000.0\n",
              "16997    -124.30     41.84  ...         3.0313            103600.0\n",
              "16998    -124.30     41.80  ...         1.9797             85800.0\n",
              "16999    -124.35     40.54  ...         3.0147             94600.0\n",
              "\n",
              "[5 rows x 9 columns]"
            ]
          },
          "metadata": {
            "tags": []
          },
          "execution_count": 9
        }
      ]
    },
    {
      "cell_type": "markdown",
      "metadata": {
        "id": "z3RiO01I0ETF"
      },
      "source": [
        "**เลือกแบบสุ่ม (random)**"
      ]
    },
    {
      "cell_type": "code",
      "metadata": {
        "id": "SzK4mkRhz_NU",
        "colab": {
          "base_uri": "https://localhost:8080/",
          "height": 218
        },
        "outputId": "9e8e37df-9163-4c0f-b7ec-d99b6e54c40d"
      },
      "source": [
        "df.sample(5) # default คือ 1 แถว"
      ],
      "execution_count": null,
      "outputs": [
        {
          "output_type": "execute_result",
          "data": {
            "text/html": [
              "<div>\n",
              "<style scoped>\n",
              "    .dataframe tbody tr th:only-of-type {\n",
              "        vertical-align: middle;\n",
              "    }\n",
              "\n",
              "    .dataframe tbody tr th {\n",
              "        vertical-align: top;\n",
              "    }\n",
              "\n",
              "    .dataframe thead th {\n",
              "        text-align: right;\n",
              "    }\n",
              "</style>\n",
              "<table border=\"1\" class=\"dataframe\">\n",
              "  <thead>\n",
              "    <tr style=\"text-align: right;\">\n",
              "      <th></th>\n",
              "      <th>longitude</th>\n",
              "      <th>latitude</th>\n",
              "      <th>housing_median_age</th>\n",
              "      <th>total_rooms</th>\n",
              "      <th>total_bedrooms</th>\n",
              "      <th>population</th>\n",
              "      <th>households</th>\n",
              "      <th>median_income</th>\n",
              "      <th>median_house_value</th>\n",
              "    </tr>\n",
              "  </thead>\n",
              "  <tbody>\n",
              "    <tr>\n",
              "      <th>7819</th>\n",
              "      <td>-118.39</td>\n",
              "      <td>34.02</td>\n",
              "      <td>38.0</td>\n",
              "      <td>2521.0</td>\n",
              "      <td>647.0</td>\n",
              "      <td>1091.0</td>\n",
              "      <td>597.0</td>\n",
              "      <td>4.1296</td>\n",
              "      <td>322900.0</td>\n",
              "    </tr>\n",
              "    <tr>\n",
              "      <th>15504</th>\n",
              "      <td>-122.32</td>\n",
              "      <td>37.69</td>\n",
              "      <td>48.0</td>\n",
              "      <td>592.0</td>\n",
              "      <td>122.0</td>\n",
              "      <td>340.0</td>\n",
              "      <td>143.0</td>\n",
              "      <td>5.9660</td>\n",
              "      <td>315200.0</td>\n",
              "    </tr>\n",
              "    <tr>\n",
              "      <th>7646</th>\n",
              "      <td>-118.37</td>\n",
              "      <td>33.97</td>\n",
              "      <td>41.0</td>\n",
              "      <td>1833.0</td>\n",
              "      <td>355.0</td>\n",
              "      <td>847.0</td>\n",
              "      <td>348.0</td>\n",
              "      <td>5.7260</td>\n",
              "      <td>287800.0</td>\n",
              "    </tr>\n",
              "    <tr>\n",
              "      <th>1639</th>\n",
              "      <td>-117.23</td>\n",
              "      <td>32.75</td>\n",
              "      <td>11.0</td>\n",
              "      <td>4304.0</td>\n",
              "      <td>1245.0</td>\n",
              "      <td>1960.0</td>\n",
              "      <td>1105.0</td>\n",
              "      <td>3.3456</td>\n",
              "      <td>159800.0</td>\n",
              "    </tr>\n",
              "    <tr>\n",
              "      <th>6750</th>\n",
              "      <td>-118.29</td>\n",
              "      <td>33.88</td>\n",
              "      <td>32.0</td>\n",
              "      <td>2307.0</td>\n",
              "      <td>493.0</td>\n",
              "      <td>1754.0</td>\n",
              "      <td>528.0</td>\n",
              "      <td>4.3170</td>\n",
              "      <td>232800.0</td>\n",
              "    </tr>\n",
              "  </tbody>\n",
              "</table>\n",
              "</div>"
            ],
            "text/plain": [
              "       longitude  latitude  ...  median_income  median_house_value\n",
              "7819     -118.39     34.02  ...         4.1296            322900.0\n",
              "15504    -122.32     37.69  ...         5.9660            315200.0\n",
              "7646     -118.37     33.97  ...         5.7260            287800.0\n",
              "1639     -117.23     32.75  ...         3.3456            159800.0\n",
              "6750     -118.29     33.88  ...         4.3170            232800.0\n",
              "\n",
              "[5 rows x 9 columns]"
            ]
          },
          "metadata": {
            "tags": []
          },
          "execution_count": 22
        }
      ]
    },
    {
      "cell_type": "markdown",
      "metadata": {
        "id": "vn228xfOK-92"
      },
      "source": [
        "**สรุปทางสถิติ**"
      ]
    },
    {
      "cell_type": "code",
      "metadata": {
        "id": "H1czqgJfHr7-",
        "colab": {
          "base_uri": "https://localhost:8080/",
          "height": 308
        },
        "outputId": "049a3633-c9a7-461f-9ddc-65819e74a918"
      },
      "source": [
        "df.describe()"
      ],
      "execution_count": null,
      "outputs": [
        {
          "output_type": "execute_result",
          "data": {
            "text/html": [
              "<div>\n",
              "<style scoped>\n",
              "    .dataframe tbody tr th:only-of-type {\n",
              "        vertical-align: middle;\n",
              "    }\n",
              "\n",
              "    .dataframe tbody tr th {\n",
              "        vertical-align: top;\n",
              "    }\n",
              "\n",
              "    .dataframe thead th {\n",
              "        text-align: right;\n",
              "    }\n",
              "</style>\n",
              "<table border=\"1\" class=\"dataframe\">\n",
              "  <thead>\n",
              "    <tr style=\"text-align: right;\">\n",
              "      <th></th>\n",
              "      <th>longitude</th>\n",
              "      <th>latitude</th>\n",
              "      <th>housing_median_age</th>\n",
              "      <th>total_rooms</th>\n",
              "      <th>total_bedrooms</th>\n",
              "      <th>population</th>\n",
              "      <th>households</th>\n",
              "      <th>median_income</th>\n",
              "      <th>median_house_value</th>\n",
              "    </tr>\n",
              "  </thead>\n",
              "  <tbody>\n",
              "    <tr>\n",
              "      <th>count</th>\n",
              "      <td>17000.000000</td>\n",
              "      <td>17000.000000</td>\n",
              "      <td>17000.000000</td>\n",
              "      <td>17000.000000</td>\n",
              "      <td>17000.000000</td>\n",
              "      <td>17000.000000</td>\n",
              "      <td>17000.000000</td>\n",
              "      <td>17000.000000</td>\n",
              "      <td>17000.000000</td>\n",
              "    </tr>\n",
              "    <tr>\n",
              "      <th>mean</th>\n",
              "      <td>-119.562108</td>\n",
              "      <td>35.625225</td>\n",
              "      <td>28.589353</td>\n",
              "      <td>2643.664412</td>\n",
              "      <td>539.410824</td>\n",
              "      <td>1429.573941</td>\n",
              "      <td>501.221941</td>\n",
              "      <td>3.883578</td>\n",
              "      <td>207300.912353</td>\n",
              "    </tr>\n",
              "    <tr>\n",
              "      <th>std</th>\n",
              "      <td>2.005166</td>\n",
              "      <td>2.137340</td>\n",
              "      <td>12.586937</td>\n",
              "      <td>2179.947071</td>\n",
              "      <td>421.499452</td>\n",
              "      <td>1147.852959</td>\n",
              "      <td>384.520841</td>\n",
              "      <td>1.908157</td>\n",
              "      <td>115983.764387</td>\n",
              "    </tr>\n",
              "    <tr>\n",
              "      <th>min</th>\n",
              "      <td>-124.350000</td>\n",
              "      <td>32.540000</td>\n",
              "      <td>1.000000</td>\n",
              "      <td>2.000000</td>\n",
              "      <td>1.000000</td>\n",
              "      <td>3.000000</td>\n",
              "      <td>1.000000</td>\n",
              "      <td>0.499900</td>\n",
              "      <td>14999.000000</td>\n",
              "    </tr>\n",
              "    <tr>\n",
              "      <th>25%</th>\n",
              "      <td>-121.790000</td>\n",
              "      <td>33.930000</td>\n",
              "      <td>18.000000</td>\n",
              "      <td>1462.000000</td>\n",
              "      <td>297.000000</td>\n",
              "      <td>790.000000</td>\n",
              "      <td>282.000000</td>\n",
              "      <td>2.566375</td>\n",
              "      <td>119400.000000</td>\n",
              "    </tr>\n",
              "    <tr>\n",
              "      <th>50%</th>\n",
              "      <td>-118.490000</td>\n",
              "      <td>34.250000</td>\n",
              "      <td>29.000000</td>\n",
              "      <td>2127.000000</td>\n",
              "      <td>434.000000</td>\n",
              "      <td>1167.000000</td>\n",
              "      <td>409.000000</td>\n",
              "      <td>3.544600</td>\n",
              "      <td>180400.000000</td>\n",
              "    </tr>\n",
              "    <tr>\n",
              "      <th>75%</th>\n",
              "      <td>-118.000000</td>\n",
              "      <td>37.720000</td>\n",
              "      <td>37.000000</td>\n",
              "      <td>3151.250000</td>\n",
              "      <td>648.250000</td>\n",
              "      <td>1721.000000</td>\n",
              "      <td>605.250000</td>\n",
              "      <td>4.767000</td>\n",
              "      <td>265000.000000</td>\n",
              "    </tr>\n",
              "    <tr>\n",
              "      <th>max</th>\n",
              "      <td>-114.310000</td>\n",
              "      <td>41.950000</td>\n",
              "      <td>52.000000</td>\n",
              "      <td>37937.000000</td>\n",
              "      <td>6445.000000</td>\n",
              "      <td>35682.000000</td>\n",
              "      <td>6082.000000</td>\n",
              "      <td>15.000100</td>\n",
              "      <td>500001.000000</td>\n",
              "    </tr>\n",
              "  </tbody>\n",
              "</table>\n",
              "</div>"
            ],
            "text/plain": [
              "          longitude      latitude  ...  median_income  median_house_value\n",
              "count  17000.000000  17000.000000  ...   17000.000000        17000.000000\n",
              "mean    -119.562108     35.625225  ...       3.883578       207300.912353\n",
              "std        2.005166      2.137340  ...       1.908157       115983.764387\n",
              "min     -124.350000     32.540000  ...       0.499900        14999.000000\n",
              "25%     -121.790000     33.930000  ...       2.566375       119400.000000\n",
              "50%     -118.490000     34.250000  ...       3.544600       180400.000000\n",
              "75%     -118.000000     37.720000  ...       4.767000       265000.000000\n",
              "max     -114.310000     41.950000  ...      15.000100       500001.000000\n",
              "\n",
              "[8 rows x 9 columns]"
            ]
          },
          "metadata": {
            "tags": []
          },
          "execution_count": 23
        }
      ]
    },
    {
      "cell_type": "markdown",
      "metadata": {
        "id": "qDFGHYkTwhC0"
      },
      "source": [
        "**เรียกใช้เมธอดภายใน**"
      ]
    },
    {
      "cell_type": "code",
      "metadata": {
        "id": "5VzwErfhwaMR",
        "colab": {
          "base_uri": "https://localhost:8080/",
          "height": 238
        },
        "outputId": "976bcde6-9ff7-4efc-cf78-a1018307dd08"
      },
      "source": [
        "df.min()"
      ],
      "execution_count": null,
      "outputs": [
        {
          "output_type": "execute_result",
          "data": {
            "text/plain": [
              "วันที่             05/05/20\n",
              "ราคาเปิด              33.25\n",
              "ราคาสูงสุด            33.75\n",
              "ราคาต่ำสุด             32.5\n",
              "ราคาเฉลี่ย            33.02\n",
              "ราคาปิด               33.25\n",
              "เปลี่ยนแปลง           -0.75\n",
              "%เปลี่ยนแปลง          -2.21\n",
              "ปริมาณ(พันหุ้น)     45715.9\n",
              "มูลค่า(ล้านบาท)     1614.52\n",
              "SETIndex            1257.98\n",
              "%เปลี่ยนแปลง.1        -1.77\n",
              "dtype: object"
            ]
          },
          "metadata": {
            "tags": []
          },
          "execution_count": 25
        }
      ]
    },
    {
      "cell_type": "code",
      "metadata": {
        "id": "P7LLvGrWwjwD",
        "colab": {
          "base_uri": "https://localhost:8080/",
          "height": 439
        },
        "outputId": "645c8cbc-fd5a-4368-d984-e669bb69754b"
      },
      "source": [
        "df.abs()"
      ],
      "execution_count": null,
      "outputs": [
        {
          "output_type": "execute_result",
          "data": {
            "text/html": [
              "<div>\n",
              "<style scoped>\n",
              "    .dataframe tbody tr th:only-of-type {\n",
              "        vertical-align: middle;\n",
              "    }\n",
              "\n",
              "    .dataframe tbody tr th {\n",
              "        vertical-align: top;\n",
              "    }\n",
              "\n",
              "    .dataframe thead th {\n",
              "        text-align: right;\n",
              "    }\n",
              "</style>\n",
              "<table border=\"1\" class=\"dataframe\">\n",
              "  <thead>\n",
              "    <tr style=\"text-align: right;\">\n",
              "      <th></th>\n",
              "      <th>longitude</th>\n",
              "      <th>latitude</th>\n",
              "      <th>housing_median_age</th>\n",
              "      <th>total_rooms</th>\n",
              "      <th>total_bedrooms</th>\n",
              "      <th>population</th>\n",
              "      <th>households</th>\n",
              "      <th>median_income</th>\n",
              "      <th>median_house_value</th>\n",
              "    </tr>\n",
              "  </thead>\n",
              "  <tbody>\n",
              "    <tr>\n",
              "      <th>0</th>\n",
              "      <td>114.31</td>\n",
              "      <td>34.19</td>\n",
              "      <td>15.0</td>\n",
              "      <td>5612.0</td>\n",
              "      <td>1283.0</td>\n",
              "      <td>1015.0</td>\n",
              "      <td>472.0</td>\n",
              "      <td>1.4936</td>\n",
              "      <td>66900.0</td>\n",
              "    </tr>\n",
              "    <tr>\n",
              "      <th>1</th>\n",
              "      <td>114.47</td>\n",
              "      <td>34.40</td>\n",
              "      <td>19.0</td>\n",
              "      <td>7650.0</td>\n",
              "      <td>1901.0</td>\n",
              "      <td>1129.0</td>\n",
              "      <td>463.0</td>\n",
              "      <td>1.8200</td>\n",
              "      <td>80100.0</td>\n",
              "    </tr>\n",
              "    <tr>\n",
              "      <th>2</th>\n",
              "      <td>114.56</td>\n",
              "      <td>33.69</td>\n",
              "      <td>17.0</td>\n",
              "      <td>720.0</td>\n",
              "      <td>174.0</td>\n",
              "      <td>333.0</td>\n",
              "      <td>117.0</td>\n",
              "      <td>1.6509</td>\n",
              "      <td>85700.0</td>\n",
              "    </tr>\n",
              "    <tr>\n",
              "      <th>3</th>\n",
              "      <td>114.57</td>\n",
              "      <td>33.64</td>\n",
              "      <td>14.0</td>\n",
              "      <td>1501.0</td>\n",
              "      <td>337.0</td>\n",
              "      <td>515.0</td>\n",
              "      <td>226.0</td>\n",
              "      <td>3.1917</td>\n",
              "      <td>73400.0</td>\n",
              "    </tr>\n",
              "    <tr>\n",
              "      <th>4</th>\n",
              "      <td>114.57</td>\n",
              "      <td>33.57</td>\n",
              "      <td>20.0</td>\n",
              "      <td>1454.0</td>\n",
              "      <td>326.0</td>\n",
              "      <td>624.0</td>\n",
              "      <td>262.0</td>\n",
              "      <td>1.9250</td>\n",
              "      <td>65500.0</td>\n",
              "    </tr>\n",
              "    <tr>\n",
              "      <th>...</th>\n",
              "      <td>...</td>\n",
              "      <td>...</td>\n",
              "      <td>...</td>\n",
              "      <td>...</td>\n",
              "      <td>...</td>\n",
              "      <td>...</td>\n",
              "      <td>...</td>\n",
              "      <td>...</td>\n",
              "      <td>...</td>\n",
              "    </tr>\n",
              "    <tr>\n",
              "      <th>16995</th>\n",
              "      <td>124.26</td>\n",
              "      <td>40.58</td>\n",
              "      <td>52.0</td>\n",
              "      <td>2217.0</td>\n",
              "      <td>394.0</td>\n",
              "      <td>907.0</td>\n",
              "      <td>369.0</td>\n",
              "      <td>2.3571</td>\n",
              "      <td>111400.0</td>\n",
              "    </tr>\n",
              "    <tr>\n",
              "      <th>16996</th>\n",
              "      <td>124.27</td>\n",
              "      <td>40.69</td>\n",
              "      <td>36.0</td>\n",
              "      <td>2349.0</td>\n",
              "      <td>528.0</td>\n",
              "      <td>1194.0</td>\n",
              "      <td>465.0</td>\n",
              "      <td>2.5179</td>\n",
              "      <td>79000.0</td>\n",
              "    </tr>\n",
              "    <tr>\n",
              "      <th>16997</th>\n",
              "      <td>124.30</td>\n",
              "      <td>41.84</td>\n",
              "      <td>17.0</td>\n",
              "      <td>2677.0</td>\n",
              "      <td>531.0</td>\n",
              "      <td>1244.0</td>\n",
              "      <td>456.0</td>\n",
              "      <td>3.0313</td>\n",
              "      <td>103600.0</td>\n",
              "    </tr>\n",
              "    <tr>\n",
              "      <th>16998</th>\n",
              "      <td>124.30</td>\n",
              "      <td>41.80</td>\n",
              "      <td>19.0</td>\n",
              "      <td>2672.0</td>\n",
              "      <td>552.0</td>\n",
              "      <td>1298.0</td>\n",
              "      <td>478.0</td>\n",
              "      <td>1.9797</td>\n",
              "      <td>85800.0</td>\n",
              "    </tr>\n",
              "    <tr>\n",
              "      <th>16999</th>\n",
              "      <td>124.35</td>\n",
              "      <td>40.54</td>\n",
              "      <td>52.0</td>\n",
              "      <td>1820.0</td>\n",
              "      <td>300.0</td>\n",
              "      <td>806.0</td>\n",
              "      <td>270.0</td>\n",
              "      <td>3.0147</td>\n",
              "      <td>94600.0</td>\n",
              "    </tr>\n",
              "  </tbody>\n",
              "</table>\n",
              "<p>17000 rows × 9 columns</p>\n",
              "</div>"
            ],
            "text/plain": [
              "       longitude  latitude  ...  median_income  median_house_value\n",
              "0         114.31     34.19  ...         1.4936             66900.0\n",
              "1         114.47     34.40  ...         1.8200             80100.0\n",
              "2         114.56     33.69  ...         1.6509             85700.0\n",
              "3         114.57     33.64  ...         3.1917             73400.0\n",
              "4         114.57     33.57  ...         1.9250             65500.0\n",
              "...          ...       ...  ...            ...                 ...\n",
              "16995     124.26     40.58  ...         2.3571            111400.0\n",
              "16996     124.27     40.69  ...         2.5179             79000.0\n",
              "16997     124.30     41.84  ...         3.0313            103600.0\n",
              "16998     124.30     41.80  ...         1.9797             85800.0\n",
              "16999     124.35     40.54  ...         3.0147             94600.0\n",
              "\n",
              "[17000 rows x 9 columns]"
            ]
          },
          "metadata": {
            "tags": []
          },
          "execution_count": 29
        }
      ]
    },
    {
      "cell_type": "markdown",
      "metadata": {
        "id": "FSX0mt55zzog"
      },
      "source": [
        "**ฮิสโตแกรม**"
      ]
    },
    {
      "cell_type": "code",
      "metadata": {
        "id": "kbl9evRyHCjW",
        "colab": {
          "base_uri": "https://localhost:8080/",
          "height": 317
        },
        "outputId": "5f573d26-d137-465f-af63-b57d62991cb4"
      },
      "source": [
        "df.hist('housing_median_age')"
      ],
      "execution_count": null,
      "outputs": [
        {
          "output_type": "execute_result",
          "data": {
            "text/plain": [
              "array([[<matplotlib.axes._subplots.AxesSubplot object at 0x7f307eba8ef0>]],\n",
              "      dtype=object)"
            ]
          },
          "metadata": {
            "tags": []
          },
          "execution_count": 6
        },
        {
          "output_type": "display_data",
          "data": {
            "image/png": "[encoded data removed]",
            "text/plain": [
              "<Figure size 432x288 with 1 Axes>"
            ]
          },
          "metadata": {
            "tags": [],
            "needs_background": "light"
          }
        }
      ]
    },
    {
      "cell_type": "markdown",
      "metadata": {
        "id": "Hf1G-RaMU_oi"
      },
      "source": [
        "# ดูรายชื่อ index , column, values"
      ]
    },
    {
      "cell_type": "markdown",
      "metadata": {
        "id": "6X2dLonL0hrV"
      },
      "source": [
        "**อินเดกซ์**"
      ]
    },
    {
      "cell_type": "code",
      "metadata": {
        "id": "_fPiWYlOVGOj",
        "colab": {
          "base_uri": "https://localhost:8080/",
          "height": 35
        },
        "outputId": "183ddaf7-42c4-482d-b8d1-6acb549007e2"
      },
      "source": [
        "df.index"
      ],
      "execution_count": null,
      "outputs": [
        {
          "output_type": "execute_result",
          "data": {
            "text/plain": [
              "RangeIndex(start=0, stop=17000, step=1)"
            ]
          },
          "metadata": {
            "tags": []
          },
          "execution_count": 14
        }
      ]
    },
    {
      "cell_type": "code",
      "metadata": {
        "id": "hr--roobVN1d",
        "colab": {
          "base_uri": "https://localhost:8080/",
          "height": 35
        },
        "outputId": "a52c9feb-c9f6-4a48-b28d-556ab838c500"
      },
      "source": [
        " df.index.values # numpy.ndarray"
      ],
      "execution_count": null,
      "outputs": [
        {
          "output_type": "execute_result",
          "data": {
            "text/plain": [
              "array([    0,     1,     2, ..., 16997, 16998, 16999])"
            ]
          },
          "metadata": {
            "tags": []
          },
          "execution_count": 11
        }
      ]
    },
    {
      "cell_type": "markdown",
      "metadata": {
        "id": "2CbT_iRR0oN2"
      },
      "source": [
        "**คอลัมน์**"
      ]
    },
    {
      "cell_type": "code",
      "metadata": {
        "id": "G_6wA0hRVIW-",
        "colab": {
          "base_uri": "https://localhost:8080/",
          "height": 90
        },
        "outputId": "3fe37cad-9e44-4597-f3be-29cef95ee25a"
      },
      "source": [
        "df.columns"
      ],
      "execution_count": null,
      "outputs": [
        {
          "output_type": "execute_result",
          "data": {
            "text/plain": [
              "Index(['longitude', 'latitude', 'housing_median_age', 'total_rooms',\n",
              "       'total_bedrooms', 'population', 'households', 'median_income',\n",
              "       'median_house_value'],\n",
              "      dtype='object')"
            ]
          },
          "metadata": {
            "tags": []
          },
          "execution_count": 13
        }
      ]
    },
    {
      "cell_type": "code",
      "metadata": {
        "id": "A_fRDnfX0uK5",
        "colab": {
          "base_uri": "https://localhost:8080/",
          "height": 72
        },
        "outputId": "08ce3528-3918-4d42-a65e-8f9aabe063a3"
      },
      "source": [
        "df.columns.values # numpy.ndarray"
      ],
      "execution_count": null,
      "outputs": [
        {
          "output_type": "execute_result",
          "data": {
            "text/plain": [
              "array(['longitude', 'latitude', 'housing_median_age', 'total_rooms',\n",
              "       'total_bedrooms', 'population', 'households', 'median_income',\n",
              "       'median_house_value'], dtype=object)"
            ]
          },
          "metadata": {
            "tags": []
          },
          "execution_count": 24
        }
      ]
    },
    {
      "cell_type": "markdown",
      "metadata": {
        "id": "NghHjuQ402Ow"
      },
      "source": [
        "**ข้อมูลทั้งหมดใน dataframe**"
      ]
    },
    {
      "cell_type": "code",
      "metadata": {
        "id": "99LdSX9ZVede",
        "colab": {
          "base_uri": "https://localhost:8080/",
          "height": 254
        },
        "outputId": "346947da-d9dd-4497-eee3-5a24a821c68a"
      },
      "source": [
        "df.values # numpy.ndarray"
      ],
      "execution_count": null,
      "outputs": [
        {
          "output_type": "execute_result",
          "data": {
            "text/plain": [
              "array([[-1.1431e+02,  3.4190e+01,  1.5000e+01, ...,  4.7200e+02,\n",
              "         1.4936e+00,  6.6900e+04],\n",
              "       [-1.1447e+02,  3.4400e+01,  1.9000e+01, ...,  4.6300e+02,\n",
              "         1.8200e+00,  8.0100e+04],\n",
              "       [-1.1456e+02,  3.3690e+01,  1.7000e+01, ...,  1.1700e+02,\n",
              "         1.6509e+00,  8.5700e+04],\n",
              "       ...,\n",
              "       [-1.2430e+02,  4.1840e+01,  1.7000e+01, ...,  4.5600e+02,\n",
              "         3.0313e+00,  1.0360e+05],\n",
              "       [-1.2430e+02,  4.1800e+01,  1.9000e+01, ...,  4.7800e+02,\n",
              "         1.9797e+00,  8.5800e+04],\n",
              "       [-1.2435e+02,  4.0540e+01,  5.2000e+01, ...,  2.7000e+02,\n",
              "         3.0147e+00,  9.4600e+04]])"
            ]
          },
          "metadata": {
            "tags": []
          },
          "execution_count": 25
        }
      ]
    },
    {
      "cell_type": "markdown",
      "metadata": {
        "id": "1lMXadwqzssc"
      },
      "source": [
        "**ดูขนาด data frame**"
      ]
    },
    {
      "cell_type": "code",
      "metadata": {
        "id": "ZFJfvlItVh8L",
        "colab": {
          "base_uri": "https://localhost:8080/",
          "height": 35
        },
        "outputId": "7b18740f-3cf1-4a74-aa78-42943025236d"
      },
      "source": [
        "df.shape"
      ],
      "execution_count": null,
      "outputs": [
        {
          "output_type": "execute_result",
          "data": {
            "text/plain": [
              "(17000, 9)"
            ]
          },
          "metadata": {
            "tags": []
          },
          "execution_count": 26
        }
      ]
    },
    {
      "cell_type": "markdown",
      "metadata": {
        "id": "SlQCyxLJLHID"
      },
      "source": [
        "# เข้าถึงคอลัมน์"
      ]
    },
    {
      "cell_type": "code",
      "metadata": {
        "id": "1ggC_96LHMlM",
        "colab": {
          "base_uri": "https://localhost:8080/",
          "height": 235
        },
        "outputId": "47878df8-265d-4ad0-a3d0-1234ed732782"
      },
      "source": [
        "df['housing_median_age'] # ได้ series ไม่ใช่ dataframe"
      ],
      "execution_count": null,
      "outputs": [
        {
          "output_type": "execute_result",
          "data": {
            "text/plain": [
              "0        15.0\n",
              "1        19.0\n",
              "2        17.0\n",
              "3        14.0\n",
              "4        20.0\n",
              "         ... \n",
              "16995    52.0\n",
              "16996    36.0\n",
              "16997    17.0\n",
              "16998    19.0\n",
              "16999    52.0\n",
              "Name: housing_median_age, Length: 17000, dtype: float64"
            ]
          },
          "metadata": {
            "tags": []
          },
          "execution_count": 71
        }
      ]
    },
    {
      "cell_type": "markdown",
      "metadata": {
        "id": "mgw40PNEynUk"
      },
      "source": [
        "**ถ้าชื่อคอลัมน์เป็นสตริงที่ไม่มีช่องว่าง สามารถใช้จุดแทน [ ] ก็ได้**"
      ]
    },
    {
      "cell_type": "code",
      "metadata": {
        "id": "SzTz4Rc4Ihnp",
        "colab": {
          "base_uri": "https://localhost:8080/",
          "height": 235
        },
        "outputId": "299dbb49-ac3a-4f62-ba46-639bbb8056b1"
      },
      "source": [
        "df.housing_median_age # ได้ series ไม่ใช่ dataframe"
      ],
      "execution_count": null,
      "outputs": [
        {
          "output_type": "execute_result",
          "data": {
            "text/plain": [
              "0        15.0\n",
              "1        19.0\n",
              "2        17.0\n",
              "3        14.0\n",
              "4        20.0\n",
              "         ... \n",
              "16995    52.0\n",
              "16996    36.0\n",
              "16997    17.0\n",
              "16998    19.0\n",
              "16999    52.0\n",
              "Name: housing_median_age, Length: 17000, dtype: float64"
            ]
          },
          "metadata": {
            "tags": []
          },
          "execution_count": 72
        }
      ]
    },
    {
      "cell_type": "markdown",
      "metadata": {
        "id": "m-ixO-7L3ebT"
      },
      "source": [
        "ถ้าเข้าถึงคอลัมน์เดียวจะได้ชนิดข้อมูล Series แต่ถ้าอยากได้เป็น Dataframe ต้องเขียนแบบนี้ มี [ [ , ,    ] ]"
      ]
    },
    {
      "cell_type": "code",
      "metadata": {
        "id": "-EqeEVkG3lfN",
        "colab": {
          "base_uri": "https://localhost:8080/",
          "height": 407
        },
        "outputId": "e9b9425b-f8d5-4208-9f28-6d24f2fd88f7"
      },
      "source": [
        "df[['housing_median_age']]"
      ],
      "execution_count": null,
      "outputs": [
        {
          "output_type": "execute_result",
          "data": {
            "text/html": [
              "<div>\n",
              "<style scoped>\n",
              "    .dataframe tbody tr th:only-of-type {\n",
              "        vertical-align: middle;\n",
              "    }\n",
              "\n",
              "    .dataframe tbody tr th {\n",
              "        vertical-align: top;\n",
              "    }\n",
              "\n",
              "    .dataframe thead th {\n",
              "        text-align: right;\n",
              "    }\n",
              "</style>\n",
              "<table border=\"1\" class=\"dataframe\">\n",
              "  <thead>\n",
              "    <tr style=\"text-align: right;\">\n",
              "      <th></th>\n",
              "      <th>housing_median_age</th>\n",
              "    </tr>\n",
              "  </thead>\n",
              "  <tbody>\n",
              "    <tr>\n",
              "      <th>0</th>\n",
              "      <td>15.0</td>\n",
              "    </tr>\n",
              "    <tr>\n",
              "      <th>1</th>\n",
              "      <td>19.0</td>\n",
              "    </tr>\n",
              "    <tr>\n",
              "      <th>2</th>\n",
              "      <td>17.0</td>\n",
              "    </tr>\n",
              "    <tr>\n",
              "      <th>3</th>\n",
              "      <td>14.0</td>\n",
              "    </tr>\n",
              "    <tr>\n",
              "      <th>4</th>\n",
              "      <td>20.0</td>\n",
              "    </tr>\n",
              "    <tr>\n",
              "      <th>...</th>\n",
              "      <td>...</td>\n",
              "    </tr>\n",
              "    <tr>\n",
              "      <th>16995</th>\n",
              "      <td>52.0</td>\n",
              "    </tr>\n",
              "    <tr>\n",
              "      <th>16996</th>\n",
              "      <td>36.0</td>\n",
              "    </tr>\n",
              "    <tr>\n",
              "      <th>16997</th>\n",
              "      <td>17.0</td>\n",
              "    </tr>\n",
              "    <tr>\n",
              "      <th>16998</th>\n",
              "      <td>19.0</td>\n",
              "    </tr>\n",
              "    <tr>\n",
              "      <th>16999</th>\n",
              "      <td>52.0</td>\n",
              "    </tr>\n",
              "  </tbody>\n",
              "</table>\n",
              "<p>17000 rows × 1 columns</p>\n",
              "</div>"
            ],
            "text/plain": [
              "       housing_median_age\n",
              "0                    15.0\n",
              "1                    19.0\n",
              "2                    17.0\n",
              "3                    14.0\n",
              "4                    20.0\n",
              "...                   ...\n",
              "16995                52.0\n",
              "16996                36.0\n",
              "16997                17.0\n",
              "16998                19.0\n",
              "16999                52.0\n",
              "\n",
              "[17000 rows x 1 columns]"
            ]
          },
          "metadata": {
            "tags": []
          },
          "execution_count": 73
        }
      ]
    },
    {
      "cell_type": "markdown",
      "metadata": {
        "id": "2E5i8D384BQj"
      },
      "source": [
        "**ระบุหัวคอลัมน์หลายๆ อัน**"
      ]
    },
    {
      "cell_type": "code",
      "metadata": {
        "id": "PEUFtdPL4ARV",
        "colab": {
          "base_uri": "https://localhost:8080/",
          "height": 407
        },
        "outputId": "9400a44b-8279-47f8-dde8-001df08d17aa"
      },
      "source": [
        "df[['total_rooms', 'total_bedrooms',\t'population']] # ได้เป็น Dataframe\n",
        "# df['total_rooms', 'total_bedrooms',\t'population'] เรียกแบบนี้ไม่ได้"
      ],
      "execution_count": null,
      "outputs": [
        {
          "output_type": "execute_result",
          "data": {
            "text/html": [
              "<div>\n",
              "<style scoped>\n",
              "    .dataframe tbody tr th:only-of-type {\n",
              "        vertical-align: middle;\n",
              "    }\n",
              "\n",
              "    .dataframe tbody tr th {\n",
              "        vertical-align: top;\n",
              "    }\n",
              "\n",
              "    .dataframe thead th {\n",
              "        text-align: right;\n",
              "    }\n",
              "</style>\n",
              "<table border=\"1\" class=\"dataframe\">\n",
              "  <thead>\n",
              "    <tr style=\"text-align: right;\">\n",
              "      <th></th>\n",
              "      <th>total_rooms</th>\n",
              "      <th>total_bedrooms</th>\n",
              "      <th>population</th>\n",
              "    </tr>\n",
              "  </thead>\n",
              "  <tbody>\n",
              "    <tr>\n",
              "      <th>0</th>\n",
              "      <td>5612.0</td>\n",
              "      <td>1283.0</td>\n",
              "      <td>1015.0</td>\n",
              "    </tr>\n",
              "    <tr>\n",
              "      <th>1</th>\n",
              "      <td>7650.0</td>\n",
              "      <td>1901.0</td>\n",
              "      <td>1129.0</td>\n",
              "    </tr>\n",
              "    <tr>\n",
              "      <th>2</th>\n",
              "      <td>720.0</td>\n",
              "      <td>174.0</td>\n",
              "      <td>333.0</td>\n",
              "    </tr>\n",
              "    <tr>\n",
              "      <th>3</th>\n",
              "      <td>1501.0</td>\n",
              "      <td>337.0</td>\n",
              "      <td>515.0</td>\n",
              "    </tr>\n",
              "    <tr>\n",
              "      <th>4</th>\n",
              "      <td>1454.0</td>\n",
              "      <td>326.0</td>\n",
              "      <td>624.0</td>\n",
              "    </tr>\n",
              "    <tr>\n",
              "      <th>...</th>\n",
              "      <td>...</td>\n",
              "      <td>...</td>\n",
              "      <td>...</td>\n",
              "    </tr>\n",
              "    <tr>\n",
              "      <th>16995</th>\n",
              "      <td>2217.0</td>\n",
              "      <td>394.0</td>\n",
              "      <td>907.0</td>\n",
              "    </tr>\n",
              "    <tr>\n",
              "      <th>16996</th>\n",
              "      <td>2349.0</td>\n",
              "      <td>528.0</td>\n",
              "      <td>1194.0</td>\n",
              "    </tr>\n",
              "    <tr>\n",
              "      <th>16997</th>\n",
              "      <td>2677.0</td>\n",
              "      <td>531.0</td>\n",
              "      <td>1244.0</td>\n",
              "    </tr>\n",
              "    <tr>\n",
              "      <th>16998</th>\n",
              "      <td>2672.0</td>\n",
              "      <td>552.0</td>\n",
              "      <td>1298.0</td>\n",
              "    </tr>\n",
              "    <tr>\n",
              "      <th>16999</th>\n",
              "      <td>1820.0</td>\n",
              "      <td>300.0</td>\n",
              "      <td>806.0</td>\n",
              "    </tr>\n",
              "  </tbody>\n",
              "</table>\n",
              "<p>17000 rows × 3 columns</p>\n",
              "</div>"
            ],
            "text/plain": [
              "       total_rooms  total_bedrooms  population\n",
              "0           5612.0          1283.0      1015.0\n",
              "1           7650.0          1901.0      1129.0\n",
              "2            720.0           174.0       333.0\n",
              "3           1501.0           337.0       515.0\n",
              "4           1454.0           326.0       624.0\n",
              "...            ...             ...         ...\n",
              "16995       2217.0           394.0       907.0\n",
              "16996       2349.0           528.0      1194.0\n",
              "16997       2677.0           531.0      1244.0\n",
              "16998       2672.0           552.0      1298.0\n",
              "16999       1820.0           300.0       806.0\n",
              "\n",
              "[17000 rows x 3 columns]"
            ]
          },
          "metadata": {
            "tags": []
          },
          "execution_count": 74
        }
      ]
    },
    {
      "cell_type": "markdown",
      "metadata": {
        "id": "GtQYrdrZy_B_"
      },
      "source": [
        "# Slice"
      ]
    },
    {
      "cell_type": "markdown",
      "metadata": {
        "id": "M5Z55dxUzCae"
      },
      "source": [
        "**เลือกแถว**"
      ]
    },
    {
      "cell_type": "code",
      "metadata": {
        "id": "f_YQY77EI6Al",
        "colab": {
          "base_uri": "https://localhost:8080/",
          "height": 218
        },
        "outputId": "fbe832e4-a320-457a-e244-a6b7d14061a5"
      },
      "source": [
        "df[7:12] # ตั้งแต่แถวที่ 7 แต่ไม่ถึง 12"
      ],
      "execution_count": null,
      "outputs": [
        {
          "output_type": "execute_result",
          "data": {
            "text/html": [
              "<div>\n",
              "<style scoped>\n",
              "    .dataframe tbody tr th:only-of-type {\n",
              "        vertical-align: middle;\n",
              "    }\n",
              "\n",
              "    .dataframe tbody tr th {\n",
              "        vertical-align: top;\n",
              "    }\n",
              "\n",
              "    .dataframe thead th {\n",
              "        text-align: right;\n",
              "    }\n",
              "</style>\n",
              "<table border=\"1\" class=\"dataframe\">\n",
              "  <thead>\n",
              "    <tr style=\"text-align: right;\">\n",
              "      <th></th>\n",
              "      <th>longitude</th>\n",
              "      <th>latitude</th>\n",
              "      <th>housing_median_age</th>\n",
              "      <th>total_rooms</th>\n",
              "      <th>total_bedrooms</th>\n",
              "      <th>population</th>\n",
              "      <th>households</th>\n",
              "      <th>median_income</th>\n",
              "      <th>median_house_value</th>\n",
              "    </tr>\n",
              "  </thead>\n",
              "  <tbody>\n",
              "    <tr>\n",
              "      <th>7</th>\n",
              "      <td>-114.59</td>\n",
              "      <td>34.83</td>\n",
              "      <td>41.0</td>\n",
              "      <td>812.0</td>\n",
              "      <td>168.0</td>\n",
              "      <td>375.0</td>\n",
              "      <td>158.0</td>\n",
              "      <td>1.7083</td>\n",
              "      <td>48500.0</td>\n",
              "    </tr>\n",
              "    <tr>\n",
              "      <th>8</th>\n",
              "      <td>-114.59</td>\n",
              "      <td>33.61</td>\n",
              "      <td>34.0</td>\n",
              "      <td>4789.0</td>\n",
              "      <td>1175.0</td>\n",
              "      <td>3134.0</td>\n",
              "      <td>1056.0</td>\n",
              "      <td>2.1782</td>\n",
              "      <td>58400.0</td>\n",
              "    </tr>\n",
              "    <tr>\n",
              "      <th>9</th>\n",
              "      <td>-114.60</td>\n",
              "      <td>34.83</td>\n",
              "      <td>46.0</td>\n",
              "      <td>1497.0</td>\n",
              "      <td>309.0</td>\n",
              "      <td>787.0</td>\n",
              "      <td>271.0</td>\n",
              "      <td>2.1908</td>\n",
              "      <td>48100.0</td>\n",
              "    </tr>\n",
              "    <tr>\n",
              "      <th>10</th>\n",
              "      <td>-114.60</td>\n",
              "      <td>33.62</td>\n",
              "      <td>16.0</td>\n",
              "      <td>3741.0</td>\n",
              "      <td>801.0</td>\n",
              "      <td>2434.0</td>\n",
              "      <td>824.0</td>\n",
              "      <td>2.6797</td>\n",
              "      <td>86500.0</td>\n",
              "    </tr>\n",
              "    <tr>\n",
              "      <th>11</th>\n",
              "      <td>-114.60</td>\n",
              "      <td>33.60</td>\n",
              "      <td>21.0</td>\n",
              "      <td>1988.0</td>\n",
              "      <td>483.0</td>\n",
              "      <td>1182.0</td>\n",
              "      <td>437.0</td>\n",
              "      <td>1.6250</td>\n",
              "      <td>62000.0</td>\n",
              "    </tr>\n",
              "  </tbody>\n",
              "</table>\n",
              "</div>"
            ],
            "text/plain": [
              "    longitude  latitude  ...  median_income  median_house_value\n",
              "7     -114.59     34.83  ...         1.7083             48500.0\n",
              "8     -114.59     33.61  ...         2.1782             58400.0\n",
              "9     -114.60     34.83  ...         2.1908             48100.0\n",
              "10    -114.60     33.62  ...         2.6797             86500.0\n",
              "11    -114.60     33.60  ...         1.6250             62000.0\n",
              "\n",
              "[5 rows x 9 columns]"
            ]
          },
          "metadata": {
            "tags": []
          },
          "execution_count": 75
        }
      ]
    },
    {
      "cell_type": "markdown",
      "metadata": {
        "id": "viN_-fbi8Hc_"
      },
      "source": [
        "ข้อควรระวังจะลืม : ไม่ได้ แม้ว่าจะมีแค่แถวเดียวก็ตาม"
      ]
    },
    {
      "cell_type": "code",
      "metadata": {
        "id": "3ojFUotq2gSl",
        "colab": {
          "base_uri": "https://localhost:8080/",
          "height": 98
        },
        "outputId": "347f8b1c-823f-493e-faee-3fa4dc868923"
      },
      "source": [
        "df[10:11] # จะเขียน df[10] ไม่ได้ "
      ],
      "execution_count": null,
      "outputs": [
        {
          "output_type": "execute_result",
          "data": {
            "text/html": [
              "<div>\n",
              "<style scoped>\n",
              "    .dataframe tbody tr th:only-of-type {\n",
              "        vertical-align: middle;\n",
              "    }\n",
              "\n",
              "    .dataframe tbody tr th {\n",
              "        vertical-align: top;\n",
              "    }\n",
              "\n",
              "    .dataframe thead th {\n",
              "        text-align: right;\n",
              "    }\n",
              "</style>\n",
              "<table border=\"1\" class=\"dataframe\">\n",
              "  <thead>\n",
              "    <tr style=\"text-align: right;\">\n",
              "      <th></th>\n",
              "      <th>longitude</th>\n",
              "      <th>latitude</th>\n",
              "      <th>housing_median_age</th>\n",
              "      <th>total_rooms</th>\n",
              "      <th>total_bedrooms</th>\n",
              "      <th>population</th>\n",
              "      <th>households</th>\n",
              "      <th>median_income</th>\n",
              "      <th>median_house_value</th>\n",
              "    </tr>\n",
              "  </thead>\n",
              "  <tbody>\n",
              "    <tr>\n",
              "      <th>10</th>\n",
              "      <td>-114.6</td>\n",
              "      <td>33.62</td>\n",
              "      <td>16.0</td>\n",
              "      <td>3741.0</td>\n",
              "      <td>801.0</td>\n",
              "      <td>2434.0</td>\n",
              "      <td>824.0</td>\n",
              "      <td>2.6797</td>\n",
              "      <td>86500.0</td>\n",
              "    </tr>\n",
              "  </tbody>\n",
              "</table>\n",
              "</div>"
            ],
            "text/plain": [
              "    longitude  latitude  ...  median_income  median_house_value\n",
              "10     -114.6     33.62  ...         2.6797             86500.0\n",
              "\n",
              "[1 rows x 9 columns]"
            ]
          },
          "metadata": {
            "tags": []
          },
          "execution_count": 47
        }
      ]
    },
    {
      "cell_type": "code",
      "metadata": {
        "id": "xIxHH1WwJQub",
        "colab": {
          "base_uri": "https://localhost:8080/",
          "height": 128
        },
        "outputId": "f40874b0-b88f-4c71-d8e2-918752be45e2"
      },
      "source": [
        "df[16998:] # เริ่มจากอินเดกซ์ 16988 ไปจนจบ"
      ],
      "execution_count": null,
      "outputs": [
        {
          "output_type": "execute_result",
          "data": {
            "text/html": [
              "<div>\n",
              "<style scoped>\n",
              "    .dataframe tbody tr th:only-of-type {\n",
              "        vertical-align: middle;\n",
              "    }\n",
              "\n",
              "    .dataframe tbody tr th {\n",
              "        vertical-align: top;\n",
              "    }\n",
              "\n",
              "    .dataframe thead th {\n",
              "        text-align: right;\n",
              "    }\n",
              "</style>\n",
              "<table border=\"1\" class=\"dataframe\">\n",
              "  <thead>\n",
              "    <tr style=\"text-align: right;\">\n",
              "      <th></th>\n",
              "      <th>longitude</th>\n",
              "      <th>latitude</th>\n",
              "      <th>housing_median_age</th>\n",
              "      <th>total_rooms</th>\n",
              "      <th>total_bedrooms</th>\n",
              "      <th>population</th>\n",
              "      <th>households</th>\n",
              "      <th>median_income</th>\n",
              "      <th>median_house_value</th>\n",
              "    </tr>\n",
              "  </thead>\n",
              "  <tbody>\n",
              "    <tr>\n",
              "      <th>16998</th>\n",
              "      <td>-124.30</td>\n",
              "      <td>41.80</td>\n",
              "      <td>19.0</td>\n",
              "      <td>2672.0</td>\n",
              "      <td>552.0</td>\n",
              "      <td>1298.0</td>\n",
              "      <td>478.0</td>\n",
              "      <td>1.9797</td>\n",
              "      <td>85800.0</td>\n",
              "    </tr>\n",
              "    <tr>\n",
              "      <th>16999</th>\n",
              "      <td>-124.35</td>\n",
              "      <td>40.54</td>\n",
              "      <td>52.0</td>\n",
              "      <td>1820.0</td>\n",
              "      <td>300.0</td>\n",
              "      <td>806.0</td>\n",
              "      <td>270.0</td>\n",
              "      <td>3.0147</td>\n",
              "      <td>94600.0</td>\n",
              "    </tr>\n",
              "  </tbody>\n",
              "</table>\n",
              "</div>"
            ],
            "text/plain": [
              "       longitude  latitude  housing_median_age  total_rooms  total_bedrooms  \\\n",
              "16998    -124.30     41.80                19.0       2672.0           552.0   \n",
              "16999    -124.35     40.54                52.0       1820.0           300.0   \n",
              "\n",
              "       population  households  median_income  median_house_value  \n",
              "16998      1298.0       478.0         1.9797             85800.0  \n",
              "16999       806.0       270.0         3.0147             94600.0  "
            ]
          },
          "metadata": {
            "tags": []
          },
          "execution_count": 12
        }
      ]
    },
    {
      "cell_type": "code",
      "metadata": {
        "id": "F5_XFxk9JcxF",
        "colab": {
          "base_uri": "https://localhost:8080/",
          "height": 158
        },
        "outputId": "a24bec67-638d-4343-cee2-a7442952a780"
      },
      "source": [
        "df[:3] # เริ่มจากอินเดกซ์ 0 แต่ยังไมถึง 3"
      ],
      "execution_count": null,
      "outputs": [
        {
          "output_type": "execute_result",
          "data": {
            "text/html": [
              "<div>\n",
              "<style scoped>\n",
              "    .dataframe tbody tr th:only-of-type {\n",
              "        vertical-align: middle;\n",
              "    }\n",
              "\n",
              "    .dataframe tbody tr th {\n",
              "        vertical-align: top;\n",
              "    }\n",
              "\n",
              "    .dataframe thead th {\n",
              "        text-align: right;\n",
              "    }\n",
              "</style>\n",
              "<table border=\"1\" class=\"dataframe\">\n",
              "  <thead>\n",
              "    <tr style=\"text-align: right;\">\n",
              "      <th></th>\n",
              "      <th>longitude</th>\n",
              "      <th>latitude</th>\n",
              "      <th>housing_median_age</th>\n",
              "      <th>total_rooms</th>\n",
              "      <th>total_bedrooms</th>\n",
              "      <th>population</th>\n",
              "      <th>households</th>\n",
              "      <th>median_income</th>\n",
              "      <th>median_house_value</th>\n",
              "    </tr>\n",
              "  </thead>\n",
              "  <tbody>\n",
              "    <tr>\n",
              "      <th>0</th>\n",
              "      <td>-114.31</td>\n",
              "      <td>34.19</td>\n",
              "      <td>15.0</td>\n",
              "      <td>5612.0</td>\n",
              "      <td>1283.0</td>\n",
              "      <td>1015.0</td>\n",
              "      <td>472.0</td>\n",
              "      <td>1.4936</td>\n",
              "      <td>66900.0</td>\n",
              "    </tr>\n",
              "    <tr>\n",
              "      <th>1</th>\n",
              "      <td>-114.47</td>\n",
              "      <td>34.40</td>\n",
              "      <td>19.0</td>\n",
              "      <td>7650.0</td>\n",
              "      <td>1901.0</td>\n",
              "      <td>1129.0</td>\n",
              "      <td>463.0</td>\n",
              "      <td>1.8200</td>\n",
              "      <td>80100.0</td>\n",
              "    </tr>\n",
              "    <tr>\n",
              "      <th>2</th>\n",
              "      <td>-114.56</td>\n",
              "      <td>33.69</td>\n",
              "      <td>17.0</td>\n",
              "      <td>720.0</td>\n",
              "      <td>174.0</td>\n",
              "      <td>333.0</td>\n",
              "      <td>117.0</td>\n",
              "      <td>1.6509</td>\n",
              "      <td>85700.0</td>\n",
              "    </tr>\n",
              "  </tbody>\n",
              "</table>\n",
              "</div>"
            ],
            "text/plain": [
              "   longitude  latitude  ...  median_income  median_house_value\n",
              "0    -114.31     34.19  ...         1.4936             66900.0\n",
              "1    -114.47     34.40  ...         1.8200             80100.0\n",
              "2    -114.56     33.69  ...         1.6509             85700.0\n",
              "\n",
              "[3 rows x 9 columns]"
            ]
          },
          "metadata": {
            "tags": []
          },
          "execution_count": 58
        }
      ]
    },
    {
      "cell_type": "markdown",
      "metadata": {
        "id": "pl6-YFD001Mm"
      },
      "source": [
        "ใช้ index เป็นลบก็ได้"
      ]
    },
    {
      "cell_type": "code",
      "metadata": {
        "id": "9aGywm1PJBVv",
        "colab": {
          "base_uri": "https://localhost:8080/",
          "height": 158
        },
        "outputId": "99e9abd9-5dfb-4db9-ceac-54dd0db9c8f6"
      },
      "source": [
        "df[-3:]"
      ],
      "execution_count": null,
      "outputs": [
        {
          "output_type": "execute_result",
          "data": {
            "text/html": [
              "<div>\n",
              "<style scoped>\n",
              "    .dataframe tbody tr th:only-of-type {\n",
              "        vertical-align: middle;\n",
              "    }\n",
              "\n",
              "    .dataframe tbody tr th {\n",
              "        vertical-align: top;\n",
              "    }\n",
              "\n",
              "    .dataframe thead th {\n",
              "        text-align: right;\n",
              "    }\n",
              "</style>\n",
              "<table border=\"1\" class=\"dataframe\">\n",
              "  <thead>\n",
              "    <tr style=\"text-align: right;\">\n",
              "      <th></th>\n",
              "      <th>longitude</th>\n",
              "      <th>latitude</th>\n",
              "      <th>housing_median_age</th>\n",
              "      <th>total_rooms</th>\n",
              "      <th>total_bedrooms</th>\n",
              "      <th>population</th>\n",
              "      <th>households</th>\n",
              "      <th>median_income</th>\n",
              "      <th>median_house_value</th>\n",
              "    </tr>\n",
              "  </thead>\n",
              "  <tbody>\n",
              "    <tr>\n",
              "      <th>16997</th>\n",
              "      <td>-124.30</td>\n",
              "      <td>41.84</td>\n",
              "      <td>17.0</td>\n",
              "      <td>2677.0</td>\n",
              "      <td>531.0</td>\n",
              "      <td>1244.0</td>\n",
              "      <td>456.0</td>\n",
              "      <td>3.0313</td>\n",
              "      <td>103600.0</td>\n",
              "    </tr>\n",
              "    <tr>\n",
              "      <th>16998</th>\n",
              "      <td>-124.30</td>\n",
              "      <td>41.80</td>\n",
              "      <td>19.0</td>\n",
              "      <td>2672.0</td>\n",
              "      <td>552.0</td>\n",
              "      <td>1298.0</td>\n",
              "      <td>478.0</td>\n",
              "      <td>1.9797</td>\n",
              "      <td>85800.0</td>\n",
              "    </tr>\n",
              "    <tr>\n",
              "      <th>16999</th>\n",
              "      <td>-124.35</td>\n",
              "      <td>40.54</td>\n",
              "      <td>52.0</td>\n",
              "      <td>1820.0</td>\n",
              "      <td>300.0</td>\n",
              "      <td>806.0</td>\n",
              "      <td>270.0</td>\n",
              "      <td>3.0147</td>\n",
              "      <td>94600.0</td>\n",
              "    </tr>\n",
              "  </tbody>\n",
              "</table>\n",
              "</div>"
            ],
            "text/plain": [
              "       longitude  latitude  housing_median_age  total_rooms  total_bedrooms  \\\n",
              "16997    -124.30     41.84                17.0       2677.0           531.0   \n",
              "16998    -124.30     41.80                19.0       2672.0           552.0   \n",
              "16999    -124.35     40.54                52.0       1820.0           300.0   \n",
              "\n",
              "       population  households  median_income  median_house_value  \n",
              "16997      1244.0       456.0         3.0313            103600.0  \n",
              "16998      1298.0       478.0         1.9797             85800.0  \n",
              "16999       806.0       270.0         3.0147             94600.0  "
            ]
          },
          "metadata": {
            "tags": []
          },
          "execution_count": 14
        }
      ]
    },
    {
      "cell_type": "code",
      "metadata": {
        "id": "foKlUDto0fxA",
        "colab": {
          "base_uri": "https://localhost:8080/",
          "height": 128
        },
        "outputId": "ad6c8773-f627-4c7b-b0a8-6c33002abe61"
      },
      "source": [
        "df[:-16998]"
      ],
      "execution_count": null,
      "outputs": [
        {
          "output_type": "execute_result",
          "data": {
            "text/html": [
              "<div>\n",
              "<style scoped>\n",
              "    .dataframe tbody tr th:only-of-type {\n",
              "        vertical-align: middle;\n",
              "    }\n",
              "\n",
              "    .dataframe tbody tr th {\n",
              "        vertical-align: top;\n",
              "    }\n",
              "\n",
              "    .dataframe thead th {\n",
              "        text-align: right;\n",
              "    }\n",
              "</style>\n",
              "<table border=\"1\" class=\"dataframe\">\n",
              "  <thead>\n",
              "    <tr style=\"text-align: right;\">\n",
              "      <th></th>\n",
              "      <th>longitude</th>\n",
              "      <th>latitude</th>\n",
              "      <th>housing_median_age</th>\n",
              "      <th>total_rooms</th>\n",
              "      <th>total_bedrooms</th>\n",
              "      <th>population</th>\n",
              "      <th>households</th>\n",
              "      <th>median_income</th>\n",
              "      <th>median_house_value</th>\n",
              "    </tr>\n",
              "  </thead>\n",
              "  <tbody>\n",
              "    <tr>\n",
              "      <th>0</th>\n",
              "      <td>-114.31</td>\n",
              "      <td>34.19</td>\n",
              "      <td>15.0</td>\n",
              "      <td>5612.0</td>\n",
              "      <td>1283.0</td>\n",
              "      <td>1015.0</td>\n",
              "      <td>472.0</td>\n",
              "      <td>1.4936</td>\n",
              "      <td>66900.0</td>\n",
              "    </tr>\n",
              "    <tr>\n",
              "      <th>1</th>\n",
              "      <td>-114.47</td>\n",
              "      <td>34.40</td>\n",
              "      <td>19.0</td>\n",
              "      <td>7650.0</td>\n",
              "      <td>1901.0</td>\n",
              "      <td>1129.0</td>\n",
              "      <td>463.0</td>\n",
              "      <td>1.8200</td>\n",
              "      <td>80100.0</td>\n",
              "    </tr>\n",
              "  </tbody>\n",
              "</table>\n",
              "</div>"
            ],
            "text/plain": [
              "   longitude  latitude  housing_median_age  total_rooms  total_bedrooms  \\\n",
              "0    -114.31     34.19                15.0       5612.0          1283.0   \n",
              "1    -114.47     34.40                19.0       7650.0          1901.0   \n",
              "\n",
              "   population  households  median_income  median_house_value  \n",
              "0      1015.0       472.0         1.4936             66900.0  \n",
              "1      1129.0       463.0         1.8200             80100.0  "
            ]
          },
          "metadata": {
            "tags": []
          },
          "execution_count": 15
        }
      ]
    },
    {
      "cell_type": "code",
      "metadata": {
        "id": "SFIumcK30t3z",
        "colab": {
          "base_uri": "https://localhost:8080/",
          "height": 158
        },
        "outputId": "9699a121-1ca3-4dcd-cf08-3a1cda5a2383"
      },
      "source": [
        "df[-10:-7]"
      ],
      "execution_count": null,
      "outputs": [
        {
          "output_type": "execute_result",
          "data": {
            "text/html": [
              "<div>\n",
              "<style scoped>\n",
              "    .dataframe tbody tr th:only-of-type {\n",
              "        vertical-align: middle;\n",
              "    }\n",
              "\n",
              "    .dataframe tbody tr th {\n",
              "        vertical-align: top;\n",
              "    }\n",
              "\n",
              "    .dataframe thead th {\n",
              "        text-align: right;\n",
              "    }\n",
              "</style>\n",
              "<table border=\"1\" class=\"dataframe\">\n",
              "  <thead>\n",
              "    <tr style=\"text-align: right;\">\n",
              "      <th></th>\n",
              "      <th>longitude</th>\n",
              "      <th>latitude</th>\n",
              "      <th>housing_median_age</th>\n",
              "      <th>total_rooms</th>\n",
              "      <th>total_bedrooms</th>\n",
              "      <th>population</th>\n",
              "      <th>households</th>\n",
              "      <th>median_income</th>\n",
              "      <th>median_house_value</th>\n",
              "    </tr>\n",
              "  </thead>\n",
              "  <tbody>\n",
              "    <tr>\n",
              "      <th>16990</th>\n",
              "      <td>-124.22</td>\n",
              "      <td>41.73</td>\n",
              "      <td>28.0</td>\n",
              "      <td>3003.0</td>\n",
              "      <td>699.0</td>\n",
              "      <td>1530.0</td>\n",
              "      <td>653.0</td>\n",
              "      <td>1.7038</td>\n",
              "      <td>78300.0</td>\n",
              "    </tr>\n",
              "    <tr>\n",
              "      <th>16991</th>\n",
              "      <td>-124.23</td>\n",
              "      <td>41.75</td>\n",
              "      <td>11.0</td>\n",
              "      <td>3159.0</td>\n",
              "      <td>616.0</td>\n",
              "      <td>1343.0</td>\n",
              "      <td>479.0</td>\n",
              "      <td>2.4805</td>\n",
              "      <td>73200.0</td>\n",
              "    </tr>\n",
              "    <tr>\n",
              "      <th>16992</th>\n",
              "      <td>-124.23</td>\n",
              "      <td>40.81</td>\n",
              "      <td>52.0</td>\n",
              "      <td>1112.0</td>\n",
              "      <td>209.0</td>\n",
              "      <td>544.0</td>\n",
              "      <td>172.0</td>\n",
              "      <td>3.3462</td>\n",
              "      <td>50800.0</td>\n",
              "    </tr>\n",
              "  </tbody>\n",
              "</table>\n",
              "</div>"
            ],
            "text/plain": [
              "       longitude  latitude  housing_median_age  total_rooms  total_bedrooms  \\\n",
              "16990    -124.22     41.73                28.0       3003.0           699.0   \n",
              "16991    -124.23     41.75                11.0       3159.0           616.0   \n",
              "16992    -124.23     40.81                52.0       1112.0           209.0   \n",
              "\n",
              "       population  households  median_income  median_house_value  \n",
              "16990      1530.0       653.0         1.7038             78300.0  \n",
              "16991      1343.0       479.0         2.4805             73200.0  \n",
              "16992       544.0       172.0         3.3462             50800.0  "
            ]
          },
          "metadata": {
            "tags": []
          },
          "execution_count": 16
        }
      ]
    },
    {
      "cell_type": "markdown",
      "metadata": {
        "id": "zlIvAZ6K1W2K"
      },
      "source": [
        "เลือกแถวทั้งหมด"
      ]
    },
    {
      "cell_type": "code",
      "metadata": {
        "id": "IcB_hTTkJMxh",
        "colab": {
          "base_uri": "https://localhost:8080/",
          "height": 427
        },
        "outputId": "1e93346f-e608-4630-c3b9-42d7253ca2ca"
      },
      "source": [
        "df[:] # มีค่าเท่ากับ df เฉย"
      ],
      "execution_count": null,
      "outputs": [
        {
          "output_type": "execute_result",
          "data": {
            "text/html": [
              "<div>\n",
              "<style scoped>\n",
              "    .dataframe tbody tr th:only-of-type {\n",
              "        vertical-align: middle;\n",
              "    }\n",
              "\n",
              "    .dataframe tbody tr th {\n",
              "        vertical-align: top;\n",
              "    }\n",
              "\n",
              "    .dataframe thead th {\n",
              "        text-align: right;\n",
              "    }\n",
              "</style>\n",
              "<table border=\"1\" class=\"dataframe\">\n",
              "  <thead>\n",
              "    <tr style=\"text-align: right;\">\n",
              "      <th></th>\n",
              "      <th>longitude</th>\n",
              "      <th>latitude</th>\n",
              "      <th>housing_median_age</th>\n",
              "      <th>total_rooms</th>\n",
              "      <th>total_bedrooms</th>\n",
              "      <th>population</th>\n",
              "      <th>households</th>\n",
              "      <th>median_income</th>\n",
              "      <th>median_house_value</th>\n",
              "    </tr>\n",
              "  </thead>\n",
              "  <tbody>\n",
              "    <tr>\n",
              "      <th>0</th>\n",
              "      <td>-114.31</td>\n",
              "      <td>34.19</td>\n",
              "      <td>15.0</td>\n",
              "      <td>5612.0</td>\n",
              "      <td>1283.0</td>\n",
              "      <td>1015.0</td>\n",
              "      <td>472.0</td>\n",
              "      <td>1.4936</td>\n",
              "      <td>66900.0</td>\n",
              "    </tr>\n",
              "    <tr>\n",
              "      <th>1</th>\n",
              "      <td>-114.47</td>\n",
              "      <td>34.40</td>\n",
              "      <td>19.0</td>\n",
              "      <td>7650.0</td>\n",
              "      <td>1901.0</td>\n",
              "      <td>1129.0</td>\n",
              "      <td>463.0</td>\n",
              "      <td>1.8200</td>\n",
              "      <td>80100.0</td>\n",
              "    </tr>\n",
              "    <tr>\n",
              "      <th>2</th>\n",
              "      <td>-114.56</td>\n",
              "      <td>33.69</td>\n",
              "      <td>17.0</td>\n",
              "      <td>720.0</td>\n",
              "      <td>174.0</td>\n",
              "      <td>333.0</td>\n",
              "      <td>117.0</td>\n",
              "      <td>1.6509</td>\n",
              "      <td>85700.0</td>\n",
              "    </tr>\n",
              "    <tr>\n",
              "      <th>3</th>\n",
              "      <td>-114.57</td>\n",
              "      <td>33.64</td>\n",
              "      <td>14.0</td>\n",
              "      <td>1501.0</td>\n",
              "      <td>337.0</td>\n",
              "      <td>515.0</td>\n",
              "      <td>226.0</td>\n",
              "      <td>3.1917</td>\n",
              "      <td>73400.0</td>\n",
              "    </tr>\n",
              "    <tr>\n",
              "      <th>4</th>\n",
              "      <td>-114.57</td>\n",
              "      <td>33.57</td>\n",
              "      <td>20.0</td>\n",
              "      <td>1454.0</td>\n",
              "      <td>326.0</td>\n",
              "      <td>624.0</td>\n",
              "      <td>262.0</td>\n",
              "      <td>1.9250</td>\n",
              "      <td>65500.0</td>\n",
              "    </tr>\n",
              "    <tr>\n",
              "      <th>...</th>\n",
              "      <td>...</td>\n",
              "      <td>...</td>\n",
              "      <td>...</td>\n",
              "      <td>...</td>\n",
              "      <td>...</td>\n",
              "      <td>...</td>\n",
              "      <td>...</td>\n",
              "      <td>...</td>\n",
              "      <td>...</td>\n",
              "    </tr>\n",
              "    <tr>\n",
              "      <th>16995</th>\n",
              "      <td>-124.26</td>\n",
              "      <td>40.58</td>\n",
              "      <td>52.0</td>\n",
              "      <td>2217.0</td>\n",
              "      <td>394.0</td>\n",
              "      <td>907.0</td>\n",
              "      <td>369.0</td>\n",
              "      <td>2.3571</td>\n",
              "      <td>111400.0</td>\n",
              "    </tr>\n",
              "    <tr>\n",
              "      <th>16996</th>\n",
              "      <td>-124.27</td>\n",
              "      <td>40.69</td>\n",
              "      <td>36.0</td>\n",
              "      <td>2349.0</td>\n",
              "      <td>528.0</td>\n",
              "      <td>1194.0</td>\n",
              "      <td>465.0</td>\n",
              "      <td>2.5179</td>\n",
              "      <td>79000.0</td>\n",
              "    </tr>\n",
              "    <tr>\n",
              "      <th>16997</th>\n",
              "      <td>-124.30</td>\n",
              "      <td>41.84</td>\n",
              "      <td>17.0</td>\n",
              "      <td>2677.0</td>\n",
              "      <td>531.0</td>\n",
              "      <td>1244.0</td>\n",
              "      <td>456.0</td>\n",
              "      <td>3.0313</td>\n",
              "      <td>103600.0</td>\n",
              "    </tr>\n",
              "    <tr>\n",
              "      <th>16998</th>\n",
              "      <td>-124.30</td>\n",
              "      <td>41.80</td>\n",
              "      <td>19.0</td>\n",
              "      <td>2672.0</td>\n",
              "      <td>552.0</td>\n",
              "      <td>1298.0</td>\n",
              "      <td>478.0</td>\n",
              "      <td>1.9797</td>\n",
              "      <td>85800.0</td>\n",
              "    </tr>\n",
              "    <tr>\n",
              "      <th>16999</th>\n",
              "      <td>-124.35</td>\n",
              "      <td>40.54</td>\n",
              "      <td>52.0</td>\n",
              "      <td>1820.0</td>\n",
              "      <td>300.0</td>\n",
              "      <td>806.0</td>\n",
              "      <td>270.0</td>\n",
              "      <td>3.0147</td>\n",
              "      <td>94600.0</td>\n",
              "    </tr>\n",
              "  </tbody>\n",
              "</table>\n",
              "<p>17000 rows × 9 columns</p>\n",
              "</div>"
            ],
            "text/plain": [
              "       longitude  latitude  ...  median_income  median_house_value\n",
              "0        -114.31     34.19  ...         1.4936             66900.0\n",
              "1        -114.47     34.40  ...         1.8200             80100.0\n",
              "2        -114.56     33.69  ...         1.6509             85700.0\n",
              "3        -114.57     33.64  ...         3.1917             73400.0\n",
              "4        -114.57     33.57  ...         1.9250             65500.0\n",
              "...          ...       ...  ...            ...                 ...\n",
              "16995    -124.26     40.58  ...         2.3571            111400.0\n",
              "16996    -124.27     40.69  ...         2.5179             79000.0\n",
              "16997    -124.30     41.84  ...         3.0313            103600.0\n",
              "16998    -124.30     41.80  ...         1.9797             85800.0\n",
              "16999    -124.35     40.54  ...         3.0147             94600.0\n",
              "\n",
              "[17000 rows x 9 columns]"
            ]
          },
          "metadata": {
            "tags": []
          },
          "execution_count": 31
        }
      ]
    },
    {
      "cell_type": "markdown",
      "metadata": {
        "id": "Wz0snBJKz_TN"
      },
      "source": [
        "**เลือกคอลัมน์แล้ว slide เลือกแถว**"
      ]
    },
    {
      "cell_type": "code",
      "metadata": {
        "id": "tc0g4JoDJ1Q8",
        "colab": {
          "base_uri": "https://localhost:8080/",
          "height": 72
        },
        "outputId": "dd217445-f64d-4b46-be45-de40a5c2c0c5"
      },
      "source": [
        "df['total_rooms'][0:2] # ได้ series ไม่ใช่ dataframe เพราะมีคอลัมน์เดียว"
      ],
      "execution_count": null,
      "outputs": [
        {
          "output_type": "execute_result",
          "data": {
            "text/plain": [
              "0    5612.0\n",
              "1    7650.0\n",
              "Name: total_rooms, dtype: float64"
            ]
          },
          "metadata": {
            "tags": []
          },
          "execution_count": 76
        }
      ]
    },
    {
      "cell_type": "code",
      "metadata": {
        "id": "dW6X6-6DKE38",
        "colab": {
          "base_uri": "https://localhost:8080/",
          "height": 72
        },
        "outputId": "8f3f2604-5b7d-4751-b29c-49fc5ae45970"
      },
      "source": [
        "df.total_rooms[0:2] # ได้ series ไม่ใช่ dataframe เพราะมีคอลัมน์เดียว"
      ],
      "execution_count": null,
      "outputs": [
        {
          "output_type": "execute_result",
          "data": {
            "text/plain": [
              "0    5612.0\n",
              "1    7650.0\n",
              "Name: total_rooms, dtype: float64"
            ]
          },
          "metadata": {
            "tags": []
          },
          "execution_count": 77
        }
      ]
    },
    {
      "cell_type": "markdown",
      "metadata": {
        "id": "1qph6mfi29GB"
      },
      "source": [
        "**สไลด์ก่อนแล้วเลือก คอลัมน์**"
      ]
    },
    {
      "cell_type": "code",
      "metadata": {
        "id": "Pojc7QeEKAAn",
        "colab": {
          "base_uri": "https://localhost:8080/",
          "height": 72
        },
        "outputId": "9128f55b-3c29-450c-b9b0-3de5d90d89a1"
      },
      "source": [
        "df[0:2]['total_rooms'] # ได้ series ไม่ใช่ dataframe เพราะมีคอลัมน์เดียว"
      ],
      "execution_count": null,
      "outputs": [
        {
          "output_type": "execute_result",
          "data": {
            "text/plain": [
              "0    5612.0\n",
              "1    7650.0\n",
              "Name: total_rooms, dtype: float64"
            ]
          },
          "metadata": {
            "tags": []
          },
          "execution_count": 20
        }
      ]
    },
    {
      "cell_type": "code",
      "metadata": {
        "id": "6TFOc9gpKLhr",
        "colab": {
          "base_uri": "https://localhost:8080/",
          "height": 72
        },
        "outputId": "6257cf3d-82fe-463f-8f31-f8eb6eae8cf5"
      },
      "source": [
        "df[0:2].total_rooms # ได้ series ไม่ใช่ dataframe เพราะมีคอลัมน์เดียว"
      ],
      "execution_count": null,
      "outputs": [
        {
          "output_type": "execute_result",
          "data": {
            "text/plain": [
              "0    5612.0\n",
              "1    7650.0\n",
              "Name: total_rooms, dtype: float64"
            ]
          },
          "metadata": {
            "tags": []
          },
          "execution_count": 22
        }
      ]
    },
    {
      "cell_type": "markdown",
      "metadata": {
        "id": "LWFafMN04oqE"
      },
      "source": [
        "เนื่องจากมีคอลัมน์เดียวถึงได้เป็นชนิดข้อมูล Series แต่ถ้าอยากได้ Dataframes ต้องใช้ [[ , , ]]"
      ]
    },
    {
      "cell_type": "code",
      "metadata": {
        "id": "KDjA_tEk4vdc",
        "colab": {
          "base_uri": "https://localhost:8080/",
          "height": 108
        },
        "outputId": "12d7462f-e45a-4da7-ebcd-fd5cdbb1d58a"
      },
      "source": [
        "df[['total_rooms']][0:2]"
      ],
      "execution_count": null,
      "outputs": [
        {
          "output_type": "execute_result",
          "data": {
            "text/html": [
              "<div>\n",
              "<style scoped>\n",
              "    .dataframe tbody tr th:only-of-type {\n",
              "        vertical-align: middle;\n",
              "    }\n",
              "\n",
              "    .dataframe tbody tr th {\n",
              "        vertical-align: top;\n",
              "    }\n",
              "\n",
              "    .dataframe thead th {\n",
              "        text-align: right;\n",
              "    }\n",
              "</style>\n",
              "<table border=\"1\" class=\"dataframe\">\n",
              "  <thead>\n",
              "    <tr style=\"text-align: right;\">\n",
              "      <th></th>\n",
              "      <th>total_rooms</th>\n",
              "    </tr>\n",
              "  </thead>\n",
              "  <tbody>\n",
              "    <tr>\n",
              "      <th>0</th>\n",
              "      <td>5612.0</td>\n",
              "    </tr>\n",
              "    <tr>\n",
              "      <th>1</th>\n",
              "      <td>7650.0</td>\n",
              "    </tr>\n",
              "  </tbody>\n",
              "</table>\n",
              "</div>"
            ],
            "text/plain": [
              "   total_rooms\n",
              "0       5612.0\n",
              "1       7650.0"
            ]
          },
          "metadata": {
            "tags": []
          },
          "execution_count": 43
        }
      ]
    },
    {
      "cell_type": "code",
      "metadata": {
        "id": "FbOwO2Nt42Po",
        "colab": {
          "base_uri": "https://localhost:8080/",
          "height": 108
        },
        "outputId": "ae486b13-0af5-44a8-af5a-c63677dea56e"
      },
      "source": [
        "df[0:2][['total_rooms']]"
      ],
      "execution_count": null,
      "outputs": [
        {
          "output_type": "execute_result",
          "data": {
            "text/html": [
              "<div>\n",
              "<style scoped>\n",
              "    .dataframe tbody tr th:only-of-type {\n",
              "        vertical-align: middle;\n",
              "    }\n",
              "\n",
              "    .dataframe tbody tr th {\n",
              "        vertical-align: top;\n",
              "    }\n",
              "\n",
              "    .dataframe thead th {\n",
              "        text-align: right;\n",
              "    }\n",
              "</style>\n",
              "<table border=\"1\" class=\"dataframe\">\n",
              "  <thead>\n",
              "    <tr style=\"text-align: right;\">\n",
              "      <th></th>\n",
              "      <th>total_rooms</th>\n",
              "    </tr>\n",
              "  </thead>\n",
              "  <tbody>\n",
              "    <tr>\n",
              "      <th>0</th>\n",
              "      <td>5612.0</td>\n",
              "    </tr>\n",
              "    <tr>\n",
              "      <th>1</th>\n",
              "      <td>7650.0</td>\n",
              "    </tr>\n",
              "  </tbody>\n",
              "</table>\n",
              "</div>"
            ],
            "text/plain": [
              "   total_rooms\n",
              "0       5612.0\n",
              "1       7650.0"
            ]
          },
          "metadata": {
            "tags": []
          },
          "execution_count": 44
        }
      ]
    },
    {
      "cell_type": "markdown",
      "metadata": {
        "id": "x_6z7gX_5SO1"
      },
      "source": [
        "แบบนี้จะได้ข้อมูลออกมาโดยตรง (เข้าถึงค่าเดียว)"
      ]
    },
    {
      "cell_type": "code",
      "metadata": {
        "id": "H-s3j5405PJc",
        "colab": {
          "base_uri": "https://localhost:8080/",
          "height": 35
        },
        "outputId": "64dae273-e5ed-4a28-e9b6-cce7ffa8d6ac"
      },
      "source": [
        "df['housing_median_age'][1]"
      ],
      "execution_count": null,
      "outputs": [
        {
          "output_type": "execute_result",
          "data": {
            "text/plain": [
              "19.0"
            ]
          },
          "metadata": {
            "tags": []
          },
          "execution_count": 45
        }
      ]
    },
    {
      "cell_type": "code",
      "metadata": {
        "id": "k7K-BBpM5dkg",
        "colab": {
          "base_uri": "https://localhost:8080/",
          "height": 35
        },
        "outputId": "a2e4c5c7-1950-43dc-e20d-c599c7d48275"
      },
      "source": [
        "df.housing_median_age[1]"
      ],
      "execution_count": null,
      "outputs": [
        {
          "output_type": "execute_result",
          "data": {
            "text/plain": [
              "19.0"
            ]
          },
          "metadata": {
            "tags": []
          },
          "execution_count": 46
        }
      ]
    },
    {
      "cell_type": "markdown",
      "metadata": {
        "id": "aftr8a9B-6Mc"
      },
      "source": [
        "จะเขียนแบบนี้ไม่ได้"
      ]
    },
    {
      "cell_type": "code",
      "metadata": {
        "id": "IuoYnvao-8-j"
      },
      "source": [
        "# df[1].housing_median_age\n",
        "# df[1]['housing_median_age']"
      ],
      "execution_count": null,
      "outputs": []
    },
    {
      "cell_type": "markdown",
      "metadata": {
        "id": "VxPg6jHG88ir"
      },
      "source": [
        "ถึงจะใช้ไสลด์แค่แถวเดียว ก็จะได้ออกมาเป็น Series "
      ]
    },
    {
      "cell_type": "code",
      "metadata": {
        "id": "W2uzWHLC9Bob",
        "colab": {
          "base_uri": "https://localhost:8080/",
          "height": 72
        },
        "outputId": "6ed06c2d-6c8c-41b9-9041-912f76c977e9"
      },
      "source": [
        "df['housing_median_age'][1:2] # ได้ series"
      ],
      "execution_count": null,
      "outputs": [
        {
          "output_type": "execute_result",
          "data": {
            "text/plain": [
              "1    19.0\n",
              "2    17.0\n",
              "Name: housing_median_age, dtype: float64"
            ]
          },
          "metadata": {
            "tags": []
          },
          "execution_count": 52
        }
      ]
    },
    {
      "cell_type": "code",
      "metadata": {
        "id": "C_NkSUK79MAM",
        "colab": {
          "base_uri": "https://localhost:8080/",
          "height": 54
        },
        "outputId": "6267a312-1e17-4e65-a6d9-5eb1333b3c11"
      },
      "source": [
        "df.housing_median_age[1:2] # ได้ series"
      ],
      "execution_count": null,
      "outputs": [
        {
          "output_type": "execute_result",
          "data": {
            "text/plain": [
              "1    19.0\n",
              "Name: housing_median_age, dtype: float64"
            ]
          },
          "metadata": {
            "tags": []
          },
          "execution_count": 55
        }
      ]
    },
    {
      "cell_type": "code",
      "metadata": {
        "id": "Sq23rZ2D_n9z",
        "colab": {
          "base_uri": "https://localhost:8080/",
          "height": 54
        },
        "outputId": "93032ad1-c3c9-4e0f-a706-05ef43e2ae7c"
      },
      "source": [
        "df[1:2]['housing_median_age'] # ได้ series"
      ],
      "execution_count": null,
      "outputs": [
        {
          "output_type": "execute_result",
          "data": {
            "text/plain": [
              "1    19.0\n",
              "Name: housing_median_age, dtype: float64"
            ]
          },
          "metadata": {
            "tags": []
          },
          "execution_count": 68
        }
      ]
    },
    {
      "cell_type": "code",
      "metadata": {
        "id": "EB2Bbgi8_LGn",
        "colab": {
          "base_uri": "https://localhost:8080/",
          "height": 54
        },
        "outputId": "1110d4c3-ee6a-40d0-903b-f0420368a7bf"
      },
      "source": [
        "df[1:2].housing_median_age # ได้ series"
      ],
      "execution_count": null,
      "outputs": [
        {
          "output_type": "execute_result",
          "data": {
            "text/plain": [
              "1    19.0\n",
              "Name: housing_median_age, dtype: float64"
            ]
          },
          "metadata": {
            "tags": []
          },
          "execution_count": 69
        }
      ]
    },
    {
      "cell_type": "markdown",
      "metadata": {
        "id": "eAm1vRGB9z2Y"
      },
      "source": [
        "ถ้าอยากได้เป็น Dataframe ก็ต้องใช้วิธีนี้ช่วย"
      ]
    },
    {
      "cell_type": "code",
      "metadata": {
        "id": "g7_-Fa2f9sVI",
        "colab": {
          "base_uri": "https://localhost:8080/",
          "height": 78
        },
        "outputId": "563d807c-5275-4be7-ad88-b864e7faf83c"
      },
      "source": [
        "df[['housing_median_age']][1:2]"
      ],
      "execution_count": null,
      "outputs": [
        {
          "output_type": "execute_result",
          "data": {
            "text/html": [
              "<div>\n",
              "<style scoped>\n",
              "    .dataframe tbody tr th:only-of-type {\n",
              "        vertical-align: middle;\n",
              "    }\n",
              "\n",
              "    .dataframe tbody tr th {\n",
              "        vertical-align: top;\n",
              "    }\n",
              "\n",
              "    .dataframe thead th {\n",
              "        text-align: right;\n",
              "    }\n",
              "</style>\n",
              "<table border=\"1\" class=\"dataframe\">\n",
              "  <thead>\n",
              "    <tr style=\"text-align: right;\">\n",
              "      <th></th>\n",
              "      <th>housing_median_age</th>\n",
              "    </tr>\n",
              "  </thead>\n",
              "  <tbody>\n",
              "    <tr>\n",
              "      <th>1</th>\n",
              "      <td>19.0</td>\n",
              "    </tr>\n",
              "  </tbody>\n",
              "</table>\n",
              "</div>"
            ],
            "text/plain": [
              "   housing_median_age\n",
              "1                19.0"
            ]
          },
          "metadata": {
            "tags": []
          },
          "execution_count": 70
        }
      ]
    },
    {
      "cell_type": "markdown",
      "metadata": {
        "id": "7mFr77YL5H1e"
      },
      "source": [
        "**เลือกหลายๆ คอลัมน์พร้อมทำ slice ก็ได้**"
      ]
    },
    {
      "cell_type": "code",
      "metadata": {
        "id": "BS7dhXIl0JUa",
        "colab": {
          "base_uri": "https://localhost:8080/",
          "height": 108
        },
        "outputId": "b741290f-6f4f-41cc-f7bf-1f72776e5a19"
      },
      "source": [
        "df[['total_rooms', 'total_bedrooms',\t'population']][-5:-3]"
      ],
      "execution_count": null,
      "outputs": [
        {
          "output_type": "execute_result",
          "data": {
            "text/html": [
              "<div>\n",
              "<style scoped>\n",
              "    .dataframe tbody tr th:only-of-type {\n",
              "        vertical-align: middle;\n",
              "    }\n",
              "\n",
              "    .dataframe tbody tr th {\n",
              "        vertical-align: top;\n",
              "    }\n",
              "\n",
              "    .dataframe thead th {\n",
              "        text-align: right;\n",
              "    }\n",
              "</style>\n",
              "<table border=\"1\" class=\"dataframe\">\n",
              "  <thead>\n",
              "    <tr style=\"text-align: right;\">\n",
              "      <th></th>\n",
              "      <th>total_rooms</th>\n",
              "      <th>total_bedrooms</th>\n",
              "      <th>population</th>\n",
              "    </tr>\n",
              "  </thead>\n",
              "  <tbody>\n",
              "    <tr>\n",
              "      <th>16995</th>\n",
              "      <td>2217.0</td>\n",
              "      <td>394.0</td>\n",
              "      <td>907.0</td>\n",
              "    </tr>\n",
              "    <tr>\n",
              "      <th>16996</th>\n",
              "      <td>2349.0</td>\n",
              "      <td>528.0</td>\n",
              "      <td>1194.0</td>\n",
              "    </tr>\n",
              "  </tbody>\n",
              "</table>\n",
              "</div>"
            ],
            "text/plain": [
              "       total_rooms  total_bedrooms  population\n",
              "16995       2217.0           394.0       907.0\n",
              "16996       2349.0           528.0      1194.0"
            ]
          },
          "metadata": {
            "tags": []
          },
          "execution_count": 23
        }
      ]
    },
    {
      "cell_type": "code",
      "metadata": {
        "id": "1IEOEtOY0W9c",
        "colab": {
          "base_uri": "https://localhost:8080/",
          "height": 108
        },
        "outputId": "0aba3413-7e14-440f-afa2-aeacbcb310b8"
      },
      "source": [
        "df[-5:-3][['total_rooms', 'total_bedrooms',\t'population']]"
      ],
      "execution_count": null,
      "outputs": [
        {
          "output_type": "execute_result",
          "data": {
            "text/html": [
              "<div>\n",
              "<style scoped>\n",
              "    .dataframe tbody tr th:only-of-type {\n",
              "        vertical-align: middle;\n",
              "    }\n",
              "\n",
              "    .dataframe tbody tr th {\n",
              "        vertical-align: top;\n",
              "    }\n",
              "\n",
              "    .dataframe thead th {\n",
              "        text-align: right;\n",
              "    }\n",
              "</style>\n",
              "<table border=\"1\" class=\"dataframe\">\n",
              "  <thead>\n",
              "    <tr style=\"text-align: right;\">\n",
              "      <th></th>\n",
              "      <th>total_rooms</th>\n",
              "      <th>total_bedrooms</th>\n",
              "      <th>population</th>\n",
              "    </tr>\n",
              "  </thead>\n",
              "  <tbody>\n",
              "    <tr>\n",
              "      <th>16995</th>\n",
              "      <td>2217.0</td>\n",
              "      <td>394.0</td>\n",
              "      <td>907.0</td>\n",
              "    </tr>\n",
              "    <tr>\n",
              "      <th>16996</th>\n",
              "      <td>2349.0</td>\n",
              "      <td>528.0</td>\n",
              "      <td>1194.0</td>\n",
              "    </tr>\n",
              "  </tbody>\n",
              "</table>\n",
              "</div>"
            ],
            "text/plain": [
              "       total_rooms  total_bedrooms  population\n",
              "16995       2217.0           394.0       907.0\n",
              "16996       2349.0           528.0      1194.0"
            ]
          },
          "metadata": {
            "tags": []
          },
          "execution_count": 24
        }
      ]
    },
    {
      "cell_type": "markdown",
      "metadata": {
        "id": "NGCzGo7yxFWB"
      },
      "source": [
        "**เรียกเมธอดภายในได้**"
      ]
    },
    {
      "cell_type": "code",
      "metadata": {
        "id": "aYxGpJHvxLKi",
        "colab": {
          "base_uri": "https://localhost:8080/",
          "height": 85
        },
        "outputId": "d3e28936-3a45-4876-bcae-7144f70dc314"
      },
      "source": [
        "df[5:200][['total_rooms', 'total_bedrooms',\t'population']].max()"
      ],
      "execution_count": null,
      "outputs": [
        {
          "output_type": "execute_result",
          "data": {
            "text/plain": [
              "total_rooms       19107.0\n",
              "total_bedrooms     3923.0\n",
              "population         5525.0\n",
              "dtype: float64"
            ]
          },
          "metadata": {
            "tags": []
          },
          "execution_count": 31
        }
      ]
    },
    {
      "cell_type": "markdown",
      "metadata": {
        "id": "tI9EyUevBRRP"
      },
      "source": [
        "# การเปรียบเทียบ"
      ]
    },
    {
      "cell_type": "code",
      "metadata": {
        "id": "X8lcHqkcBe6B",
        "colab": {
          "base_uri": "https://localhost:8080/",
          "height": 235
        },
        "outputId": "9f4d5b48-e278-4af0-d3c6-cb832735869b"
      },
      "source": [
        "df.population > 1000"
      ],
      "execution_count": null,
      "outputs": [
        {
          "output_type": "execute_result",
          "data": {
            "text/plain": [
              "0         True\n",
              "1         True\n",
              "2        False\n",
              "3        False\n",
              "4        False\n",
              "         ...  \n",
              "16995    False\n",
              "16996     True\n",
              "16997     True\n",
              "16998     True\n",
              "16999    False\n",
              "Name: population, Length: 17000, dtype: bool"
            ]
          },
          "metadata": {
            "tags": []
          },
          "execution_count": 79
        }
      ]
    },
    {
      "cell_type": "code",
      "metadata": {
        "id": "fMcdcjfzBluh",
        "colab": {
          "base_uri": "https://localhost:8080/",
          "height": 235
        },
        "outputId": "15897731-27dd-47d7-f8d1-cb2bd20e9023"
      },
      "source": [
        " df.total_rooms == 5000"
      ],
      "execution_count": null,
      "outputs": [
        {
          "output_type": "execute_result",
          "data": {
            "text/plain": [
              "0        False\n",
              "1        False\n",
              "2        False\n",
              "3        False\n",
              "4        False\n",
              "         ...  \n",
              "16995    False\n",
              "16996    False\n",
              "16997    False\n",
              "16998    False\n",
              "16999    False\n",
              "Name: total_rooms, Length: 17000, dtype: bool"
            ]
          },
          "metadata": {
            "tags": []
          },
          "execution_count": 80
        }
      ]
    },
    {
      "cell_type": "code",
      "metadata": {
        "id": "kK_6OpX-CncD",
        "colab": {
          "base_uri": "https://localhost:8080/",
          "height": 235
        },
        "outputId": "faf38694-ee75-4419-e8ec-3606e713af0d"
      },
      "source": [
        "(df.total_rooms == 5000) & (df.households != 270)"
      ],
      "execution_count": null,
      "outputs": [
        {
          "output_type": "execute_result",
          "data": {
            "text/plain": [
              "0        False\n",
              "1        False\n",
              "2        False\n",
              "3        False\n",
              "4        False\n",
              "         ...  \n",
              "16995    False\n",
              "16996    False\n",
              "16997    False\n",
              "16998    False\n",
              "16999    False\n",
              "Length: 17000, dtype: bool"
            ]
          },
          "metadata": {
            "tags": []
          },
          "execution_count": 100
        }
      ]
    },
    {
      "cell_type": "code",
      "metadata": {
        "id": "EUCRSHNBC6I-",
        "colab": {
          "base_uri": "https://localhost:8080/",
          "height": 221
        },
        "outputId": "43c2347e-1731-49f6-da71-deaee5e3553a"
      },
      "source": [
        "(df.total_rooms == 5000) | (df.households != 270)"
      ],
      "execution_count": null,
      "outputs": [
        {
          "output_type": "execute_result",
          "data": {
            "text/plain": [
              "0         True\n",
              "1         True\n",
              "2         True\n",
              "3         True\n",
              "4         True\n",
              "         ...  \n",
              "16995     True\n",
              "16996     True\n",
              "16997     True\n",
              "16998     True\n",
              "16999    False\n",
              "Length: 17000, dtype: bool"
            ]
          },
          "metadata": {
            "tags": []
          },
          "execution_count": 101
        }
      ]
    },
    {
      "cell_type": "markdown",
      "metadata": {
        "id": "OamZHex8B_Ga"
      },
      "source": [
        "**ใช้ร่วมในการเลือกคอลัมน์ได้**"
      ]
    },
    {
      "cell_type": "code",
      "metadata": {
        "id": "5SzpSzHHCGMI",
        "colab": {
          "base_uri": "https://localhost:8080/",
          "height": 131
        },
        "outputId": "d5b33efd-5cb6-44ae-f78f-4133823d4518"
      },
      "source": [
        "df[ df.population > 27000]"
      ],
      "execution_count": null,
      "outputs": [
        {
          "output_type": "execute_result",
          "data": {
            "text/html": [
              "<div>\n",
              "<style scoped>\n",
              "    .dataframe tbody tr th:only-of-type {\n",
              "        vertical-align: middle;\n",
              "    }\n",
              "\n",
              "    .dataframe tbody tr th {\n",
              "        vertical-align: top;\n",
              "    }\n",
              "\n",
              "    .dataframe thead th {\n",
              "        text-align: right;\n",
              "    }\n",
              "</style>\n",
              "<table border=\"1\" class=\"dataframe\">\n",
              "  <thead>\n",
              "    <tr style=\"text-align: right;\">\n",
              "      <th></th>\n",
              "      <th>longitude</th>\n",
              "      <th>latitude</th>\n",
              "      <th>housing_median_age</th>\n",
              "      <th>total_rooms</th>\n",
              "      <th>total_bedrooms</th>\n",
              "      <th>population</th>\n",
              "      <th>households</th>\n",
              "      <th>median_income</th>\n",
              "      <th>median_house_value</th>\n",
              "    </tr>\n",
              "  </thead>\n",
              "  <tbody>\n",
              "    <tr>\n",
              "      <th>2274</th>\n",
              "      <td>-117.42</td>\n",
              "      <td>33.35</td>\n",
              "      <td>14.0</td>\n",
              "      <td>25135.0</td>\n",
              "      <td>4819.0</td>\n",
              "      <td>35682.0</td>\n",
              "      <td>4769.0</td>\n",
              "      <td>2.5729</td>\n",
              "      <td>134400.0</td>\n",
              "    </tr>\n",
              "    <tr>\n",
              "      <th>12772</th>\n",
              "      <td>-121.79</td>\n",
              "      <td>36.64</td>\n",
              "      <td>11.0</td>\n",
              "      <td>32627.0</td>\n",
              "      <td>6445.0</td>\n",
              "      <td>28566.0</td>\n",
              "      <td>6082.0</td>\n",
              "      <td>2.3087</td>\n",
              "      <td>118800.0</td>\n",
              "    </tr>\n",
              "  </tbody>\n",
              "</table>\n",
              "</div>"
            ],
            "text/plain": [
              "       longitude  latitude  ...  median_income  median_house_value\n",
              "2274     -117.42     33.35  ...         2.5729            134400.0\n",
              "12772    -121.79     36.64  ...         2.3087            118800.0\n",
              "\n",
              "[2 rows x 9 columns]"
            ]
          },
          "metadata": {
            "tags": []
          },
          "execution_count": 95
        }
      ]
    },
    {
      "cell_type": "code",
      "metadata": {
        "id": "6e3iLx2jDCcs",
        "colab": {
          "base_uri": "https://localhost:8080/",
          "height": 224
        },
        "outputId": "08523af0-c6ef-4bca-d8e1-4b37b8aef7e5"
      },
      "source": [
        "df[ (df.population > 15000) & (df.households >= 4000)]"
      ],
      "execution_count": null,
      "outputs": [
        {
          "output_type": "execute_result",
          "data": {
            "text/html": [
              "<div>\n",
              "<style scoped>\n",
              "    .dataframe tbody tr th:only-of-type {\n",
              "        vertical-align: middle;\n",
              "    }\n",
              "\n",
              "    .dataframe tbody tr th {\n",
              "        vertical-align: top;\n",
              "    }\n",
              "\n",
              "    .dataframe thead th {\n",
              "        text-align: right;\n",
              "    }\n",
              "</style>\n",
              "<table border=\"1\" class=\"dataframe\">\n",
              "  <thead>\n",
              "    <tr style=\"text-align: right;\">\n",
              "      <th></th>\n",
              "      <th>longitude</th>\n",
              "      <th>latitude</th>\n",
              "      <th>housing_median_age</th>\n",
              "      <th>total_rooms</th>\n",
              "      <th>total_bedrooms</th>\n",
              "      <th>population</th>\n",
              "      <th>households</th>\n",
              "      <th>median_income</th>\n",
              "      <th>median_house_value</th>\n",
              "    </tr>\n",
              "  </thead>\n",
              "  <tbody>\n",
              "    <tr>\n",
              "      <th>2274</th>\n",
              "      <td>-117.42</td>\n",
              "      <td>33.35</td>\n",
              "      <td>14.0</td>\n",
              "      <td>25135.0</td>\n",
              "      <td>4819.0</td>\n",
              "      <td>35682.0</td>\n",
              "      <td>4769.0</td>\n",
              "      <td>2.5729</td>\n",
              "      <td>134400.0</td>\n",
              "    </tr>\n",
              "    <tr>\n",
              "      <th>2871</th>\n",
              "      <td>-117.74</td>\n",
              "      <td>33.89</td>\n",
              "      <td>4.0</td>\n",
              "      <td>37937.0</td>\n",
              "      <td>5471.0</td>\n",
              "      <td>16122.0</td>\n",
              "      <td>5189.0</td>\n",
              "      <td>7.4947</td>\n",
              "      <td>366300.0</td>\n",
              "    </tr>\n",
              "    <tr>\n",
              "      <th>2969</th>\n",
              "      <td>-117.78</td>\n",
              "      <td>34.03</td>\n",
              "      <td>8.0</td>\n",
              "      <td>32054.0</td>\n",
              "      <td>5290.0</td>\n",
              "      <td>15507.0</td>\n",
              "      <td>5050.0</td>\n",
              "      <td>6.0191</td>\n",
              "      <td>253900.0</td>\n",
              "    </tr>\n",
              "    <tr>\n",
              "      <th>3296</th>\n",
              "      <td>-117.87</td>\n",
              "      <td>34.04</td>\n",
              "      <td>7.0</td>\n",
              "      <td>27700.0</td>\n",
              "      <td>4179.0</td>\n",
              "      <td>15037.0</td>\n",
              "      <td>4072.0</td>\n",
              "      <td>6.6288</td>\n",
              "      <td>339700.0</td>\n",
              "    </tr>\n",
              "    <tr>\n",
              "      <th>12772</th>\n",
              "      <td>-121.79</td>\n",
              "      <td>36.64</td>\n",
              "      <td>11.0</td>\n",
              "      <td>32627.0</td>\n",
              "      <td>6445.0</td>\n",
              "      <td>28566.0</td>\n",
              "      <td>6082.0</td>\n",
              "      <td>2.3087</td>\n",
              "      <td>118800.0</td>\n",
              "    </tr>\n",
              "  </tbody>\n",
              "</table>\n",
              "</div>"
            ],
            "text/plain": [
              "       longitude  latitude  ...  median_income  median_house_value\n",
              "2274     -117.42     33.35  ...         2.5729            134400.0\n",
              "2871     -117.74     33.89  ...         7.4947            366300.0\n",
              "2969     -117.78     34.03  ...         6.0191            253900.0\n",
              "3296     -117.87     34.04  ...         6.6288            339700.0\n",
              "12772    -121.79     36.64  ...         2.3087            118800.0\n",
              "\n",
              "[5 rows x 9 columns]"
            ]
          },
          "metadata": {
            "tags": []
          },
          "execution_count": 108
        }
      ]
    },
    {
      "cell_type": "markdown",
      "metadata": {
        "id": "ur41xOovc2q6"
      },
      "source": [
        "# การใช้ iloc กับ loc"
      ]
    },
    {
      "cell_type": "markdown",
      "metadata": {
        "id": "rsvirHuXU5qc"
      },
      "source": [
        "see more \n",
        "https://www.shanelynn.ie/select-pandas-dataframe-rows-and-columns-using-iloc-loc-and-ix/"
      ]
    },
    {
      "cell_type": "markdown",
      "metadata": {
        "id": "cJ25O-Kn3WIv"
      },
      "source": [
        "# ดำเนินการทางคณิตศาสตร์ได้"
      ]
    },
    {
      "cell_type": "code",
      "metadata": {
        "id": "j5BZSe3f3o8c",
        "colab": {
          "base_uri": "https://localhost:8080/",
          "height": 119
        },
        "outputId": "ded63950-5be1-4fd0-9aa8-95a7ca8ddc4a"
      },
      "source": [
        "result = df['total_rooms']/df['total_bedrooms'] * df['population']\n",
        "result.head() # ได้คำตอบเป็น Series"
      ],
      "execution_count": null,
      "outputs": [
        {
          "output_type": "execute_result",
          "data": {
            "text/plain": [
              "0    4439.734996\n",
              "1    4543.319306\n",
              "2    1377.931034\n",
              "3    2293.813056\n",
              "4    2783.116564\n",
              "dtype: float64"
            ]
          },
          "metadata": {
            "tags": []
          },
          "execution_count": 8
        }
      ]
    },
    {
      "cell_type": "markdown",
      "metadata": {
        "id": "R81fzM8s8qKp"
      },
      "source": [
        "# พล็อตกราฟได้"
      ]
    },
    {
      "cell_type": "code",
      "metadata": {
        "id": "n1zB5y9N8wQY",
        "colab": {
          "base_uri": "https://localhost:8080/",
          "height": 282
        },
        "outputId": "9588d722-8348-41a4-f52a-44ecc4376651"
      },
      "source": [
        "df['total_rooms'].plot()\n",
        "# df.total_rooms.plot()"
      ],
      "execution_count": null,
      "outputs": [
        {
          "output_type": "execute_result",
          "data": {
            "text/plain": [
              "<matplotlib.axes._subplots.AxesSubplot at 0x7f424221c780>"
            ]
          },
          "metadata": {
            "tags": []
          },
          "execution_count": 10
        },
        {
          "output_type": "display_data",
          "data": {
            "image/png": "[encoded data removed]",
            "text/plain": [
              "<Figure size 432x288 with 1 Axes>"
            ]
          },
          "metadata": {
            "tags": [],
            "needs_background": "light"
          }
        }
      ]
    },
    {
      "cell_type": "markdown",
      "metadata": {
        "id": "trN4FFGh9b_L"
      },
      "source": [
        "พล็อตกราฟพร้อมกันได้"
      ]
    },
    {
      "cell_type": "code",
      "metadata": {
        "id": "GWwD-XHV9U2A",
        "colab": {
          "base_uri": "https://localhost:8080/",
          "height": 282
        },
        "outputId": "7cec7f04-8deb-4f81-ad1e-84d258bc7cdd"
      },
      "source": [
        "df[['total_rooms', 'total_bedrooms',\t'population']].plot()"
      ],
      "execution_count": null,
      "outputs": [
        {
          "output_type": "execute_result",
          "data": {
            "text/plain": [
              "<matplotlib.axes._subplots.AxesSubplot at 0x7f424215fb38>"
            ]
          },
          "metadata": {
            "tags": []
          },
          "execution_count": 11
        },
        {
          "output_type": "display_data",
          "data": {
            "image/png": "[encoded data removed]",
            "text/plain": [
              "<Figure size 432x288 with 1 Axes>"
            ]
          },
          "metadata": {
            "tags": [],
            "needs_background": "light"
          }
        }
      ]
    },
    {
      "cell_type": "markdown",
      "metadata": {
        "id": "ae2KBZ6p9HkO"
      },
      "source": [
        "เลือกบางแถวมาก็ยังได้ \n"
      ]
    },
    {
      "cell_type": "code",
      "metadata": {
        "id": "k1xuqNHB9EmL",
        "colab": {
          "base_uri": "https://localhost:8080/",
          "height": 295
        },
        "outputId": "f4ed1bef-edbe-4ab1-bc88-17eeee99db78"
      },
      "source": [
        "df[-5:-3][['total_rooms', 'total_bedrooms',\t'population']].plot()"
      ],
      "execution_count": null,
      "outputs": [
        {
          "output_type": "execute_result",
          "data": {
            "text/plain": [
              "<matplotlib.axes._subplots.AxesSubplot at 0x7f424230a390>"
            ]
          },
          "metadata": {
            "tags": []
          },
          "execution_count": 12
        },
        {
          "output_type": "display_data",
          "data": {
            "image/png": "[encoded data removed]",
            "text/plain": [
              "<Figure size 432x288 with 1 Axes>"
            ]
          },
          "metadata": {
            "tags": [],
            "needs_background": "light"
          }
        }
      ]
    },
    {
      "cell_type": "markdown",
      "metadata": {
        "id": "L1Ah4-apxvad"
      },
      "source": [
        "# ตัวอย่างอ่านข้อมูลจาก HTML"
      ]
    },
    {
      "cell_type": "markdown",
      "metadata": {
        "id": "FeKKa5igxy-z"
      },
      "source": [
        "ตัวอย่างอ่านข้อมูลหุ้น"
      ]
    },
    {
      "cell_type": "code",
      "metadata": {
        "id": "nFPS1W91EeSp",
        "colab": {
          "base_uri": "https://localhost:8080/",
          "height": 204
        },
        "outputId": "3edc6b88-c33b-42f2-f169-56cf51059ffb"
      },
      "source": [
        "stock = 'PTT'\n",
        "PATH_URL = f\"https://www.set.or.th/set/historicaltrading.do?symbol={stock}&ssoPageId=2&language=th&country=TH\"\n",
        "data = pd.read_html(PATH_URL)\n",
        "\n",
        "df = data[0]\n",
        "df.head()"
      ],
      "execution_count": null,
      "outputs": [
        {
          "output_type": "execute_result",
          "data": {
            "text/html": [
              "<div>\n",
              "<style scoped>\n",
              "    .dataframe tbody tr th:only-of-type {\n",
              "        vertical-align: middle;\n",
              "    }\n",
              "\n",
              "    .dataframe tbody tr th {\n",
              "        vertical-align: top;\n",
              "    }\n",
              "\n",
              "    .dataframe thead th {\n",
              "        text-align: right;\n",
              "    }\n",
              "</style>\n",
              "<table border=\"1\" class=\"dataframe\">\n",
              "  <thead>\n",
              "    <tr style=\"text-align: right;\">\n",
              "      <th></th>\n",
              "      <th>วันที่</th>\n",
              "      <th>ราคาเปิด</th>\n",
              "      <th>ราคาสูงสุด</th>\n",
              "      <th>ราคาต่ำสุด</th>\n",
              "      <th>ราคาปิด</th>\n",
              "      <th>เปลี่ยนแปลง</th>\n",
              "      <th>%เปลี่ยนแปลง</th>\n",
              "      <th>ปริมาณรวม(หุ้น)</th>\n",
              "      <th>มูลค่ารวม('000 บาท)</th>\n",
              "    </tr>\n",
              "  </thead>\n",
              "  <tbody>\n",
              "    <tr>\n",
              "      <th>0</th>\n",
              "      <td>15/05/2563</td>\n",
              "      <td>35.75</td>\n",
              "      <td>36.00</td>\n",
              "      <td>35.25</td>\n",
              "      <td>35.50</td>\n",
              "      <td>0.00</td>\n",
              "      <td>0.00</td>\n",
              "      <td>78671852</td>\n",
              "      <td>2795402.04</td>\n",
              "    </tr>\n",
              "    <tr>\n",
              "      <th>1</th>\n",
              "      <td>14/05/2563</td>\n",
              "      <td>35.50</td>\n",
              "      <td>35.75</td>\n",
              "      <td>35.00</td>\n",
              "      <td>35.50</td>\n",
              "      <td>-0.50</td>\n",
              "      <td>-1.39</td>\n",
              "      <td>45715862</td>\n",
              "      <td>1614524.14</td>\n",
              "    </tr>\n",
              "    <tr>\n",
              "      <th>2</th>\n",
              "      <td>13/05/2563</td>\n",
              "      <td>36.00</td>\n",
              "      <td>36.50</td>\n",
              "      <td>35.75</td>\n",
              "      <td>36.00</td>\n",
              "      <td>-0.25</td>\n",
              "      <td>-0.69</td>\n",
              "      <td>49250817</td>\n",
              "      <td>1778578.95</td>\n",
              "    </tr>\n",
              "    <tr>\n",
              "      <th>3</th>\n",
              "      <td>12/05/2563</td>\n",
              "      <td>35.50</td>\n",
              "      <td>36.25</td>\n",
              "      <td>35.25</td>\n",
              "      <td>36.25</td>\n",
              "      <td>0.75</td>\n",
              "      <td>2.11</td>\n",
              "      <td>72481448</td>\n",
              "      <td>2596558.11</td>\n",
              "    </tr>\n",
              "    <tr>\n",
              "      <th>4</th>\n",
              "      <td>11/05/2563</td>\n",
              "      <td>35.75</td>\n",
              "      <td>36.00</td>\n",
              "      <td>35.25</td>\n",
              "      <td>35.50</td>\n",
              "      <td>0.25</td>\n",
              "      <td>0.71</td>\n",
              "      <td>88420917</td>\n",
              "      <td>3140428.98</td>\n",
              "    </tr>\n",
              "  </tbody>\n",
              "</table>\n",
              "</div>"
            ],
            "text/plain": [
              "       วันที่  ราคาเปิด  ...  ปริมาณรวม(หุ้น)  มูลค่ารวม('000 บาท)\n",
              "0  15/05/2563     35.75  ...         78671852           2795402.04\n",
              "1  14/05/2563     35.50  ...         45715862           1614524.14\n",
              "2  13/05/2563     36.00  ...         49250817           1778578.95\n",
              "3  12/05/2563     35.50  ...         72481448           2596558.11\n",
              "4  11/05/2563     35.75  ...         88420917           3140428.98\n",
              "\n",
              "[5 rows x 9 columns]"
            ]
          },
          "metadata": {
            "tags": []
          },
          "execution_count": 19
        }
      ]
    },
    {
      "cell_type": "code",
      "metadata": {
        "id": "azLTntfSxyRi",
        "colab": {
          "base_uri": "https://localhost:8080/",
          "height": 221
        },
        "outputId": "1c746aef-5a43-4c46-e8f8-b07f0e1758f4"
      },
      "source": [
        "stock = 'AOT'\n",
        "PATH_URL  = f\"https://www.settrade.com/C04_02_stock_historical_p1.jsp?txtSymbol={stock}&ssoPageId=10&selectPage=2\"\n",
        "data = pd.read_html(PATH_URL)\n",
        "\n",
        "df = data[0]\n",
        "df.head()\n"
      ],
      "execution_count": null,
      "outputs": [
        {
          "output_type": "execute_result",
          "data": {
            "text/html": [
              "<div>\n",
              "<style scoped>\n",
              "    .dataframe tbody tr th:only-of-type {\n",
              "        vertical-align: middle;\n",
              "    }\n",
              "\n",
              "    .dataframe tbody tr th {\n",
              "        vertical-align: top;\n",
              "    }\n",
              "\n",
              "    .dataframe thead th {\n",
              "        text-align: right;\n",
              "    }\n",
              "</style>\n",
              "<table border=\"1\" class=\"dataframe\">\n",
              "  <thead>\n",
              "    <tr style=\"text-align: right;\">\n",
              "      <th></th>\n",
              "      <th>วันที่</th>\n",
              "      <th>ราคาเปิด</th>\n",
              "      <th>ราคาสูงสุด</th>\n",
              "      <th>ราคาต่ำสุด</th>\n",
              "      <th>ราคาเฉลี่ย</th>\n",
              "      <th>ราคาปิด</th>\n",
              "      <th>เปลี่ยนแปลง</th>\n",
              "      <th>%เปลี่ยนแปลง</th>\n",
              "      <th>ปริมาณ(พันหุ้น)</th>\n",
              "      <th>มูลค่า(ล้านบาท)</th>\n",
              "      <th>SETIndex</th>\n",
              "      <th>%เปลี่ยนแปลง.1</th>\n",
              "    </tr>\n",
              "  </thead>\n",
              "  <tbody>\n",
              "    <tr>\n",
              "      <th>0</th>\n",
              "      <td>15/05/20</td>\n",
              "      <td>60.00</td>\n",
              "      <td>60.25</td>\n",
              "      <td>59.00</td>\n",
              "      <td>59.28</td>\n",
              "      <td>59.00</td>\n",
              "      <td>-0.75</td>\n",
              "      <td>-1.26</td>\n",
              "      <td>19103.98</td>\n",
              "      <td>1131.77</td>\n",
              "      <td>1280.76</td>\n",
              "      <td>0.03</td>\n",
              "    </tr>\n",
              "    <tr>\n",
              "      <th>1</th>\n",
              "      <td>14/05/20</td>\n",
              "      <td>59.50</td>\n",
              "      <td>60.25</td>\n",
              "      <td>59.25</td>\n",
              "      <td>59.78</td>\n",
              "      <td>59.75</td>\n",
              "      <td>-0.50</td>\n",
              "      <td>-0.83</td>\n",
              "      <td>20411.35</td>\n",
              "      <td>1220.28</td>\n",
              "      <td>1280.40</td>\n",
              "      <td>-1.09</td>\n",
              "    </tr>\n",
              "    <tr>\n",
              "      <th>2</th>\n",
              "      <td>13/05/20</td>\n",
              "      <td>61.00</td>\n",
              "      <td>61.00</td>\n",
              "      <td>60.00</td>\n",
              "      <td>60.43</td>\n",
              "      <td>60.25</td>\n",
              "      <td>-0.75</td>\n",
              "      <td>-1.23</td>\n",
              "      <td>12680.56</td>\n",
              "      <td>766.34</td>\n",
              "      <td>1294.55</td>\n",
              "      <td>-0.40</td>\n",
              "    </tr>\n",
              "    <tr>\n",
              "      <th>3</th>\n",
              "      <td>12/05/20</td>\n",
              "      <td>59.75</td>\n",
              "      <td>61.25</td>\n",
              "      <td>59.50</td>\n",
              "      <td>60.65</td>\n",
              "      <td>61.00</td>\n",
              "      <td>1.00</td>\n",
              "      <td>1.67</td>\n",
              "      <td>26215.52</td>\n",
              "      <td>1591.70</td>\n",
              "      <td>1299.69</td>\n",
              "      <td>0.96</td>\n",
              "    </tr>\n",
              "    <tr>\n",
              "      <th>4</th>\n",
              "      <td>11/05/20</td>\n",
              "      <td>60.25</td>\n",
              "      <td>61.00</td>\n",
              "      <td>60.00</td>\n",
              "      <td>60.42</td>\n",
              "      <td>60.00</td>\n",
              "      <td>0.25</td>\n",
              "      <td>0.42</td>\n",
              "      <td>21128.28</td>\n",
              "      <td>1276.25</td>\n",
              "      <td>1287.30</td>\n",
              "      <td>1.68</td>\n",
              "    </tr>\n",
              "  </tbody>\n",
              "</table>\n",
              "</div>"
            ],
            "text/plain": [
              "     วันที่  ราคาเปิด  ราคาสูงสุด  ...  มูลค่า(ล้านบาท)  SETIndex  %เปลี่ยนแปลง.1\n",
              "0  15/05/20     60.00       60.25  ...          1131.77   1280.76            0.03\n",
              "1  14/05/20     59.50       60.25  ...          1220.28   1280.40           -1.09\n",
              "2  13/05/20     61.00       61.00  ...           766.34   1294.55           -0.40\n",
              "3  12/05/20     59.75       61.25  ...          1591.70   1299.69            0.96\n",
              "4  11/05/20     60.25       61.00  ...          1276.25   1287.30            1.68\n",
              "\n",
              "[5 rows x 12 columns]"
            ]
          },
          "metadata": {
            "tags": []
          },
          "execution_count": 20
        }
      ]
    },
    {
      "cell_type": "code",
      "metadata": {
        "id": "wSYbAkKhwAYQ",
        "colab": {
          "base_uri": "https://localhost:8080/",
          "height": 119
        },
        "outputId": "7be7aed7-5a3d-4569-dce2-90c41848deb4"
      },
      "source": [
        "df['ราคาปิด'].head()"
      ],
      "execution_count": null,
      "outputs": [
        {
          "output_type": "execute_result",
          "data": {
            "text/plain": [
              "0    35.50\n",
              "1    35.50\n",
              "2    36.00\n",
              "3    36.25\n",
              "4    35.50\n",
              "Name: ราคาปิด, dtype: float64"
            ]
          },
          "metadata": {
            "tags": []
          },
          "execution_count": 51
        }
      ]
    },
    {
      "cell_type": "code",
      "metadata": {
        "id": "iJEo_WciysuR",
        "colab": {
          "base_uri": "https://localhost:8080/",
          "height": 282
        },
        "outputId": "edb88a8c-2f9c-49da-8324-39e51165b1b4"
      },
      "source": [
        "df['ราคาปิด'].plot()"
      ],
      "execution_count": null,
      "outputs": [
        {
          "output_type": "execute_result",
          "data": {
            "text/plain": [
              "<matplotlib.axes._subplots.AxesSubplot at 0x7f423fe97128>"
            ]
          },
          "metadata": {
            "tags": []
          },
          "execution_count": 54
        },
        {
          "output_type": "display_data",
          "data": {
            "image/png": "[encoded data removed]",
            "text/plain": [
              "<Figure size 432x288 with 1 Axes>"
            ]
          },
          "metadata": {
            "tags": [],
            "needs_background": "light"
          }
        }
      ]
    },
    {
      "cell_type": "markdown",
      "metadata": {
        "id": "xAOhnIquvt-6"
      },
      "source": [
        "# บันทึกเป็นไฟล์ต่างๆ"
      ]
    },
    {
      "cell_type": "code",
      "metadata": {
        "id": "6b7uSmEtv-rR",
        "colab": {
          "base_uri": "https://localhost:8080/",
          "height": 669
        },
        "outputId": "15434578-f054-4540-bc28-91ff6243e8fc"
      },
      "source": [
        "data = pd.read_html(\"https://www.tiobe.com/tiobe-index/\")\n",
        "df = data[0]\n",
        "df"
      ],
      "execution_count": null,
      "outputs": [
        {
          "output_type": "execute_result",
          "data": {
            "text/html": [
              "<div>\n",
              "<style scoped>\n",
              "    .dataframe tbody tr th:only-of-type {\n",
              "        vertical-align: middle;\n",
              "    }\n",
              "\n",
              "    .dataframe tbody tr th {\n",
              "        vertical-align: top;\n",
              "    }\n",
              "\n",
              "    .dataframe thead th {\n",
              "        text-align: right;\n",
              "    }\n",
              "</style>\n",
              "<table border=\"1\" class=\"dataframe\">\n",
              "  <thead>\n",
              "    <tr style=\"text-align: right;\">\n",
              "      <th></th>\n",
              "      <th>May 2020</th>\n",
              "      <th>May 2019</th>\n",
              "      <th>Change</th>\n",
              "      <th>Programming Language</th>\n",
              "      <th>Ratings</th>\n",
              "      <th>Change.1</th>\n",
              "    </tr>\n",
              "  </thead>\n",
              "  <tbody>\n",
              "    <tr>\n",
              "      <th>0</th>\n",
              "      <td>1</td>\n",
              "      <td>2</td>\n",
              "      <td>NaN</td>\n",
              "      <td>C</td>\n",
              "      <td>17.07%</td>\n",
              "      <td>+2.82%</td>\n",
              "    </tr>\n",
              "    <tr>\n",
              "      <th>1</th>\n",
              "      <td>2</td>\n",
              "      <td>1</td>\n",
              "      <td>NaN</td>\n",
              "      <td>Java</td>\n",
              "      <td>16.28%</td>\n",
              "      <td>+0.28%</td>\n",
              "    </tr>\n",
              "    <tr>\n",
              "      <th>2</th>\n",
              "      <td>3</td>\n",
              "      <td>4</td>\n",
              "      <td>NaN</td>\n",
              "      <td>Python</td>\n",
              "      <td>9.12%</td>\n",
              "      <td>+1.29%</td>\n",
              "    </tr>\n",
              "    <tr>\n",
              "      <th>3</th>\n",
              "      <td>4</td>\n",
              "      <td>3</td>\n",
              "      <td>NaN</td>\n",
              "      <td>C++</td>\n",
              "      <td>6.13%</td>\n",
              "      <td>-1.97%</td>\n",
              "    </tr>\n",
              "    <tr>\n",
              "      <th>4</th>\n",
              "      <td>5</td>\n",
              "      <td>6</td>\n",
              "      <td>NaN</td>\n",
              "      <td>C#</td>\n",
              "      <td>4.29%</td>\n",
              "      <td>+0.30%</td>\n",
              "    </tr>\n",
              "    <tr>\n",
              "      <th>5</th>\n",
              "      <td>6</td>\n",
              "      <td>5</td>\n",
              "      <td>NaN</td>\n",
              "      <td>Visual Basic</td>\n",
              "      <td>4.18%</td>\n",
              "      <td>-1.01%</td>\n",
              "    </tr>\n",
              "    <tr>\n",
              "      <th>6</th>\n",
              "      <td>7</td>\n",
              "      <td>7</td>\n",
              "      <td>NaN</td>\n",
              "      <td>JavaScript</td>\n",
              "      <td>2.68%</td>\n",
              "      <td>-0.01%</td>\n",
              "    </tr>\n",
              "    <tr>\n",
              "      <th>7</th>\n",
              "      <td>8</td>\n",
              "      <td>9</td>\n",
              "      <td>NaN</td>\n",
              "      <td>PHP</td>\n",
              "      <td>2.49%</td>\n",
              "      <td>-0.00%</td>\n",
              "    </tr>\n",
              "    <tr>\n",
              "      <th>8</th>\n",
              "      <td>9</td>\n",
              "      <td>8</td>\n",
              "      <td>NaN</td>\n",
              "      <td>SQL</td>\n",
              "      <td>2.09%</td>\n",
              "      <td>-0.47%</td>\n",
              "    </tr>\n",
              "    <tr>\n",
              "      <th>9</th>\n",
              "      <td>10</td>\n",
              "      <td>21</td>\n",
              "      <td>NaN</td>\n",
              "      <td>R</td>\n",
              "      <td>1.85%</td>\n",
              "      <td>+0.90%</td>\n",
              "    </tr>\n",
              "    <tr>\n",
              "      <th>10</th>\n",
              "      <td>11</td>\n",
              "      <td>18</td>\n",
              "      <td>NaN</td>\n",
              "      <td>Swift</td>\n",
              "      <td>1.79%</td>\n",
              "      <td>+0.64%</td>\n",
              "    </tr>\n",
              "    <tr>\n",
              "      <th>11</th>\n",
              "      <td>12</td>\n",
              "      <td>19</td>\n",
              "      <td>NaN</td>\n",
              "      <td>Go</td>\n",
              "      <td>1.27%</td>\n",
              "      <td>+0.15%</td>\n",
              "    </tr>\n",
              "    <tr>\n",
              "      <th>12</th>\n",
              "      <td>13</td>\n",
              "      <td>14</td>\n",
              "      <td>NaN</td>\n",
              "      <td>MATLAB</td>\n",
              "      <td>1.17%</td>\n",
              "      <td>-0.20%</td>\n",
              "    </tr>\n",
              "    <tr>\n",
              "      <th>13</th>\n",
              "      <td>14</td>\n",
              "      <td>10</td>\n",
              "      <td>NaN</td>\n",
              "      <td>Assembly language</td>\n",
              "      <td>1.12%</td>\n",
              "      <td>-0.69%</td>\n",
              "    </tr>\n",
              "    <tr>\n",
              "      <th>14</th>\n",
              "      <td>15</td>\n",
              "      <td>15</td>\n",
              "      <td>NaN</td>\n",
              "      <td>Ruby</td>\n",
              "      <td>1.02%</td>\n",
              "      <td>-0.32%</td>\n",
              "    </tr>\n",
              "    <tr>\n",
              "      <th>15</th>\n",
              "      <td>16</td>\n",
              "      <td>20</td>\n",
              "      <td>NaN</td>\n",
              "      <td>PL/SQL</td>\n",
              "      <td>0.99%</td>\n",
              "      <td>-0.03%</td>\n",
              "    </tr>\n",
              "    <tr>\n",
              "      <th>16</th>\n",
              "      <td>17</td>\n",
              "      <td>16</td>\n",
              "      <td>NaN</td>\n",
              "      <td>Classic Visual Basic</td>\n",
              "      <td>0.89%</td>\n",
              "      <td>-0.43%</td>\n",
              "    </tr>\n",
              "    <tr>\n",
              "      <th>17</th>\n",
              "      <td>18</td>\n",
              "      <td>13</td>\n",
              "      <td>NaN</td>\n",
              "      <td>Perl</td>\n",
              "      <td>0.88%</td>\n",
              "      <td>-0.51%</td>\n",
              "    </tr>\n",
              "    <tr>\n",
              "      <th>18</th>\n",
              "      <td>19</td>\n",
              "      <td>28</td>\n",
              "      <td>NaN</td>\n",
              "      <td>Scratch</td>\n",
              "      <td>0.83%</td>\n",
              "      <td>+0.32%</td>\n",
              "    </tr>\n",
              "    <tr>\n",
              "      <th>19</th>\n",
              "      <td>20</td>\n",
              "      <td>11</td>\n",
              "      <td>NaN</td>\n",
              "      <td>Objective-C</td>\n",
              "      <td>0.80%</td>\n",
              "      <td>-0.83%</td>\n",
              "    </tr>\n",
              "  </tbody>\n",
              "</table>\n",
              "</div>"
            ],
            "text/plain": [
              "    May 2020  May 2019  Change  Programming Language Ratings Change.1\n",
              "0          1         2     NaN                     C  17.07%   +2.82%\n",
              "1          2         1     NaN                  Java  16.28%   +0.28%\n",
              "2          3         4     NaN                Python   9.12%   +1.29%\n",
              "3          4         3     NaN                   C++   6.13%   -1.97%\n",
              "4          5         6     NaN                    C#   4.29%   +0.30%\n",
              "5          6         5     NaN          Visual Basic   4.18%   -1.01%\n",
              "6          7         7     NaN            JavaScript   2.68%   -0.01%\n",
              "7          8         9     NaN                   PHP   2.49%   -0.00%\n",
              "8          9         8     NaN                   SQL   2.09%   -0.47%\n",
              "9         10        21     NaN                     R   1.85%   +0.90%\n",
              "10        11        18     NaN                 Swift   1.79%   +0.64%\n",
              "11        12        19     NaN                    Go   1.27%   +0.15%\n",
              "12        13        14     NaN                MATLAB   1.17%   -0.20%\n",
              "13        14        10     NaN     Assembly language   1.12%   -0.69%\n",
              "14        15        15     NaN                  Ruby   1.02%   -0.32%\n",
              "15        16        20     NaN                PL/SQL   0.99%   -0.03%\n",
              "16        17        16     NaN  Classic Visual Basic   0.89%   -0.43%\n",
              "17        18        13     NaN                  Perl   0.88%   -0.51%\n",
              "18        19        28     NaN               Scratch   0.83%   +0.32%\n",
              "19        20        11     NaN           Objective-C   0.80%   -0.83%"
            ]
          },
          "metadata": {
            "tags": []
          },
          "execution_count": 63
        }
      ]
    },
    {
      "cell_type": "code",
      "metadata": {
        "id": "EpgGZxLZvpPJ",
        "colab": {
          "base_uri": "https://localhost:8080/",
          "height": 34
        },
        "outputId": "a00ae564-7525-4315-c43e-87ba76feb26b"
      },
      "source": [
        "df.to_csv('อันภาษาเขียนโปรแกรมยอดนิยม.csv')\n",
        "df.to_excel('อันภาษาเขียนโปรแกรมยอดนิยม.xlsx')\n",
        "!ls"
      ],
      "execution_count": null,
      "outputs": [
        {
          "output_type": "stream",
          "text": [
            "อันภาษาเขียนโปรแกรมยอดนิยม.csv  sample_data  อันภาษาเขียนโปรแกรมยอดนิยม.xlsx\n"
          ],
          "name": "stdout"
        }
      ]
    },
    {
      "cell_type": "markdown",
      "metadata": {
        "id": "4-Mo6k8Bpj1S"
      },
      "source": [
        "# ฝากติดตาม\n",
        "\n",
        "<img height=\"20px\" src=\"https://www.patanasongsivilai.com/blog/wp-content/uploads/2017/06/logo_facebook2.png\" align=\"left\" hspace=\"10px\" vspace=\"0px\">  https://www.facebook.com/programmerthai/\n",
        "\n",
        "<img height=\"14px\" src=\"https://www.patanasongsivilai.com/blog/wp-content/uploads/2019/03/youtube.png\" align=\"left\" hspace=\"10px\" vspace=\"3px\">  https://www.youtube.com/channel/UCvhCKtG5cRE6K5--RJPql_w\n",
        "\n",
        "<img height=\"14px\" src=\"https://www.patanasongsivilai.com/blog/wp-content/uploads/2019/09/github-2.jpg\" align=\"left\" hspace=\"10px\" vspace=\"3px\">https://github.com/adminho/machine-learning"
      ]
    },
    {
      "cell_type": "code",
      "metadata": {
        "id": "8BqjHnN_pl9f",
        "cellView": "form",
        "colab": {
          "base_uri": "https://localhost:8080/",
          "height": 608
        },
        "outputId": "66cb4a65-8208-42b4-fbcd-b2873b2696e8"
      },
      "source": [
        "#@title ฝากประชาสัมพันธ์ หนังสือ AI (ปัญญาประดิษฐ์) ไม่ยาก เรียนรู้ได้ด้วยเลขม. ปลาย ราคา 295 บาท\n",
        "%%HTML\n",
        "<iframe src=\"https://www.facebook.com/plugins/post.php?href=https%3A%2F%2Fwww.facebook.com%2Fprogrammerthai%2Fphotos%2Fa.2410667485889755%2F2555677101388792%2F%3Ftype%3D3&width=500\" width=\"500\" height=\"588\" style=\"border:none;overflow:hidden\" scrolling=\"no\" frameborder=\"0\" allowTransparency=\"true\" allow=\"encrypted-media\"></iframe>"
      ],
      "execution_count": null,
      "outputs": [
        {
          "output_type": "display_data",
          "data": {
            "text/html": [
              "<iframe src=\"https://www.facebook.com/plugins/post.php?href=https%3A%2F%2Fwww.facebook.com%2Fprogrammerthai%2Fphotos%2Fa.2410667485889755%2F2555677101388792%2F%3Ftype%3D3&width=500\" width=\"500\" height=\"588\" style=\"border:none;overflow:hidden\" scrolling=\"no\" frameborder=\"0\" allowTransparency=\"true\" allow=\"encrypted-media\"></iframe>"
            ],
            "text/plain": [
              "<IPython.core.display.HTML object>"
            ]
          },
          "metadata": {
            "tags": []
          }
        }
      ]
    }
  ]
}