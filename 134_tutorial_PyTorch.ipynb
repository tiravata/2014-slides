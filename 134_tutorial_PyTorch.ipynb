{
  "nbformat": 4,
  "nbformat_minor": 0,
  "metadata": {
    "colab": {
      "name": "134_tutorial_PyTorch.ipynb",
      "provenance": [],
      "collapsed_sections": [],
      "toc_visible": true,
      "include_colab_link": true
    },
    "kernelspec": {
      "name": "python3",
      "display_name": "Python 3"
    },
    "accelerator": "GPU"
  },
  "cells": [
    {
      "cell_type": "markdown",
      "metadata": {
        "id": "view-in-github",
        "colab_type": "text"
      },
      "source": [
        "<a href=\"https://colab.research.google.com/github/tiravata/2014-slides/blob/master/134_tutorial_PyTorch.ipynb\" target=\"_parent\"><img src=\"https://colab.research.google.com/assets/colab-badge.svg\" alt=\"Open In Colab\"/></a>"
      ]
    },
    {
      "cell_type": "markdown",
      "metadata": {
        "id": "9RhDqBGYX38E"
      },
      "source": [
        "<div><img height=\"45px\" src=\"https://avatars3.githubusercontent.com/u/20337240?s=460&v=4\" align=\"left\" hspace=\"10px\" vspace=\"0px\">\n",
        "</div>\n",
        "<h1>ติวเตอร์ PyTorch</h1>\n",
        "\n",
        "<hr>\n",
        "\n",
        "<a href='https://www.facebook.com/programmerthai'><font color='green'>สรุปและเรียบเรียงโดย โปรแกรมเมอร์ไทย thai programmer</font></a>\n",
        "\n"
      ]
    },
    {
      "cell_type": "markdown",
      "metadata": {
        "id": "M436XDHdPgDt"
      },
      "source": [
        "cite\n",
        "\n",
        "https://colab.research.google.com/github/madewithml/lessons/blob/master/notebooks/01_Foundations/06_PyTorch.ipynb\n",
        "\n",
        "https://medium.com/dair-ai/pytorch-1-2-quickstart-with-google-colab-6690a30c38d"
      ]
    },
    {
      "cell_type": "markdown",
      "metadata": {
        "id": "aTCt2YcX1zqS"
      },
      "source": [
        "# วิธีใช้งาน colab\n",
        "\n",
        "Colab พัฒนาโดย google เป็นหน้าเว็บเอาไว้ใช้เขียนโค้ด python ได้ผ่านทางหน้าเว็บ และเชื่อมต่อกับ google drive ของเราก็ได้ด้วย ซึ่ง colab หน้านี้**ได้รวบรวมเนื้อหา Python ของม.ต้น** เอาไว้ แต่ก่อนอื่นอยากให้ดูวิธีการใช้งาน colab เสียก่อน\n",
        "\n",
        "<font color='red'>** ต้องมี Gmail และ google drive</font>\n",
        "\n",
        "<hr/>\n",
        "\n",
        "<h3>วิธี 1) กด \"Open in playgrouhd\"</h3>\n",
        "<div>\n",
        "<img height=\"200px\" src=\"https://www.patanasongsivilai.com/blog/wp-content/uploads/2020/05/python_matayom_4.png\" align=\"center\" hspace=\"10px\" vspace=\"0px\">\n",
        "\n",
        "\n",
        "<hr/>\n",
        "\n",
        "<h3>วิธี 2) กด Save a copy in Drive ... เพื่อบันทึกไว้ google drive เครื่องเรา</h3>\n",
        "\n",
        "<img height=\"300px\" src=\"https://www.patanasongsivilai.com/blog/wp-content/uploads/2019/11/python_matayom_1.png\" align=\"center\" hspace=\"10px\" vspace=\"0px\">\n",
        "\n",
        "<br/>\n",
        "\n",
        "<img height=\"200px\" src=\"https://www.patanasongsivilai.com/blog/wp-content/uploads/2019/11/python_matayom_2.png\" align=\"center\" hspace=\"10px\" vspace=\"0px\">\n",
        "\n",
        "<hr/>\n",
        "\n",
        "<h3>จากนั้นถึงจะสามารถรันได้</h3>\n",
        "<img height=\"200px\" src=\"https://www.patanasongsivilai.com/blog/wp-content/uploads/2019/11/python_matayom_3.png\" align=\"center\" hspace=\"10px\" vspace=\"0px\">"
      ]
    },
    {
      "cell_type": "markdown",
      "metadata": {
        "id": "rhPrez4-PvcT"
      },
      "source": [
        "# Set Environments"
      ]
    },
    {
      "cell_type": "code",
      "metadata": {
        "id": "-SCJLziAO8RB"
      },
      "source": [
        "import numpy as np\n",
        "import torch"
      ],
      "execution_count": null,
      "outputs": []
    },
    {
      "cell_type": "markdown",
      "metadata": {
        "id": "cWOdBn5cZ39p"
      },
      "source": [
        "# ใช้งาน GPUs"
      ]
    },
    {
      "cell_type": "markdown",
      "metadata": {
        "id": "P64NYEJxYO8-"
      },
      "source": [
        "ตรวจสอบใช้งาน CUDA หรือไม่"
      ]
    },
    {
      "cell_type": "code",
      "metadata": {
        "id": "Jt9ac_cxZ4sq",
        "colab": {
          "base_uri": "https://localhost:8080/",
          "height": 35
        },
        "outputId": "a7494247-8159-4e57-f1d8-0827ec026400"
      },
      "source": [
        "# Is CUDA available now?\n",
        "print (torch.cuda.is_available())"
      ],
      "execution_count": null,
      "outputs": [
        {
          "output_type": "stream",
          "text": [
            "True\n"
          ],
          "name": "stdout"
        }
      ]
    },
    {
      "cell_type": "markdown",
      "metadata": {
        "id": "wBuB0CgOaEjk"
      },
      "source": [
        "ถ้า False แสดงว่า CUDA ไม่ได้เปิดใช้งาน\n",
        "\n",
        "แนะนำให้ไปที่  *Runtime* > *Change runtime type* > Change *Hardware accelertor* to *GPU* > Click *Save*"
      ]
    },
    {
      "cell_type": "code",
      "metadata": {
        "id": "UWjOy6ANaUr9",
        "colab": {
          "base_uri": "https://localhost:8080/",
          "height": 35
        },
        "outputId": "df74ceb7-f2a9-4506-f923-da4507f31e7a"
      },
      "source": [
        "# Set device\n",
        "device = torch.device('cuda' if torch.cuda.is_available() else 'cpu')\n",
        "print (device)"
      ],
      "execution_count": null,
      "outputs": [
        {
          "output_type": "stream",
          "text": [
            "cuda\n"
          ],
          "name": "stdout"
        }
      ]
    },
    {
      "cell_type": "markdown",
      "metadata": {
        "id": "tVitio1qY9jU"
      },
      "source": [
        "เลือกว่าจะใช้ tensor บน CPU หรือ GPU"
      ]
    },
    {
      "cell_type": "code",
      "metadata": {
        "id": "7_PyrWoiahCT",
        "colab": {
          "base_uri": "https://localhost:8080/",
          "height": 72
        },
        "outputId": "1cf1716b-424f-4966-d0c1-6e98e4a95f1e"
      },
      "source": [
        "x = torch.rand(2,3)\n",
        "print (x.is_cuda) # sTensor is store on the CPU\n",
        "\n",
        "x = torch.rand(2,3).to(device) # sTensor is stored on the GPU\n",
        "print (x.is_cuda)\n",
        "\n",
        "print( type(x) )"
      ],
      "execution_count": null,
      "outputs": [
        {
          "output_type": "stream",
          "text": [
            "False\n",
            "True\n",
            "<class 'torch.Tensor'>\n"
          ],
          "name": "stdout"
        }
      ]
    },
    {
      "cell_type": "markdown",
      "metadata": {
        "id": "03wrWSkBPllY"
      },
      "source": [
        "# Set seeds"
      ]
    },
    {
      "cell_type": "code",
      "metadata": {
        "id": "dIBFR3WWQB_U",
        "colab": {
          "base_uri": "https://localhost:8080/",
          "height": 35
        },
        "outputId": "ee3c94a3-98aa-4bc9-ab30-5e96545793d9"
      },
      "source": [
        "SEED = 1234\n",
        "\n",
        "# Set seed for reproducibility\n",
        "np.random.seed(seed=SEED)\n",
        "torch.manual_seed(SEED)"
      ],
      "execution_count": null,
      "outputs": [
        {
          "output_type": "execute_result",
          "data": {
            "text/plain": [
              "<torch._C.Generator at 0x7f21d77133f0>"
            ]
          },
          "metadata": {
            "tags": []
          },
          "execution_count": 67
        }
      ]
    },
    {
      "cell_type": "markdown",
      "metadata": {
        "id": "kAhMKSGaQKVf"
      },
      "source": [
        "# Basics"
      ]
    },
    {
      "cell_type": "markdown",
      "metadata": {
        "id": "BqY7w92IZq9r"
      },
      "source": [
        "ตัวอย่างสร้าง tensor ขนาด 2 x 3 ซึ่งสมาชิกข้างในมัน random ด้วยรูปแบบ uniform distribution"
      ]
    },
    {
      "cell_type": "code",
      "metadata": {
        "id": "4TzzmQsrQJ_m",
        "colab": {
          "base_uri": "https://localhost:8080/",
          "height": 108
        },
        "outputId": "31661ecc-694c-4ba0-ec4e-41e96d3ec237"
      },
      "source": [
        "# Creating a random tensor\n",
        "x = torch.randn(2, 3) # normal distribution (rand(2,3) -> uniform distribution)\n",
        "print(f\"Type: {x.type()}\")\n",
        "print(f\"Size: {x.shape}\")\n",
        "print(f\"Values: \\n{x}\")"
      ],
      "execution_count": null,
      "outputs": [
        {
          "output_type": "stream",
          "text": [
            "Type: torch.FloatTensor\n",
            "Size: torch.Size([2, 3])\n",
            "Values: \n",
            "tensor([[ 0.0461,  0.4024, -1.0115],\n",
            "        [ 0.2167, -0.6123,  0.5036]])\n"
          ],
          "name": "stdout"
        }
      ]
    },
    {
      "cell_type": "markdown",
      "metadata": {
        "id": "mdd7olTmZpDD"
      },
      "source": [
        "ตัวอย่างเรียกใช้ method ของ tensor (มีเยอะ)"
      ]
    },
    {
      "cell_type": "code",
      "metadata": {
        "id": "8sZhlWk1aIHB",
        "colab": {
          "base_uri": "https://localhost:8080/",
          "height": 254
        },
        "outputId": "a116e652-6d10-4022-abfe-79fd9bc93bec"
      },
      "source": [
        "print(x.data)\n",
        "print(x.values)\n",
        "print(x.min())\n",
        "print(x.max())\n",
        "print(x.pow(3))\n",
        "print(x.sigmoid())\n",
        "print(x.sin())\n",
        "print(x.std())\n",
        "print(x.sum())"
      ],
      "execution_count": null,
      "outputs": [
        {
          "output_type": "stream",
          "text": [
            "tensor([[ 0.0461,  0.4024, -1.0115],\n",
            "        [ 0.2167, -0.6123,  0.5036]])\n",
            "<built-in method values of Tensor object at 0x7f21d38abd80>\n",
            "tensor(-1.0115)\n",
            "tensor(0.5036)\n",
            "tensor([[ 9.8167e-05,  6.5160e-02, -1.0350e+00],\n",
            "        [ 1.0181e-02, -2.2953e-01,  1.2773e-01]])\n",
            "tensor([[0.5115, 0.5993, 0.2667],\n",
            "        [0.5540, 0.3515, 0.6233]])\n",
            "tensor([[ 0.0461,  0.3916, -0.8476],\n",
            "        [ 0.2150, -0.5747,  0.4826]])\n",
            "tensor(0.6047)\n",
            "tensor(-0.4549)\n"
          ],
          "name": "stdout"
        }
      ]
    },
    {
      "cell_type": "markdown",
      "metadata": {
        "id": "_ikSLOAkawto"
      },
      "source": [
        "ตัวอย่างสร้าง tensor ขนาด 2x3 ที่สมาชิกเป็น 0 กับ 1"
      ]
    },
    {
      "cell_type": "code",
      "metadata": {
        "id": "VirKytLKQZoz",
        "colab": {
          "base_uri": "https://localhost:8080/",
          "height": 90
        },
        "outputId": "7a1d6e3b-1e47-48f6-b820-8c7392f4fafe"
      },
      "source": [
        "# Zero and Ones tensor\n",
        "x = torch.zeros(2, 3)\n",
        "print (x)\n",
        "x = torch.ones(2, 3)\n",
        "print (x)"
      ],
      "execution_count": null,
      "outputs": [
        {
          "output_type": "stream",
          "text": [
            "tensor([[0., 0., 0.],\n",
            "        [0., 0., 0.]])\n",
            "tensor([[1., 1., 1.],\n",
            "        [1., 1., 1.]])\n"
          ],
          "name": "stdout"
        }
      ]
    },
    {
      "cell_type": "markdown",
      "metadata": {
        "id": "OqHVdEmpbFMw"
      },
      "source": [
        "แปลงชนิดข้อมูลจาก List เป็น Tensor"
      ]
    },
    {
      "cell_type": "code",
      "metadata": {
        "id": "-Lk5wo2xQdO8",
        "colab": {
          "base_uri": "https://localhost:8080/",
          "height": 90
        },
        "outputId": "129bd6f9-460d-4d68-d7d4-38e0f97c48ab"
      },
      "source": [
        "# List → Tensor\n",
        "x = torch.Tensor([[1, 2, 3],[4, 5, 6]])\n",
        "print(f\"Size: {x.shape}\")\n",
        "print(f\"Values: \\n{x}\")"
      ],
      "execution_count": null,
      "outputs": [
        {
          "output_type": "stream",
          "text": [
            "Size: torch.Size([2, 3])\n",
            "Values: \n",
            "tensor([[1., 2., 3.],\n",
            "        [4., 5., 6.]])\n"
          ],
          "name": "stdout"
        }
      ]
    },
    {
      "cell_type": "markdown",
      "metadata": {
        "id": "s6DdgzvHbODo"
      },
      "source": [
        "แปลงชนิดข้อมูลจาก Numpy เป็น Tensor"
      ]
    },
    {
      "cell_type": "code",
      "metadata": {
        "id": "v__N_kPsQhCk",
        "colab": {
          "base_uri": "https://localhost:8080/",
          "height": 90
        },
        "outputId": "d9420862-e4bd-4519-8b7e-9c1359a29585"
      },
      "source": [
        "# NumPy array → Tensor\n",
        "x = torch.Tensor(np.random.rand(2, 3))\n",
        "print(f\"Size: {x.shape}\")\n",
        "print(f\"Values: \\n{x}\")"
      ],
      "execution_count": null,
      "outputs": [
        {
          "output_type": "stream",
          "text": [
            "Size: torch.Size([2, 3])\n",
            "Values: \n",
            "tensor([[0.1915, 0.6221, 0.4377],\n",
            "        [0.7854, 0.7800, 0.2726]])\n"
          ],
          "name": "stdout"
        }
      ]
    },
    {
      "cell_type": "markdown",
      "metadata": {
        "id": "qi-_LJIocR3c"
      },
      "source": [
        "แปลงชนิดข้อมูลจาก DataFrame เป็น Tensor\n"
      ]
    },
    {
      "cell_type": "code",
      "metadata": {
        "id": "_Jjqp-TRcL0Y",
        "colab": {
          "base_uri": "https://localhost:8080/",
          "height": 308
        },
        "outputId": "82d37dbe-0123-4ea7-dd2d-c0e7bfb0928b"
      },
      "source": [
        "import pandas as pd\n",
        "\n",
        "df = pd.read_csv(\"https://download.mlcc.google.com/mledu-datasets/california_housing_train.csv\", sep=\",\")\n",
        "print(\"Size of dataframe:\", np.shape(df))\n",
        "\n",
        "#x = torch.from_numpy(df.values)\n",
        "x = torch.Tensor(df.values)\n",
        "\n",
        "print(f\"Size: {x.shape}\")\n",
        "print(f\"Values: \\n{x}\")"
      ],
      "execution_count": null,
      "outputs": [
        {
          "output_type": "stream",
          "text": [
            "Size of dataframe: (17000, 9)\n",
            "Size: torch.Size([17000, 9])\n",
            "Values: \n",
            "tensor([[-1.1431e+02,  3.4190e+01,  1.5000e+01,  ...,  4.7200e+02,\n",
            "          1.4936e+00,  6.6900e+04],\n",
            "        [-1.1447e+02,  3.4400e+01,  1.9000e+01,  ...,  4.6300e+02,\n",
            "          1.8200e+00,  8.0100e+04],\n",
            "        [-1.1456e+02,  3.3690e+01,  1.7000e+01,  ...,  1.1700e+02,\n",
            "          1.6509e+00,  8.5700e+04],\n",
            "        ...,\n",
            "        [-1.2430e+02,  4.1840e+01,  1.7000e+01,  ...,  4.5600e+02,\n",
            "          3.0313e+00,  1.0360e+05],\n",
            "        [-1.2430e+02,  4.1800e+01,  1.9000e+01,  ...,  4.7800e+02,\n",
            "          1.9797e+00,  8.5800e+04],\n",
            "        [-1.2435e+02,  4.0540e+01,  5.2000e+01,  ...,  2.7000e+02,\n",
            "          3.0147e+00,  9.4600e+04]])\n"
          ],
          "name": "stdout"
        }
      ]
    },
    {
      "cell_type": "markdown",
      "metadata": {
        "id": "q82TkC_nei3j"
      },
      "source": [
        "เปลี่ยนชนิดข้อมูลใน tensor\n"
      ]
    },
    {
      "cell_type": "code",
      "metadata": {
        "id": "BTXzb2wiQod2",
        "colab": {
          "base_uri": "https://localhost:8080/",
          "height": 54
        },
        "outputId": "2536c331-dde2-4b80-dcc0-319746759c4e"
      },
      "source": [
        "# Changing tensor type\n",
        "x = torch.Tensor(3, 4)\n",
        "print(f\"Type: {x.type()}\")\n",
        "x = x.long()\n",
        "print(f\"Type: {x.type()}\")"
      ],
      "execution_count": null,
      "outputs": [
        {
          "output_type": "stream",
          "text": [
            "Type: torch.FloatTensor\n",
            "Type: torch.LongTensor\n"
          ],
          "name": "stdout"
        }
      ]
    },
    {
      "cell_type": "markdown",
      "metadata": {
        "id": "CjraCELoQtSg"
      },
      "source": [
        "# ตัวดำนำการ (Operations)"
      ]
    },
    {
      "cell_type": "code",
      "metadata": {
        "id": "Coqtezc9QsyH",
        "colab": {
          "base_uri": "https://localhost:8080/",
          "height": 90
        },
        "outputId": "443df0dc-7f4b-4efa-d2d5-16d510e5c3a4"
      },
      "source": [
        "# Addition\n",
        "x = torch.randn(2, 3)\n",
        "y = torch.randn(2, 3)\n",
        "z = x + y\n",
        "print(f\"Size: {z.shape}\")\n",
        "print(f\"Values: \\n{z}\")"
      ],
      "execution_count": null,
      "outputs": [
        {
          "output_type": "stream",
          "text": [
            "Size: torch.Size([2, 3])\n",
            "Values: \n",
            "tensor([[ 0.0761, -0.6775, -0.3988],\n",
            "        [ 3.0633, -0.1589,  0.3514]])\n"
          ],
          "name": "stdout"
        }
      ]
    },
    {
      "cell_type": "markdown",
      "metadata": {
        "id": "0a3xvWo1fLMZ"
      },
      "source": [
        "บวกลบคูณหารแบบเมทริกซ์"
      ]
    },
    {
      "cell_type": "code",
      "metadata": {
        "id": "MfSl6-2CezQL",
        "colab": {
          "base_uri": "https://localhost:8080/",
          "height": 90
        },
        "outputId": "8c2c0416-fd95-48ea-eb3d-5cd3d357536b"
      },
      "source": [
        "a = torch.randn(2, 3)\n",
        "b = torch.randn(2, 3)\n",
        "c = torch.randn(2, 3)\n",
        "z = (a**2 - 4*b )/c\n",
        "print(f\"Size: {z.shape}\")\n",
        "print(f\"Values: \\n{z}\")"
      ],
      "execution_count": null,
      "outputs": [
        {
          "output_type": "stream",
          "text": [
            "Size: torch.Size([2, 3])\n",
            "Values: \n",
            "tensor([[ -0.9559, -12.4893,  10.9259],\n",
            "        [ -0.1228,   2.1366,   1.3720]])\n"
          ],
          "name": "stdout"
        }
      ]
    },
    {
      "cell_type": "markdown",
      "metadata": {
        "id": "wgAcsshqfUC8"
      },
      "source": [
        "การคูณเมทริกซ์"
      ]
    },
    {
      "cell_type": "code",
      "metadata": {
        "id": "U23XqPAsR3BA",
        "colab": {
          "base_uri": "https://localhost:8080/",
          "height": 90
        },
        "outputId": "8bf64d76-3d91-4783-8e6e-545d030490f3"
      },
      "source": [
        "# Dot product\n",
        "x = torch.randn(2, 3)\n",
        "y = torch.randn(3, 2)\n",
        "z = torch.mm(x, y)\n",
        "print(f\"Size: {z.shape}\")\n",
        "print(f\"Values: \\n{z}\")"
      ],
      "execution_count": null,
      "outputs": [
        {
          "output_type": "stream",
          "text": [
            "Size: torch.Size([2, 2])\n",
            "Values: \n",
            "tensor([[ 0.5177,  1.2599],\n",
            "        [-0.2197,  0.5813]])\n"
          ],
          "name": "stdout"
        }
      ]
    },
    {
      "cell_type": "markdown",
      "metadata": {
        "id": "vmfj5X8jfcjp"
      },
      "source": [
        "ทำทรานโพส"
      ]
    },
    {
      "cell_type": "code",
      "metadata": {
        "id": "VQDwh--fR-Mu",
        "colab": {
          "base_uri": "https://localhost:8080/",
          "height": 181
        },
        "outputId": "9ce964e4-1359-4f02-cbab-7bcb35c10c50"
      },
      "source": [
        "# Transpose\n",
        "x = torch.randn(2, 3)\n",
        "print(f\"Size: {x.shape}\")\n",
        "print(f\"Values: \\n{x}\")\n",
        "y = torch.t(x)\n",
        "print(f\"Size: {y.shape}\")\n",
        "print(f\"Values: \\n{y}\")"
      ],
      "execution_count": null,
      "outputs": [
        {
          "output_type": "stream",
          "text": [
            "Size: torch.Size([2, 3])\n",
            "Values: \n",
            "tensor([[0.2111, 0.3372, 0.6638],\n",
            "        [1.0397, 1.8434, 0.6588]])\n",
            "Size: torch.Size([3, 2])\n",
            "Values: \n",
            "tensor([[0.2111, 1.0397],\n",
            "        [0.3372, 1.8434],\n",
            "        [0.6638, 0.6588]])\n"
          ],
          "name": "stdout"
        }
      ]
    },
    {
      "cell_type": "markdown",
      "metadata": {
        "id": "GldY7GYVffur"
      },
      "source": [
        "เปลี่ยนขนาด"
      ]
    },
    {
      "cell_type": "code",
      "metadata": {
        "id": "jlxTl5oMSCQQ",
        "colab": {
          "base_uri": "https://localhost:8080/",
          "height": 308
        },
        "outputId": "177afb7e-5bfd-47ef-bfa8-9b0ef6ce9bad"
      },
      "source": [
        "# Reshape\n",
        "x = torch.randn(2, 3)\n",
        "print(f\"Size: {x.shape}\")\n",
        "print(f\"Values: \\n{x}\")\n",
        "\n",
        "z = x.view(3, 2)\n",
        "print(\"\\nAfter Reshape\")\n",
        "print(f\"Size: {z.shape}\")\n",
        "print(f\"Values: \\n{z}\")\n",
        "\n",
        "z = x.view(1, 6)\n",
        "print(\"\\nAfter Reshape\")\n",
        "print(f\"Size: {z.shape}\")\n",
        "print(f\"Values: \\n{z}\")"
      ],
      "execution_count": null,
      "outputs": [
        {
          "output_type": "stream",
          "text": [
            "Size: torch.Size([2, 3])\n",
            "Values: \n",
            "tensor([[-0.2349, -0.0306,  1.7462],\n",
            "        [-0.0722, -1.6794, -1.7010]])\n",
            "\n",
            "After Reshape\n",
            "Size: torch.Size([3, 2])\n",
            "Values: \n",
            "tensor([[-0.2349, -0.0306],\n",
            "        [ 1.7462, -0.0722],\n",
            "        [-1.6794, -1.7010]])\n",
            "\n",
            "After Reshape\n",
            "Size: torch.Size([1, 6])\n",
            "Values: \n",
            "tensor([[-0.2349, -0.0306,  1.7462, -0.0722, -1.6794, -1.7010]])\n"
          ],
          "name": "stdout"
        }
      ]
    },
    {
      "cell_type": "code",
      "metadata": {
        "id": "LW22hW1zSFod",
        "colab": {
          "base_uri": "https://localhost:8080/",
          "height": 654
        },
        "outputId": "80117edf-a02d-4b79-b2fc-ee4784c231fe"
      },
      "source": [
        "# Dangers of reshaping (unintended consequences)\n",
        "x = torch.tensor([\n",
        "    [[1,1,1,1], [2,2,2,2], [3,3,3,3]],\n",
        "    [[10,10,10,10], [20,20,20,20], [30,30,30,30]]\n",
        "])\n",
        "print(f\"Size: {x.shape}\")\n",
        "print(f\"x: \\n{x}\\n\")\n",
        "\n",
        "a = x.view(x.size(1), -1)\n",
        "print(f\"\\nSize: {a.shape}\")\n",
        "print(f\"a: \\n{a}\\n\")\n",
        "\n",
        "b = x.transpose(0,1).contiguous()\n",
        "print(f\"\\nSize: {b.shape}\")\n",
        "print(f\"b: \\n{b}\\n\")\n",
        "\n",
        "c = b.view(b.size(0), -1)\n",
        "print(f\"\\nSize: {c.shape}\")\n",
        "print(f\"c: \\n{c}\")"
      ],
      "execution_count": null,
      "outputs": [
        {
          "output_type": "stream",
          "text": [
            "Size: torch.Size([2, 3, 4])\n",
            "x: \n",
            "tensor([[[ 1,  1,  1,  1],\n",
            "         [ 2,  2,  2,  2],\n",
            "         [ 3,  3,  3,  3]],\n",
            "\n",
            "        [[10, 10, 10, 10],\n",
            "         [20, 20, 20, 20],\n",
            "         [30, 30, 30, 30]]])\n",
            "\n",
            "\n",
            "Size: torch.Size([3, 8])\n",
            "a: \n",
            "tensor([[ 1,  1,  1,  1,  2,  2,  2,  2],\n",
            "        [ 3,  3,  3,  3, 10, 10, 10, 10],\n",
            "        [20, 20, 20, 20, 30, 30, 30, 30]])\n",
            "\n",
            "\n",
            "Size: torch.Size([3, 2, 4])\n",
            "b: \n",
            "tensor([[[ 1,  1,  1,  1],\n",
            "         [10, 10, 10, 10]],\n",
            "\n",
            "        [[ 2,  2,  2,  2],\n",
            "         [20, 20, 20, 20]],\n",
            "\n",
            "        [[ 3,  3,  3,  3],\n",
            "         [30, 30, 30, 30]]])\n",
            "\n",
            "\n",
            "Size: torch.Size([3, 8])\n",
            "c: \n",
            "tensor([[ 1,  1,  1,  1, 10, 10, 10, 10],\n",
            "        [ 2,  2,  2,  2, 20, 20, 20, 20],\n",
            "        [ 3,  3,  3,  3, 30, 30, 30, 30]])\n"
          ],
          "name": "stdout"
        }
      ]
    },
    {
      "cell_type": "markdown",
      "metadata": {
        "id": "v_V2I7ephReh"
      },
      "source": [
        "operator แนวแกนตั้ง (คอลัมน์) หรือนอน (แถว)\n",
        "\n",
        "* dim = 0 คือแกนตั้ง\n",
        "* dim = 1 คือแกนนอน"
      ]
    },
    {
      "cell_type": "code",
      "metadata": {
        "id": "Ram2NLMBSOWg",
        "colab": {
          "base_uri": "https://localhost:8080/",
          "height": 145
        },
        "outputId": "8bbd5efc-f093-47ce-e7d7-d84a093259b4"
      },
      "source": [
        "# Dimensional operations\n",
        "x = torch.randn(2, 3)\n",
        "print(f\"Values: \\n{x}\")\n",
        "y = torch.sum(x, dim=0) # add each row's value for every column\n",
        "print(f\"Values: \\n{y}\")\n",
        "z = torch.sum(x, dim=1) # add each columns's value for every row\n",
        "print(f\"Values: \\n{z}\")"
      ],
      "execution_count": null,
      "outputs": [
        {
          "output_type": "stream",
          "text": [
            "Values: \n",
            "tensor([[ 0.6486,  1.7653,  1.0812],\n",
            "        [ 1.2436,  0.8971, -0.0784]])\n",
            "Values: \n",
            "tensor([1.8922, 2.6624, 1.0028])\n",
            "Values: \n",
            "tensor([3.4951, 2.0623])\n"
          ],
          "name": "stdout"
        }
      ]
    },
    {
      "cell_type": "markdown",
      "metadata": {
        "id": "ABDG21w6SVCB"
      },
      "source": [
        "# Indexing, Splicing and Joining"
      ]
    },
    {
      "cell_type": "markdown",
      "metadata": {
        "id": "SoMaSKijjRXU"
      },
      "source": [
        "ใช้ index เหมือนกับ numpy"
      ]
    },
    {
      "cell_type": "code",
      "metadata": {
        "id": "sBRVBHVASV6M",
        "colab": {
          "base_uri": "https://localhost:8080/",
          "height": 199
        },
        "outputId": "5ead8662-566c-4359-8af9-777109f278be"
      },
      "source": [
        "x = torch.randn(3, 4)\n",
        "print (f\"x: \\n{x}\")\n",
        "print (f\"x[:1]: \\n{x[:1]}\")\n",
        "print (f\"x[:1, 1:3]: \\n{x[:1, 1:3]}\")\n",
        "\n",
        "print(f\"x[1, 2]: \\n{x[1,2]}\")"
      ],
      "execution_count": null,
      "outputs": [
        {
          "output_type": "stream",
          "text": [
            "x: \n",
            "tensor([[ 0.5548, -0.0845,  0.5903, -1.0032],\n",
            "        [-1.7873,  0.0538,  0.8246, -0.5723],\n",
            "        [-0.4876,  0.1944, -1.0481, -0.0741]])\n",
            "x[:1]: \n",
            "tensor([[ 0.5548, -0.0845,  0.5903, -1.0032]])\n",
            "x[:1, 1:3]: \n",
            "tensor([[-0.0845,  0.5903]])\n",
            "x[1, 2]: \n",
            "0.8245806097984314\n"
          ],
          "name": "stdout"
        }
      ]
    },
    {
      "cell_type": "code",
      "metadata": {
        "id": "sdSG9HtSSaM2",
        "colab": {
          "base_uri": "https://localhost:8080/",
          "height": 163
        },
        "outputId": "558d62c2-bab8-48aa-aca6-e3eda929b431"
      },
      "source": [
        "# Select with dimensional indicies\n",
        "x = torch.randn(2, 3)\n",
        "print(f\"Values: \\n{x}\")\n",
        "\n",
        "col_indices = torch.LongTensor([0, 2])\n",
        "chosen = torch.index_select(x, dim=1, index=col_indices) # values from column 0 & 2\n",
        "print(f\"Values: \\n{chosen}\") \n",
        "\n",
        "row_indices = torch.LongTensor([0, 1])\n",
        "col_indices = torch.LongTensor([0, 2])\n",
        "chosen = x[row_indices, col_indices] # values from (0, 0) & (2, 1)\n",
        "print(f\"Values: \\n{chosen}\") "
      ],
      "execution_count": null,
      "outputs": [
        {
          "output_type": "stream",
          "text": [
            "Values: \n",
            "tensor([[-0.3449, -1.5447,  0.0685],\n",
            "        [-1.5104, -1.1706,  0.2259]])\n",
            "Values: \n",
            "tensor([[-0.3449,  0.0685],\n",
            "        [-1.5104,  0.2259]])\n",
            "Values: \n",
            "tensor([-0.3449,  0.2259])\n"
          ],
          "name": "stdout"
        }
      ]
    },
    {
      "cell_type": "markdown",
      "metadata": {
        "id": "7csQKgl9qNQ5"
      },
      "source": [
        "นำ tensor มาต่อกัน"
      ]
    },
    {
      "cell_type": "code",
      "metadata": {
        "id": "weem-nQkZe5C",
        "colab": {
          "base_uri": "https://localhost:8080/",
          "height": 163
        },
        "outputId": "e3bbbce0-21fe-4e81-ea35-fe871c958a78"
      },
      "source": [
        "# Concatenation\n",
        "x = torch.randn(2, 3)\n",
        "print(f\"Values: \\n{x}\")\n",
        "y = torch.cat([x, x], dim=0) # stack by rows (dim=1 to stack by columns)\n",
        "print(f\"Values: \\n{y}\")"
      ],
      "execution_count": null,
      "outputs": [
        {
          "output_type": "stream",
          "text": [
            "Values: \n",
            "tensor([[ 1.4696, -1.3284,  1.9946],\n",
            "        [-0.8209,  1.0061, -1.0664]])\n",
            "Values: \n",
            "tensor([[ 1.4696, -1.3284,  1.9946],\n",
            "        [-0.8209,  1.0061, -1.0664],\n",
            "        [ 1.4696, -1.3284,  1.9946],\n",
            "        [-0.8209,  1.0061, -1.0664]])\n"
          ],
          "name": "stdout"
        }
      ]
    },
    {
      "cell_type": "markdown",
      "metadata": {
        "id": "aQjfiSh5Zktp"
      },
      "source": [
        "# การหา Gradients"
      ]
    },
    {
      "cell_type": "code",
      "metadata": {
        "id": "g8ctBCVkZkJM",
        "colab": {
          "base_uri": "https://localhost:8080/",
          "height": 163
        },
        "outputId": "de9dd6e8-cd6b-4058-e72f-caca38c00556"
      },
      "source": [
        "# Tensors with gradient bookkeeping\n",
        "x = torch.rand(3, 4, requires_grad=True)\n",
        "y = 3*x + 2\n",
        "z = y.mean()\n",
        "z.backward() # z has to be scalar\n",
        "print(f\"x: \\n{x}\")\n",
        "print(f\"x.grad: \\n{x.grad}\")"
      ],
      "execution_count": null,
      "outputs": [
        {
          "output_type": "stream",
          "text": [
            "x: \n",
            "tensor([[0.0586, 0.8958, 0.5129, 0.7490],\n",
            "        [0.2254, 0.4485, 0.5658, 0.3631],\n",
            "        [0.9719, 0.2716, 0.6552, 0.1607]], requires_grad=True)\n",
            "x.grad: \n",
            "tensor([[0.2500, 0.2500, 0.2500, 0.2500],\n",
            "        [0.2500, 0.2500, 0.2500, 0.2500],\n",
            "        [0.2500, 0.2500, 0.2500, 0.2500]])\n"
          ],
          "name": "stdout"
        }
      ]
    },
    {
      "cell_type": "markdown",
      "metadata": {
        "id": "deQRLaI7KxWt"
      },
      "source": [
        "<img src=\"https://scontent.fnak3-1.fna.fbcdn.net/v/t1.0-9/s960x960/95531413_2612820449007790_578337313709359104_o.png?_nc_cat=108&_nc_sid=0be424&_nc_ohc=sAdGJkIzyLAAX8kWlN4&_nc_ht=scontent.fnak3-1.fna&oh=d98b75c0720670e946c83cecb8f8bdaa&oe=5F106E3C\" width=\"400\">"
      ]
    },
    {
      "cell_type": "markdown",
      "metadata": {
        "id": "NFi1Fw19K74Z"
      },
      "source": [
        "**ตัวอย่างโค้ดเพื่อแก้โจทย์ดังกล่าว**"
      ]
    },
    {
      "cell_type": "code",
      "metadata": {
        "id": "LWvLB33chsGI",
        "colab": {
          "base_uri": "https://localhost:8080/",
          "height": 35
        },
        "outputId": "06f0f0e6-a691-49c1-9a63-02f4255a8e3f"
      },
      "source": [
        "import torch\n",
        "x = torch.Tensor([0.1, 0.7])\n",
        "x.requires_grad=True\n",
        "y = x[0]**2 + 2*x[1] + 1\n",
        "z = 3*y - 1\n",
        "z.backward()\n",
        "\n",
        "print(x.grad)"
      ],
      "execution_count": null,
      "outputs": [
        {
          "output_type": "stream",
          "text": [
            "tensor([0.6000, 6.0000])\n"
          ],
          "name": "stdout"
        }
      ]
    },
    {
      "cell_type": "markdown",
      "metadata": {
        "id": "3GDcwGYDHXNF"
      },
      "source": [
        "# ฝากติดตาม\n",
        "\n",
        "<img height=\"20px\" src=\"https://www.patanasongsivilai.com/blog/wp-content/uploads/2017/06/logo_facebook2.png\" align=\"left\" hspace=\"10px\" vspace=\"0px\">  https://www.facebook.com/programmerthai/\n",
        "\n",
        "<img height=\"14px\" src=\"https://www.patanasongsivilai.com/blog/wp-content/uploads/2019/03/youtube.png\" align=\"left\" hspace=\"10px\" vspace=\"3px\">  https://www.youtube.com/channel/UCvhCKtG5cRE6K5--RJPql_w\n",
        "\n",
        "<img height=\"14px\" src=\"https://www.patanasongsivilai.com/blog/wp-content/uploads/2019/09/github-2.jpg\" align=\"left\" hspace=\"10px\" vspace=\"3px\">https://github.com/adminho/machine-learning"
      ]
    },
    {
      "cell_type": "code",
      "metadata": {
        "id": "1bFwAJh8HYi6",
        "cellView": "form",
        "colab": {
          "base_uri": "https://localhost:8080/",
          "height": 608
        },
        "outputId": "423364d1-7597-444e-9472-2dc22bb79b7a"
      },
      "source": [
        "#@title ฝากประชาสัมพันธ์ หนังสือ AI (ปัญญาประดิษฐ์) ไม่ยาก เรียนรู้ได้ด้วยเลขม. ปลาย ราคา 295 บาท\n",
        "%%HTML\n",
        "<iframe src=\"https://www.facebook.com/plugins/post.php?href=https%3A%2F%2Fwww.facebook.com%2Fprogrammerthai%2Fphotos%2Fa.2410667485889755%2F2555677101388792%2F%3Ftype%3D3&width=500\" width=\"500\" height=\"588\" style=\"border:none;overflow:hidden\" scrolling=\"no\" frameborder=\"0\" allowTransparency=\"true\" allow=\"encrypted-media\"></iframe>"
      ],
      "execution_count": null,
      "outputs": [
        {
          "output_type": "display_data",
          "data": {
            "text/html": [
              "<iframe src=\"https://www.facebook.com/plugins/post.php?href=https%3A%2F%2Fwww.facebook.com%2Fprogrammerthai%2Fphotos%2Fa.2410667485889755%2F2555677101388792%2F%3Ftype%3D3&width=500\" width=\"500\" height=\"588\" style=\"border:none;overflow:hidden\" scrolling=\"no\" frameborder=\"0\" allowTransparency=\"true\" allow=\"encrypted-media\"></iframe>"
            ],
            "text/plain": [
              "<IPython.core.display.HTML object>"
            ]
          },
          "metadata": {
            "tags": []
          }
        }
      ]
    }
  ]
}